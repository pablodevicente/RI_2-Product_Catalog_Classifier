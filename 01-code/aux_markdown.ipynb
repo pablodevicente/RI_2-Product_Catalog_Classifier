{
 "cells": [
  {
   "cell_type": "code",
   "id": "initial_id",
   "metadata": {
    "collapsed": true,
    "ExecuteTime": {
     "end_time": "2024-11-20T12:00:56.320171Z",
     "start_time": "2024-11-20T12:00:55.423551Z"
    }
   },
   "source": [
    "from spire.pdf.common import *\n",
    "from spire.pdf import *\n",
    "import pandas as pd\n",
    "import pdfplumber"
   ],
   "outputs": [],
   "execution_count": 5
  },
  {
   "metadata": {
    "ExecuteTime": {
     "end_time": "2024-11-20T12:00:56.720636Z",
     "start_time": "2024-11-20T12:00:56.716866Z"
    }
   },
   "cell_type": "code",
   "source": [
    "def extract_tables_from_pdf(pdf):\n",
    "    \"\"\"\n",
    "    Extracts tables from each page in the PDF and converts them to markdown format.\n",
    "    \"\"\"\n",
    "    all_tables = []\n",
    "    for page in pdf.pages:\n",
    "        for table in page.find_tables():\n",
    "            return table"
   ],
   "id": "39f0ecec7ca3e0b1",
   "outputs": [],
   "execution_count": 6
  },
  {
   "metadata": {
    "ExecuteTime": {
     "end_time": "2024-11-20T12:05:25.355870Z",
     "start_time": "2024-11-20T12:03:28.009536Z"
    }
   },
   "cell_type": "code",
   "source": [
    "pdf_path = \"/media/pablo/windows_files/00 - Master/05 - Research&Thesis/R2-Research_Internship_2/02-data/pdfs/accessories/2xx_M.pdf\"\n",
    "        \n",
    "pdf = pdfplumber.open(pdf_path)\n",
    "\n",
    "table = extract_tables_from_pdf(pdf)\n",
    "print(table.page)"
   ],
   "id": "268963fbb6f7c6ea",
   "outputs": [
    {
     "ename": "KeyboardInterrupt",
     "evalue": "",
     "output_type": "error",
     "traceback": [
      "\u001B[0;31m---------------------------------------------------------------------------\u001B[0m",
      "\u001B[0;31mKeyboardInterrupt\u001B[0m                         Traceback (most recent call last)",
      "Cell \u001B[0;32mIn[8], line 5\u001B[0m\n\u001B[1;32m      1\u001B[0m pdf_path \u001B[38;5;241m=\u001B[39m \u001B[38;5;124m\"\u001B[39m\u001B[38;5;124m/media/pablo/windows_files/00 - Master/05 - Research&Thesis/R2-Research_Internship_2/02-data/pdfs/accessories/2xx_M.pdf\u001B[39m\u001B[38;5;124m\"\u001B[39m\n\u001B[1;32m      3\u001B[0m pdf \u001B[38;5;241m=\u001B[39m pdfplumber\u001B[38;5;241m.\u001B[39mopen(pdf_path)\n\u001B[0;32m----> 5\u001B[0m table \u001B[38;5;241m=\u001B[39m extract_tables_from_pdf(pdf)\n",
      "File \u001B[0;32m~/.var/app/com.jetbrains.PyCharm-Community/data/JetBrains/pycharm-2024.2.4/plugins/python-ce/helpers/pydev/_pydevd_bundle/pydevd_frame.py:755\u001B[0m, in \u001B[0;36mPyDBFrame.trace_dispatch\u001B[0;34m(self, frame, event, arg)\u001B[0m\n\u001B[1;32m    753\u001B[0m \u001B[38;5;66;03m# if thread has a suspend flag, we suspend with a busy wait\u001B[39;00m\n\u001B[1;32m    754\u001B[0m \u001B[38;5;28;01mif\u001B[39;00m info\u001B[38;5;241m.\u001B[39mpydev_state \u001B[38;5;241m==\u001B[39m STATE_SUSPEND:\n\u001B[0;32m--> 755\u001B[0m     \u001B[38;5;28mself\u001B[39m\u001B[38;5;241m.\u001B[39mdo_wait_suspend(thread, frame, event, arg)\n\u001B[1;32m    756\u001B[0m     \u001B[38;5;66;03m# No need to reset frame.f_trace to keep the same trace function.\u001B[39;00m\n\u001B[1;32m    757\u001B[0m     \u001B[38;5;28;01mreturn\u001B[39;00m \u001B[38;5;28mself\u001B[39m\u001B[38;5;241m.\u001B[39mtrace_dispatch\n",
      "File \u001B[0;32m~/.var/app/com.jetbrains.PyCharm-Community/data/JetBrains/pycharm-2024.2.4/plugins/python-ce/helpers/pydev/_pydevd_bundle/pydevd_frame.py:412\u001B[0m, in \u001B[0;36mPyDBFrame.do_wait_suspend\u001B[0;34m(self, *args, **kwargs)\u001B[0m\n\u001B[1;32m    411\u001B[0m \u001B[38;5;28;01mdef\u001B[39;00m \u001B[38;5;21mdo_wait_suspend\u001B[39m(\u001B[38;5;28mself\u001B[39m, \u001B[38;5;241m*\u001B[39margs, \u001B[38;5;241m*\u001B[39m\u001B[38;5;241m*\u001B[39mkwargs):\n\u001B[0;32m--> 412\u001B[0m     \u001B[38;5;28mself\u001B[39m\u001B[38;5;241m.\u001B[39m_args[\u001B[38;5;241m0\u001B[39m]\u001B[38;5;241m.\u001B[39mdo_wait_suspend(\u001B[38;5;241m*\u001B[39margs, \u001B[38;5;241m*\u001B[39m\u001B[38;5;241m*\u001B[39mkwargs)\n",
      "File \u001B[0;32m~/.var/app/com.jetbrains.PyCharm-Community/data/JetBrains/pycharm-2024.2.4/plugins/python-ce/helpers/pydev/pydevd.py:1220\u001B[0m, in \u001B[0;36mPyDB.do_wait_suspend\u001B[0;34m(self, thread, frame, event, arg, send_suspend_message, is_unhandled_exception)\u001B[0m\n\u001B[1;32m   1217\u001B[0m         from_this_thread\u001B[38;5;241m.\u001B[39mappend(frame_id)\n\u001B[1;32m   1219\u001B[0m \u001B[38;5;28;01mwith\u001B[39;00m \u001B[38;5;28mself\u001B[39m\u001B[38;5;241m.\u001B[39m_threads_suspended_single_notification\u001B[38;5;241m.\u001B[39mnotify_thread_suspended(thread_id, stop_reason):\n\u001B[0;32m-> 1220\u001B[0m     \u001B[38;5;28mself\u001B[39m\u001B[38;5;241m.\u001B[39m_do_wait_suspend(thread, frame, event, arg, suspend_type, from_this_thread)\n",
      "File \u001B[0;32m~/.var/app/com.jetbrains.PyCharm-Community/data/JetBrains/pycharm-2024.2.4/plugins/python-ce/helpers/pydev/pydevd.py:1235\u001B[0m, in \u001B[0;36mPyDB._do_wait_suspend\u001B[0;34m(self, thread, frame, event, arg, suspend_type, from_this_thread)\u001B[0m\n\u001B[1;32m   1232\u001B[0m             \u001B[38;5;28mself\u001B[39m\u001B[38;5;241m.\u001B[39m_call_mpl_hook()\n\u001B[1;32m   1234\u001B[0m         \u001B[38;5;28mself\u001B[39m\u001B[38;5;241m.\u001B[39mprocess_internal_commands()\n\u001B[0;32m-> 1235\u001B[0m         time\u001B[38;5;241m.\u001B[39msleep(\u001B[38;5;241m0.01\u001B[39m)\n\u001B[1;32m   1237\u001B[0m \u001B[38;5;28mself\u001B[39m\u001B[38;5;241m.\u001B[39mcancel_async_evaluation(get_current_thread_id(thread), \u001B[38;5;28mstr\u001B[39m(\u001B[38;5;28mid\u001B[39m(frame)))\n\u001B[1;32m   1239\u001B[0m \u001B[38;5;66;03m# process any stepping instructions\u001B[39;00m\n",
      "\u001B[0;31mKeyboardInterrupt\u001B[0m: "
     ]
    }
   ],
   "execution_count": 8
  },
  {
   "metadata": {},
   "cell_type": "code",
   "outputs": [],
   "execution_count": null,
   "source": [
    "pdf = \"/media/pablo/windows_files/00 - Master/05 - Research&Thesis/R2-Research_Internship_2/02-data/pdfs/accessories/2xx_M.pdf\"\n",
    "# Create a PdfDocument object\n",
    "doc = PdfDocument()\n",
    "\n",
    "# Load a PDF file\n",
    "doc.LoadFromFile(pdf)\n",
    "\n",
    "# Loop through the pages in the PDF file\n",
    "for i in range(doc.Pages.Count):\n",
    "    page = doc.Pages[i]\n",
    "    \n",
    "    # Set the title and destination for the bookmark\n",
    "    bookmarkTitle = \"Bookmark-{0}\".format(i+1)\n",
    "    bookmarkDest = PdfDestination(page, PointF(0.0, 0.0))\n",
    "    \n",
    "    # Create and configure the bookmark\n",
    "    bookmark = doc.Bookmarks.Add(bookmarkTitle)\n",
    "    bookmark.Color = PdfRGBColor(Color.get_SaddleBrown())\n",
    "    bookmark.DisplayStyle = PdfTextStyle.Bold\n",
    "    bookmark.Action = PdfGoToAction(bookmarkDest)\n",
    "    \n",
    "    # Create a collection to hold child bookmarks\n",
    "    bookmarkColletion = PdfBookmarkCollection(bookmark)\n",
    "    \n",
    "    # Set the title and destination for the child bookmark\n",
    "    childBookmarkTitle = \"Sub-Bookmark-{0}\".format(i+1)\n",
    "    childBookmarkDest = PdfDestination(page, PointF(0.0, 100.0))\n",
    "    \n",
    "    # Create and configure the child bookmark\n",
    "    childBookmark = bookmarkColletion.Add(childBookmarkTitle)\n",
    "    childBookmark.Color = PdfRGBColor(Color.get_Coral())\n",
    "    childBookmark.DisplayStyle = PdfTextStyle.Italic\n",
    "    childBookmark.Action = PdfGoToAction(childBookmarkDest)\n",
    "\n",
    "# Save the PDF file\n",
    "outputFile = \"Bookmark.pdf\"\n",
    "doc.SaveToFile(outputFile)\n",
    "\n",
    "# Close the document\n",
    "doc.Close()"
   ],
   "id": "91264db2c757a11a"
  },
  {
   "metadata": {},
   "cell_type": "code",
   "outputs": [],
   "execution_count": null,
   "source": [
    "from spire.pdf import PdfDocument\n",
    "\n",
    "# Load the PDF\n",
    "pdf = PdfDocument(\"example.pdf\")\n",
    "\n",
    "# Step 1: Bookmark pages/sections with tables\n",
    "for i, page in enumerate(pdf.pages):\n",
    "    if contains_table(page):  # Custom function to detect tables\n",
    "        pdf.bookmarks.add(\"Table on Page \" + str(i + 1), i)\n",
    "\n",
    "# Step 2: Extract text excluding tables\n",
    "text = \"\"\n",
    "for i, page in enumerate(pdf.pages):\n",
    "    if not pdf.bookmarks.find_by_title(\"Table on Page \" + str(i + 1)):\n",
    "        text += page.extract_text()\n",
    "\n",
    "# Step 3: Append table data\n",
    "table_data = extract_tables(\"example.pdf\")  # Your existing table extraction function\n",
    "final_text = text + \"\\n\\n\" + table_data\n",
    "\n",
    "# Save combined result\n",
    "with open(\"output.txt\", \"w\") as f:\n",
    "    f.write(final_text)"
   ],
   "id": "f7861b478de79dce"
  },
  {
   "metadata": {
    "ExecuteTime": {
     "end_time": "2024-11-20T12:30:04.126100Z",
     "start_time": "2024-11-20T12:30:04.056868Z"
    }
   },
   "cell_type": "code",
   "source": [
    "from spire.pdf.common import *\n",
    "from spire.pdf import *\n",
    "\n",
    "# Create a PdfDocument object\n",
    "doc = PdfDocument()\n",
    "\n",
    "# Load a PDF file\n",
    "doc.LoadFromFile(\"/media/pablo/windows_files/00 - Master/05 - Research&Thesis/R2-Research_Internship_2/02-data/pdfs/accessories/2xx_M.pdf\")\n",
    "\n",
    "# Loop through the pages in the PDF file\n",
    "for i in range(doc.Pages.Count):\n",
    "    page = doc.Pages[i]\n",
    "    \n",
    "    # Set the title and destination for the bookmark\n",
    "    bookmarkTitle = \"Bookmark-{0}\".format(i+1)\n",
    "    bookmarkDest = PdfDestination(page, PointF(1.1, 1.1))\n",
    "    \n",
    "    # Create and configure the bookmark\n",
    "    bookmark = doc.Bookmarks.Add(bookmarkTitle)\n",
    "    bookmark.Color = PdfRGBColor(Color.get_SaddleBrown())\n",
    "    bookmark.DisplayStyle = PdfTextStyle.Bold\n",
    "    bookmark.Action = PdfGoToAction(bookmarkDest)\n",
    "    \n",
    "    # Create a collection to hold child bookmarks\n",
    "    bookmarkColletion = PdfBookmarkCollection(bookmark)\n",
    "    \n",
    "    # Set the title and destination for the child bookmark\n",
    "    childBookmarkTitle = \"Sub-Bookmark-{0}\".format(i+1)\n",
    "    childBookmarkDest = PdfDestination(page, PointF(0.0, 100.0))\n",
    "    \n",
    "    # Create and configure the child bookmark\n",
    "    childBookmark = bookmarkColletion.Add(childBookmarkTitle)\n",
    "    childBookmark.Color = PdfRGBColor(Color.get_Coral())\n",
    "    childBookmark.DisplayStyle = PdfTextStyle.Italic\n",
    "    childBookmark.Action = PdfGoToAction(childBookmarkDest)\n",
    "\n",
    "# Save the PDF file\n",
    "outputFile = \"/media/pablo/windows_files/00 - Master/05 - Research&Thesis/R2-Research_Internship_2/02-data/0-testing/Bookmark_test.pdf\"\n",
    "doc.SaveToFile(outputFile)\n",
    "\n",
    "# Close the document\n",
    "doc.Close()"
   ],
   "id": "5dfb22041e2edef2",
   "outputs": [],
   "execution_count": 10
  },
  {
   "metadata": {},
   "cell_type": "code",
   "outputs": [],
   "execution_count": null,
   "source": "",
   "id": "60cc1ff556709556"
  },
  {
   "metadata": {
    "ExecuteTime": {
     "end_time": "2024-11-20T12:36:13.419863Z",
     "start_time": "2024-11-20T12:36:13.330590Z"
    }
   },
   "cell_type": "code",
   "source": [
    "import pdfplumber\n",
    "\n",
    "\n",
    "def extract_text_from_pdf(pdf):\n",
    "    \"\"\"\n",
    "    Extracts text from each page in the PDF.\n",
    "    \"\"\"\n",
    "    all_text = []\n",
    "    for page in pdf.pages:\n",
    "        page_text = page.extract_text()\n",
    "        return page_text\n",
    "\n",
    "pdf_path = \"/media/pablo/windows_files/00 - Master/05 - Research&Thesis/R2-Research_Internship_2/02-data/pdfs/accessories/2xx_M.pdf\"\n",
    "pdf = pdfplumber.open(pdf_path)\n",
    "text_base = extract_text_from_pdf(pdf)\n"
   ],
   "id": "4da772a00fe75dac",
   "outputs": [],
   "execution_count": 14
  },
  {
   "metadata": {
    "ExecuteTime": {
     "end_time": "2024-11-20T12:36:33.443287Z",
     "start_time": "2024-11-20T12:36:33.435271Z"
    }
   },
   "cell_type": "code",
   "source": "text_base.",
   "id": "d0fe8d0258ddccfc",
   "outputs": [
    {
     "data": {
      "text/plain": [
       "10"
      ]
     },
     "execution_count": 16,
     "metadata": {},
     "output_type": "execute_result"
    }
   ],
   "execution_count": 16
  }
 ],
 "metadata": {
  "kernelspec": {
   "display_name": "Python 3",
   "language": "python",
   "name": "python3"
  },
  "language_info": {
   "codemirror_mode": {
    "name": "ipython",
    "version": 2
   },
   "file_extension": ".py",
   "mimetype": "text/x-python",
   "name": "python",
   "nbconvert_exporter": "python",
   "pygments_lexer": "ipython2",
   "version": "2.7.6"
  }
 },
 "nbformat": 4,
 "nbformat_minor": 5
}
