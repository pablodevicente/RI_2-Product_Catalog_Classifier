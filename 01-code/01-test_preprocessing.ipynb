{
 "cells": [
  {
   "cell_type": "code",
   "execution_count": 1,
   "metadata": {},
   "outputs": [
    {
     "name": "stderr",
     "output_type": "stream",
     "text": [
      "[nltk_data] Downloading package omw-1.4 to /home/pablo/nltk_data...\n",
      "[nltk_data]   Package omw-1.4 is already up-to-date!\n"
     ]
    }
   ],
   "source": [
    "from text_preprocessing import preprocess_text\n",
    "from text_preprocessing import to_lower, remove_email, remove_url, remove_punctuation, lemmatize_word"
   ]
  },
  {
   "cell_type": "code",
   "execution_count": 4,
   "metadata": {},
   "outputs": [
    {
     "name": "stderr",
     "output_type": "stream",
     "text": [
      "[nltk_data] Downloading package punkt_tab to /home/pablo/nltk_data...\n",
      "[nltk_data]   Unzipping tokenizers/punkt_tab.zip.\n"
     ]
    },
    {
     "data": {
      "text/plain": [
       "True"
      ]
     },
     "execution_count": 4,
     "metadata": {},
     "output_type": "execute_result"
    }
   ],
   "source": [
    "import nltk\n",
    "nltk.download('punkt_tab')"
   ]
  },
  {
   "cell_type": "code",
   "execution_count": null,
   "metadata": {},
   "outputs": [],
   "source": [
    "\"\"\"\n",
    "\n",
    "Transformations applied:\n",
    "\n",
    "\n",
    "rocessing_function_list = [to_lower,\n",
    "                            remove_url,\n",
    "                            remove_email,\n",
    "                            remove_phone_number,\n",
    "                            remove_itemized_bullet_and_numbering,\n",
    "                            expand_contraction,\n",
    "                            check_spelling,\n",
    "                            remove_special_character,\n",
    "                            remove_punctuation,\n",
    "                            remove_whitespace,\n",
    "                            normalize_unicode,\n",
    "                            remove_stopword,\n",
    "                            remove_name,\n",
    "                            substitute_token,\n",
    "                            lemmatize_word]\n",
    "\"\"\""
   ]
  },
  {
   "cell_type": "code",
   "execution_count": 5,
   "metadata": {},
   "outputs": [
    {
     "name": "stdout",
     "output_type": "stream",
     "text": [
      "hello email visit website\n",
      "helllo i am john doe my email is visit our website\n"
     ]
    }
   ],
   "source": [
    "# Preprocess text using default preprocess functions in the pipeline \n",
    "text_to_process = 'Helllo, I am John Doe!!! My email is john.doe@email.com. Visit our website www.johndoe.com'\n",
    "preprocessed_text = preprocess_text(text_to_process)\n",
    "print(preprocessed_text)\n",
    "# output: hello email visit website\n",
    "\n",
    "# Preprocess text using custom preprocess functions in the pipeline \n",
    "preprocess_functions = [to_lower, remove_email, remove_url, remove_punctuation, lemmatize_word]\n",
    "preprocessed_text = preprocess_text(text_to_process, preprocess_functions)\n",
    "print(preprocessed_text)\n",
    "# output: helllo i am john doe my email is visit our website"
   ]
  }
 ],
 "metadata": {
  "kernelspec": {
   "display_name": "Python 3",
   "language": "python",
   "name": "python3"
  },
  "language_info": {
   "codemirror_mode": {
    "name": "ipython",
    "version": 3
   },
   "file_extension": ".py",
   "mimetype": "text/x-python",
   "name": "python",
   "nbconvert_exporter": "python",
   "pygments_lexer": "ipython3",
   "version": "3.11.9"
  }
 },
 "nbformat": 4,
 "nbformat_minor": 2
}
