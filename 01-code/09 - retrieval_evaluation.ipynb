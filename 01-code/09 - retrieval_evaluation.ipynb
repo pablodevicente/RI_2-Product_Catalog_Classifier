{
 "cells": [
  {
   "cell_type": "code",
   "id": "initial_id",
   "metadata": {
    "collapsed": true,
    "ExecuteTime": {
     "end_time": "2025-05-26T09:18:57.633258Z",
     "start_time": "2025-05-26T09:18:54.474736Z"
    }
   },
   "source": [
    "import aux_document_retrieval_bm25 as aux_bm25\n",
    "import aux_document_retrieval_vsm as aux_vsm\n",
    "import aux_semantic_search as aux_semantics\n",
    "import aux_retrieval_evaluation as aux_retrieval\n",
    "import aux_document_retrieval_hybrid as aux_hybrid\n",
    "\n",
    "import pandas as pd\n",
    "from pathlib import Path\n",
    "import logging\n",
    "import nltk\n",
    "from dataclasses import dataclass\n",
    "import json\n",
    "import importlib\n",
    "\n",
    "\n",
    "importlib.reload(aux_vsm)\n",
    "importlib.reload(aux_bm25)\n",
    "importlib.reload(aux_semantics)\n",
    "importlib.reload(aux_retrieval)\n",
    "\n",
    "nltk.download('punkt_tab')\n"
   ],
   "outputs": [
    {
     "name": "stderr",
     "output_type": "stream",
     "text": [
      "2025-05-26 11:18:57,319 - numexpr.utils - INFO - NumExpr defaulting to 8 threads.\n",
      "[nltk_data] Downloading package punkt_tab to /home/pablo/nltk_data...\n",
      "[nltk_data]   Package punkt_tab is already up-to-date!\n"
     ]
    },
    {
     "data": {
      "text/plain": [
       "True"
      ]
     },
     "execution_count": 2,
     "metadata": {},
     "output_type": "execute_result"
    }
   ],
   "execution_count": 2
  },
  {
   "metadata": {
    "ExecuteTime": {
     "end_time": "2025-05-26T09:19:01.839048Z",
     "start_time": "2025-05-26T09:19:01.823560Z"
    }
   },
   "cell_type": "code",
   "source": [
    "## Basic enviroment setup\n",
    "\n",
    "paths = {\n",
    "    'word2vec': Path(\"../02-data/03-VSM/01-Word2Vec/word2vec-google-news-300.bin\"),\n",
    "    'idf_cache': Path(\"../02-data/03-VSM/idf_cache_path.pkl\"),\n",
    "    'word2vec_vsm_multivector': Path(\"../02-data/03-VSM/01-Word2Vec/word2vec-4-50-4-150-1.pkl\"),\n",
    "    'word2vec_vsm_singlevector': Path(\"../02-data/03-VSM/01-Word2Vec/word2vec-4-50-4-150-0.pkl\"),\n",
    "    'file': Path(\"../02-data/00-testing/batteries-non-rechargable-primary/1cr2/1cr2.txt\"),\n",
    "    'output_path': Path(\"../02-data/00-testing/batteries-non-rechargable-primary/1cr2/sentence_expansions.txt\"),\n",
    "    'pdf_folder': Path(\"../02-data/00-testing/\"),\n",
    "    'retriever': Path(\"../02-data/05-Retrieval/corpus_bm25\")\n",
    "}\n",
    "\n",
    "@dataclass\n",
    "class DocumentSection:\n",
    "    doc: str\n",
    "    label: str\n",
    "    query: str\n",
    "    \n",
    "with open(\"../02-data/06-Evaluation/document_queries.json\") as f:\n",
    "    raw = json.load(f)\n",
    "\n",
    "query_list_documents = [DocumentSection(**entry) for entry in raw]"
   ],
   "id": "87a8313a38dcb7a5",
   "outputs": [],
   "execution_count": 3
  },
  {
   "metadata": {},
   "cell_type": "code",
   "source": [
    "## VSM evaluation\n",
    "\n",
    "summary_vsm_df, results_map = aux_retrieval.evaluate_vsm_queries(\n",
    "    paths,\n",
    "    query_list_documents,\n",
    "    top_k=20,\n",
    "    use_multivector=True,\n",
    "    use_expansion=True\n",
    ")\n",
    "\n",
    "display(summary_vsm_df)\n",
    "display(results_map['1cr2'][:5])"
   ],
   "id": "db40275830ba5de4",
   "outputs": [],
   "execution_count": null
  },
  {
   "metadata": {
    "ExecuteTime": {
     "end_time": "2025-05-26T08:44:24.749848Z",
     "start_time": "2025-05-26T08:44:24.347310Z"
    }
   },
   "cell_type": "code",
   "source": [
    "## BM25 evaluation\n",
    "\n",
    "logging.disable(logging.CRITICAL) ##im just tired ok? this is it\n",
    "\n",
    "summary_bm25_df, results_bm25 = aux_retrieval.evaluate_queries(\n",
    "    paths=paths,\n",
    "    documents=query_list_documents,\n",
    "    top_k=20,\n",
    "    method=\"bm25\"\n",
    ")\n",
    "logging.disable(logging.NOTSET)"
   ],
   "id": "e396e34979bb585a",
   "outputs": [
    {
     "data": {
      "text/plain": [
       "Split strings:   0%|          | 0/1 [00:00<?, ?it/s]"
      ],
      "application/vnd.jupyter.widget-view+json": {
       "version_major": 2,
       "version_minor": 0,
       "model_id": "fe71ef66653d49f2aa4e716d7a6b9fde"
      }
     },
     "metadata": {},
     "output_type": "display_data"
    },
    {
     "data": {
      "text/plain": [
       "BM25S Retrieve:   0%|          | 0/1 [00:00<?, ?it/s]"
      ],
      "application/vnd.jupyter.widget-view+json": {
       "version_major": 2,
       "version_minor": 0,
       "model_id": "d8ff317859ee472b809986495c615e27"
      }
     },
     "metadata": {},
     "output_type": "display_data"
    },
    {
     "data": {
      "text/plain": [
       "Split strings:   0%|          | 0/1 [00:00<?, ?it/s]"
      ],
      "application/vnd.jupyter.widget-view+json": {
       "version_major": 2,
       "version_minor": 0,
       "model_id": "4f04088ed3bf434e9d12a58edaf15b44"
      }
     },
     "metadata": {},
     "output_type": "display_data"
    },
    {
     "data": {
      "text/plain": [
       "BM25S Retrieve:   0%|          | 0/1 [00:00<?, ?it/s]"
      ],
      "application/vnd.jupyter.widget-view+json": {
       "version_major": 2,
       "version_minor": 0,
       "model_id": "b3c7cd1d669543caa00eb0809ac3153d"
      }
     },
     "metadata": {},
     "output_type": "display_data"
    },
    {
     "data": {
      "text/plain": [
       "Split strings:   0%|          | 0/1 [00:00<?, ?it/s]"
      ],
      "application/vnd.jupyter.widget-view+json": {
       "version_major": 2,
       "version_minor": 0,
       "model_id": "15a37a232b194a7cb7997a311f21ef52"
      }
     },
     "metadata": {},
     "output_type": "display_data"
    },
    {
     "data": {
      "text/plain": [
       "BM25S Retrieve:   0%|          | 0/1 [00:00<?, ?it/s]"
      ],
      "application/vnd.jupyter.widget-view+json": {
       "version_major": 2,
       "version_minor": 0,
       "model_id": "3682e226e1964914b62bdffcc88f3202"
      }
     },
     "metadata": {},
     "output_type": "display_data"
    },
    {
     "data": {
      "text/plain": [
       "Split strings:   0%|          | 0/1 [00:00<?, ?it/s]"
      ],
      "application/vnd.jupyter.widget-view+json": {
       "version_major": 2,
       "version_minor": 0,
       "model_id": "d46f1aceb28c474fa8d336d815e61d5e"
      }
     },
     "metadata": {},
     "output_type": "display_data"
    },
    {
     "data": {
      "text/plain": [
       "BM25S Retrieve:   0%|          | 0/1 [00:00<?, ?it/s]"
      ],
      "application/vnd.jupyter.widget-view+json": {
       "version_major": 2,
       "version_minor": 0,
       "model_id": "422b1672678e4fee9d53caf87a78e9eb"
      }
     },
     "metadata": {},
     "output_type": "display_data"
    },
    {
     "data": {
      "text/plain": [
       "Split strings:   0%|          | 0/1 [00:00<?, ?it/s]"
      ],
      "application/vnd.jupyter.widget-view+json": {
       "version_major": 2,
       "version_minor": 0,
       "model_id": "6f37c3e3ee054700959a86d67ec2b380"
      }
     },
     "metadata": {},
     "output_type": "display_data"
    },
    {
     "data": {
      "text/plain": [
       "BM25S Retrieve:   0%|          | 0/1 [00:00<?, ?it/s]"
      ],
      "application/vnd.jupyter.widget-view+json": {
       "version_major": 2,
       "version_minor": 0,
       "model_id": "ac8467412b974af999d7aefa54ea2a1c"
      }
     },
     "metadata": {},
     "output_type": "display_data"
    },
    {
     "data": {
      "text/plain": [
       "Split strings:   0%|          | 0/1 [00:00<?, ?it/s]"
      ],
      "application/vnd.jupyter.widget-view+json": {
       "version_major": 2,
       "version_minor": 0,
       "model_id": "5dc69652c9fc4f93a129936a6dafad0d"
      }
     },
     "metadata": {},
     "output_type": "display_data"
    },
    {
     "data": {
      "text/plain": [
       "BM25S Retrieve:   0%|          | 0/1 [00:00<?, ?it/s]"
      ],
      "application/vnd.jupyter.widget-view+json": {
       "version_major": 2,
       "version_minor": 0,
       "model_id": "f280f02ab9bf426581985bc93253e1e9"
      }
     },
     "metadata": {},
     "output_type": "display_data"
    },
    {
     "data": {
      "text/plain": [
       "Split strings:   0%|          | 0/1 [00:00<?, ?it/s]"
      ],
      "application/vnd.jupyter.widget-view+json": {
       "version_major": 2,
       "version_minor": 0,
       "model_id": "e5262c65616f4afb8c7a4ec02204bede"
      }
     },
     "metadata": {},
     "output_type": "display_data"
    },
    {
     "data": {
      "text/plain": [
       "BM25S Retrieve:   0%|          | 0/1 [00:00<?, ?it/s]"
      ],
      "application/vnd.jupyter.widget-view+json": {
       "version_major": 2,
       "version_minor": 0,
       "model_id": "778b505aaf834f509e2d36f75d69a77f"
      }
     },
     "metadata": {},
     "output_type": "display_data"
    },
    {
     "data": {
      "text/plain": [
       "Split strings:   0%|          | 0/1 [00:00<?, ?it/s]"
      ],
      "application/vnd.jupyter.widget-view+json": {
       "version_major": 2,
       "version_minor": 0,
       "model_id": "c8a0e4572a374ace8311b2f8fc9688c1"
      }
     },
     "metadata": {},
     "output_type": "display_data"
    },
    {
     "data": {
      "text/plain": [
       "BM25S Retrieve:   0%|          | 0/1 [00:00<?, ?it/s]"
      ],
      "application/vnd.jupyter.widget-view+json": {
       "version_major": 2,
       "version_minor": 0,
       "model_id": "12282ea1021c4947987f3d48c4d9966e"
      }
     },
     "metadata": {},
     "output_type": "display_data"
    },
    {
     "data": {
      "text/plain": [
       "Split strings:   0%|          | 0/1 [00:00<?, ?it/s]"
      ],
      "application/vnd.jupyter.widget-view+json": {
       "version_major": 2,
       "version_minor": 0,
       "model_id": "3981f0ce76a540fb9daa31d48193ec0d"
      }
     },
     "metadata": {},
     "output_type": "display_data"
    },
    {
     "data": {
      "text/plain": [
       "BM25S Retrieve:   0%|          | 0/1 [00:00<?, ?it/s]"
      ],
      "application/vnd.jupyter.widget-view+json": {
       "version_major": 2,
       "version_minor": 0,
       "model_id": "f050d3a45f60494daee2004f07483c5e"
      }
     },
     "metadata": {},
     "output_type": "display_data"
    },
    {
     "data": {
      "text/plain": [
       "Split strings:   0%|          | 0/1 [00:00<?, ?it/s]"
      ],
      "application/vnd.jupyter.widget-view+json": {
       "version_major": 2,
       "version_minor": 0,
       "model_id": "30a0c5e50a5c45639be8f74e81fa36e3"
      }
     },
     "metadata": {},
     "output_type": "display_data"
    },
    {
     "data": {
      "text/plain": [
       "BM25S Retrieve:   0%|          | 0/1 [00:00<?, ?it/s]"
      ],
      "application/vnd.jupyter.widget-view+json": {
       "version_major": 2,
       "version_minor": 0,
       "model_id": "8789357115794ec9a0c536472f421bf3"
      }
     },
     "metadata": {},
     "output_type": "display_data"
    }
   ],
   "execution_count": 87
  },
  {
   "metadata": {},
   "cell_type": "code",
   "source": [
    "display(summary_bm25_df)\n",
    "display(results_bm25['1cr2'][:5])"
   ],
   "id": "4b9b6539bfada7e4",
   "outputs": [],
   "execution_count": null
  },
  {
   "metadata": {},
   "cell_type": "code",
   "source": [
    "summary_hybrid_df,results_hybrid = aux_retrieval.evaluate_hybrid_queries(\n",
    "    paths=paths,\n",
    "    documents=query_list_documents,\n",
    "    top_k=200,\n",
    "    weight_vsm=0.6,\n",
    "    weight_bm25=0.4,\n",
    "    norm_vsm='minmax',\n",
    "    norm_bm25='minmax',\n",
    "    use_expansion=True,\n",
    "    use_multivector=False,\n",
    ")"
   ],
   "id": "eb39f1c1bc590de7",
   "outputs": [],
   "execution_count": null
  },
  {
   "metadata": {},
   "cell_type": "code",
   "source": "summary_hybrid_df",
   "id": "c0ec3b3e0bddf916",
   "outputs": [],
   "execution_count": null
  },
  {
   "metadata": {},
   "cell_type": "code",
   "source": [
    "##make graphs pretty and whatnot\n",
    "\n",
    "import matplotlib.pyplot as plt\n",
    "\n",
    "# 1) Descriptive statistics\n",
    "stats = summary_df[[\n",
    "    'label_count_top5',\n",
    "    'label_count_top10',\n",
    "    'label_count_top20',\n",
    "    'matched_rank',\n",
    "    'matched_score'\n",
    "]].describe()\n",
    "print(\"Descriptive statistics:\\n\", stats)\n",
    "\n",
    "\n",
    "# 2) Histograms for each label_count_*\n",
    "for col in ['label_count_top5', 'label_count_top10', 'label_count_top20']:\n",
    "    plt.figure()\n",
    "    plt.hist(summary_df[col].dropna(), bins=range(0, summary_df[col].max() + 2))\n",
    "    plt.title(f'Histogram of {col}')\n",
    "    plt.xlabel(col)\n",
    "    plt.ylabel('Frequency')\n",
    "    plt.show()\n",
    "\n",
    "\n",
    "# 3) Scatter plot: matched_rank vs. label_count_top20\n",
    "#    (only for rows where matched_rank is not null)\n",
    "valid = summary_df.dropna(subset=['matched_rank'])\n",
    "plt.figure()\n",
    "plt.scatter(valid['matched_rank'], valid['label_count_top20'])\n",
    "plt.title('Matched Rank vs. Label Count Top20')\n",
    "plt.xlabel('Matched Rank')\n",
    "plt.ylabel('Label Count Top20')\n",
    "plt.show()"
   ],
   "id": "72c34427a1412c42",
   "outputs": [],
   "execution_count": null
  },
  {
   "metadata": {
    "ExecuteTime": {
     "end_time": "2025-05-26T08:38:06.717127Z",
     "start_time": "2025-05-26T08:37:30.015667Z"
    }
   },
   "cell_type": "code",
   "source": [
    "## run single query for word2vec\n",
    "top_k = 100\n",
    "use_expansion = True\n",
    "\n",
    "resources = aux_vsm.load_word2vec_resources(\n",
    "    paths,\n",
    "    use_multivector=False\n",
    ")\n",
    "query_runner = lambda q: aux_vsm.run_word2vec_query_preloaded(\n",
    "    resources=resources,\n",
    "    query=q,\n",
    "    top_k=top_k,\n",
    "    use_expansion=use_expansion\n",
    ")\n",
    "\n",
    "\n",
    "raw_result = query_runner(query_list_documents[0].query)\n",
    "df = pd.DataFrame(data = raw_result['results'])\n",
    "df\n"
   ],
   "id": "526b25da64176a18",
   "outputs": [
    {
     "data": {
      "text/plain": [
       "    rank                            doc_id     score  \\\n",
       "0      1            SR41-392-384-DATASHEET  0.728945   \n",
       "1      2                          392-384z  0.726830   \n",
       "2      3              GT-0905A-19-Feb-2019  0.723888   \n",
       "3      4  maxell-alkaline-battery-002-2014  0.718862   \n",
       "4      5                        MU064602-1  0.716878   \n",
       "..   ...                               ...       ...   \n",
       "95    96                 cms-16093-078x-67  0.685307   \n",
       "96    97                         cem-1212s  0.685244   \n",
       "97    98                cms-160925-18sp-x8  0.685211   \n",
       "98    99                     cds-15158-smt  0.685202   \n",
       "99   100                cms-181325-078x-67  0.685071   \n",
       "\n",
       "                                  parent                       grandparent  \n",
       "0             SR41-392-384-DATASHEET.txt            SR41-392-384-DATASHEET  \n",
       "1                           392-384z.txt                          392-384z  \n",
       "2               GT-0905A-19-Feb-2019.txt              GT-0905A-19-Feb-2019  \n",
       "3   maxell-alkaline-battery-002-2014.txt  maxell-alkaline-battery-002-2014  \n",
       "4                         MU064602-1.txt                        MU064602-1  \n",
       "..                                   ...                               ...  \n",
       "95                 cms-16093-078x-67.txt                 cms-16093-078x-67  \n",
       "96                         cem-1212s.txt                         cem-1212s  \n",
       "97                cms-160925-18sp-x8.txt                cms-160925-18sp-x8  \n",
       "98                     cds-15158-smt.txt                     cds-15158-smt  \n",
       "99                cms-181325-078x-67.txt                cms-181325-078x-67  \n",
       "\n",
       "[100 rows x 5 columns]"
      ],
      "text/html": [
       "<div>\n",
       "<style scoped>\n",
       "    .dataframe tbody tr th:only-of-type {\n",
       "        vertical-align: middle;\n",
       "    }\n",
       "\n",
       "    .dataframe tbody tr th {\n",
       "        vertical-align: top;\n",
       "    }\n",
       "\n",
       "    .dataframe thead th {\n",
       "        text-align: right;\n",
       "    }\n",
       "</style>\n",
       "<table border=\"1\" class=\"dataframe\">\n",
       "  <thead>\n",
       "    <tr style=\"text-align: right;\">\n",
       "      <th></th>\n",
       "      <th>rank</th>\n",
       "      <th>doc_id</th>\n",
       "      <th>score</th>\n",
       "      <th>parent</th>\n",
       "      <th>grandparent</th>\n",
       "    </tr>\n",
       "  </thead>\n",
       "  <tbody>\n",
       "    <tr>\n",
       "      <th>0</th>\n",
       "      <td>1</td>\n",
       "      <td>SR41-392-384-DATASHEET</td>\n",
       "      <td>0.728945</td>\n",
       "      <td>SR41-392-384-DATASHEET.txt</td>\n",
       "      <td>SR41-392-384-DATASHEET</td>\n",
       "    </tr>\n",
       "    <tr>\n",
       "      <th>1</th>\n",
       "      <td>2</td>\n",
       "      <td>392-384z</td>\n",
       "      <td>0.726830</td>\n",
       "      <td>392-384z.txt</td>\n",
       "      <td>392-384z</td>\n",
       "    </tr>\n",
       "    <tr>\n",
       "      <th>2</th>\n",
       "      <td>3</td>\n",
       "      <td>GT-0905A-19-Feb-2019</td>\n",
       "      <td>0.723888</td>\n",
       "      <td>GT-0905A-19-Feb-2019.txt</td>\n",
       "      <td>GT-0905A-19-Feb-2019</td>\n",
       "    </tr>\n",
       "    <tr>\n",
       "      <th>3</th>\n",
       "      <td>4</td>\n",
       "      <td>maxell-alkaline-battery-002-2014</td>\n",
       "      <td>0.718862</td>\n",
       "      <td>maxell-alkaline-battery-002-2014.txt</td>\n",
       "      <td>maxell-alkaline-battery-002-2014</td>\n",
       "    </tr>\n",
       "    <tr>\n",
       "      <th>4</th>\n",
       "      <td>5</td>\n",
       "      <td>MU064602-1</td>\n",
       "      <td>0.716878</td>\n",
       "      <td>MU064602-1.txt</td>\n",
       "      <td>MU064602-1</td>\n",
       "    </tr>\n",
       "    <tr>\n",
       "      <th>...</th>\n",
       "      <td>...</td>\n",
       "      <td>...</td>\n",
       "      <td>...</td>\n",
       "      <td>...</td>\n",
       "      <td>...</td>\n",
       "    </tr>\n",
       "    <tr>\n",
       "      <th>95</th>\n",
       "      <td>96</td>\n",
       "      <td>cms-16093-078x-67</td>\n",
       "      <td>0.685307</td>\n",
       "      <td>cms-16093-078x-67.txt</td>\n",
       "      <td>cms-16093-078x-67</td>\n",
       "    </tr>\n",
       "    <tr>\n",
       "      <th>96</th>\n",
       "      <td>97</td>\n",
       "      <td>cem-1212s</td>\n",
       "      <td>0.685244</td>\n",
       "      <td>cem-1212s.txt</td>\n",
       "      <td>cem-1212s</td>\n",
       "    </tr>\n",
       "    <tr>\n",
       "      <th>97</th>\n",
       "      <td>98</td>\n",
       "      <td>cms-160925-18sp-x8</td>\n",
       "      <td>0.685211</td>\n",
       "      <td>cms-160925-18sp-x8.txt</td>\n",
       "      <td>cms-160925-18sp-x8</td>\n",
       "    </tr>\n",
       "    <tr>\n",
       "      <th>98</th>\n",
       "      <td>99</td>\n",
       "      <td>cds-15158-smt</td>\n",
       "      <td>0.685202</td>\n",
       "      <td>cds-15158-smt.txt</td>\n",
       "      <td>cds-15158-smt</td>\n",
       "    </tr>\n",
       "    <tr>\n",
       "      <th>99</th>\n",
       "      <td>100</td>\n",
       "      <td>cms-181325-078x-67</td>\n",
       "      <td>0.685071</td>\n",
       "      <td>cms-181325-078x-67.txt</td>\n",
       "      <td>cms-181325-078x-67</td>\n",
       "    </tr>\n",
       "  </tbody>\n",
       "</table>\n",
       "<p>100 rows × 5 columns</p>\n",
       "</div>"
      ]
     },
     "execution_count": 85,
     "metadata": {},
     "output_type": "execute_result"
    }
   ],
   "execution_count": 85
  },
  {
   "metadata": {},
   "cell_type": "code",
   "source": [
    "logging.disable(logging.CRITICAL) ##im just tired ok? this is it  --- look more into it, does not seem right\n",
    "\n",
    "weight_results = aux_retrieval.optimize_hybrid_weights(aux_retrieval, paths, query_list_documents)\n",
    "display(weight_results)"
   ],
   "id": "b4e3d65df67342e",
   "outputs": [],
   "execution_count": null
  },
  {
   "metadata": {
    "ExecuteTime": {
     "end_time": "2025-05-26T08:35:44.471748Z",
     "start_time": "2025-05-26T08:35:44.462218Z"
    }
   },
   "cell_type": "code",
   "source": "display(weight_results)",
   "id": "5e8032e57e477ab8",
   "outputs": [
    {
     "data": {
      "text/plain": [
       "    weight_vsm  weight_bm25  median_rank  count_lt10\n",
       "0          0.9          0.1         97.5           1\n",
       "1          1.0          0.0         97.5           1\n",
       "2          0.8          0.2        102.5           1\n",
       "3          0.7          0.3        121.5           1\n",
       "4          0.6          0.4        142.5           1\n",
       "5          0.5          0.5        164.0           1\n",
       "6          0.4          0.6        188.5           0\n",
       "7          0.3          0.7        215.5           0\n",
       "8          0.2          0.8        239.0           0\n",
       "9          0.1          0.9        264.0           0\n",
       "10         0.0          1.0        287.0           0"
      ],
      "text/html": [
       "<div>\n",
       "<style scoped>\n",
       "    .dataframe tbody tr th:only-of-type {\n",
       "        vertical-align: middle;\n",
       "    }\n",
       "\n",
       "    .dataframe tbody tr th {\n",
       "        vertical-align: top;\n",
       "    }\n",
       "\n",
       "    .dataframe thead th {\n",
       "        text-align: right;\n",
       "    }\n",
       "</style>\n",
       "<table border=\"1\" class=\"dataframe\">\n",
       "  <thead>\n",
       "    <tr style=\"text-align: right;\">\n",
       "      <th></th>\n",
       "      <th>weight_vsm</th>\n",
       "      <th>weight_bm25</th>\n",
       "      <th>median_rank</th>\n",
       "      <th>count_lt10</th>\n",
       "    </tr>\n",
       "  </thead>\n",
       "  <tbody>\n",
       "    <tr>\n",
       "      <th>0</th>\n",
       "      <td>0.9</td>\n",
       "      <td>0.1</td>\n",
       "      <td>97.5</td>\n",
       "      <td>1</td>\n",
       "    </tr>\n",
       "    <tr>\n",
       "      <th>1</th>\n",
       "      <td>1.0</td>\n",
       "      <td>0.0</td>\n",
       "      <td>97.5</td>\n",
       "      <td>1</td>\n",
       "    </tr>\n",
       "    <tr>\n",
       "      <th>2</th>\n",
       "      <td>0.8</td>\n",
       "      <td>0.2</td>\n",
       "      <td>102.5</td>\n",
       "      <td>1</td>\n",
       "    </tr>\n",
       "    <tr>\n",
       "      <th>3</th>\n",
       "      <td>0.7</td>\n",
       "      <td>0.3</td>\n",
       "      <td>121.5</td>\n",
       "      <td>1</td>\n",
       "    </tr>\n",
       "    <tr>\n",
       "      <th>4</th>\n",
       "      <td>0.6</td>\n",
       "      <td>0.4</td>\n",
       "      <td>142.5</td>\n",
       "      <td>1</td>\n",
       "    </tr>\n",
       "    <tr>\n",
       "      <th>5</th>\n",
       "      <td>0.5</td>\n",
       "      <td>0.5</td>\n",
       "      <td>164.0</td>\n",
       "      <td>1</td>\n",
       "    </tr>\n",
       "    <tr>\n",
       "      <th>6</th>\n",
       "      <td>0.4</td>\n",
       "      <td>0.6</td>\n",
       "      <td>188.5</td>\n",
       "      <td>0</td>\n",
       "    </tr>\n",
       "    <tr>\n",
       "      <th>7</th>\n",
       "      <td>0.3</td>\n",
       "      <td>0.7</td>\n",
       "      <td>215.5</td>\n",
       "      <td>0</td>\n",
       "    </tr>\n",
       "    <tr>\n",
       "      <th>8</th>\n",
       "      <td>0.2</td>\n",
       "      <td>0.8</td>\n",
       "      <td>239.0</td>\n",
       "      <td>0</td>\n",
       "    </tr>\n",
       "    <tr>\n",
       "      <th>9</th>\n",
       "      <td>0.1</td>\n",
       "      <td>0.9</td>\n",
       "      <td>264.0</td>\n",
       "      <td>0</td>\n",
       "    </tr>\n",
       "    <tr>\n",
       "      <th>10</th>\n",
       "      <td>0.0</td>\n",
       "      <td>1.0</td>\n",
       "      <td>287.0</td>\n",
       "      <td>0</td>\n",
       "    </tr>\n",
       "  </tbody>\n",
       "</table>\n",
       "</div>"
      ]
     },
     "metadata": {},
     "output_type": "display_data"
    }
   ],
   "execution_count": 84
  },
  {
   "metadata": {
    "ExecuteTime": {
     "end_time": "2025-05-26T08:48:46.007880Z",
     "start_time": "2025-05-26T08:48:45.991056Z"
    }
   },
   "cell_type": "code",
   "source": [
    "display(results_bm25['1cr2'])\n",
    "display(df)"
   ],
   "id": "7e967ebddaeb5b7c",
   "outputs": [
    {
     "data": {
      "text/plain": [
       "      doc_id                                  doc_name  \\\n",
       "rank                                                     \n",
       "1         37                                       123   \n",
       "2         38                                      1cr2   \n",
       "3        509                           cms-402008-18sp   \n",
       "4        105          maxell-alkaline-battery-002-2014   \n",
       "5         60                           alkaline_appman   \n",
       "6        109                             MN1604_US_CT1   \n",
       "7        112                       Rayovac-Size-675-DS   \n",
       "8        101                                 LR927SPEC   \n",
       "9        100                                 LR920SPEC   \n",
       "10       451      b8f02bef-1186-4cc5-a988-70413df7148f   \n",
       "11        30                      GT-0905A-19-Feb-2019   \n",
       "12       184                      LN91-Industrial-0920   \n",
       "13       186                                LR1130SPEC   \n",
       "14       575                        cms-160925-18sp-x8   \n",
       "15       284      a19b940c-ee08-4eed-ad40-067ec064beea   \n",
       "16        58                               AAA4000C234   \n",
       "17       127                               AAA4000C210   \n",
       "18        83                              cr2477_jauch   \n",
       "19        66                              cr1220_jauch   \n",
       "20       420  73d56aa8cadd134fa76134f10f79f06b0bc188f8   \n",
       "\n",
       "                                  label     score  \n",
       "rank                                               \n",
       "1     batteries-non-rechargable-primary  5.875960  \n",
       "2     batteries-non-rechargable-primary  5.740847  \n",
       "3                              speakers  4.363099  \n",
       "4     batteries-non-rechargable-primary  4.257775  \n",
       "5     batteries-non-rechargable-primary  4.058401  \n",
       "6     batteries-non-rechargable-primary  4.015090  \n",
       "7     batteries-non-rechargable-primary  3.697664  \n",
       "8     batteries-non-rechargable-primary  3.651839  \n",
       "9     batteries-non-rechargable-primary  3.440841  \n",
       "10                             speakers  3.435011  \n",
       "11            alarms-buzzers-and-sirens  3.242385  \n",
       "12    batteries-non-rechargable-primary  3.167771  \n",
       "13    batteries-non-rechargable-primary  3.160748  \n",
       "14                             speakers  3.118615  \n",
       "15                          microphones  3.110662  \n",
       "16    batteries-non-rechargable-primary  3.075542  \n",
       "17    batteries-non-rechargable-primary  2.996561  \n",
       "18    batteries-non-rechargable-primary  2.973193  \n",
       "19    batteries-non-rechargable-primary  2.887796  \n",
       "20                printers-label-makers  2.868211  "
      ],
      "text/html": [
       "<div>\n",
       "<style scoped>\n",
       "    .dataframe tbody tr th:only-of-type {\n",
       "        vertical-align: middle;\n",
       "    }\n",
       "\n",
       "    .dataframe tbody tr th {\n",
       "        vertical-align: top;\n",
       "    }\n",
       "\n",
       "    .dataframe thead th {\n",
       "        text-align: right;\n",
       "    }\n",
       "</style>\n",
       "<table border=\"1\" class=\"dataframe\">\n",
       "  <thead>\n",
       "    <tr style=\"text-align: right;\">\n",
       "      <th></th>\n",
       "      <th>doc_id</th>\n",
       "      <th>doc_name</th>\n",
       "      <th>label</th>\n",
       "      <th>score</th>\n",
       "    </tr>\n",
       "    <tr>\n",
       "      <th>rank</th>\n",
       "      <th></th>\n",
       "      <th></th>\n",
       "      <th></th>\n",
       "      <th></th>\n",
       "    </tr>\n",
       "  </thead>\n",
       "  <tbody>\n",
       "    <tr>\n",
       "      <th>1</th>\n",
       "      <td>37</td>\n",
       "      <td>123</td>\n",
       "      <td>batteries-non-rechargable-primary</td>\n",
       "      <td>5.875960</td>\n",
       "    </tr>\n",
       "    <tr>\n",
       "      <th>2</th>\n",
       "      <td>38</td>\n",
       "      <td>1cr2</td>\n",
       "      <td>batteries-non-rechargable-primary</td>\n",
       "      <td>5.740847</td>\n",
       "    </tr>\n",
       "    <tr>\n",
       "      <th>3</th>\n",
       "      <td>509</td>\n",
       "      <td>cms-402008-18sp</td>\n",
       "      <td>speakers</td>\n",
       "      <td>4.363099</td>\n",
       "    </tr>\n",
       "    <tr>\n",
       "      <th>4</th>\n",
       "      <td>105</td>\n",
       "      <td>maxell-alkaline-battery-002-2014</td>\n",
       "      <td>batteries-non-rechargable-primary</td>\n",
       "      <td>4.257775</td>\n",
       "    </tr>\n",
       "    <tr>\n",
       "      <th>5</th>\n",
       "      <td>60</td>\n",
       "      <td>alkaline_appman</td>\n",
       "      <td>batteries-non-rechargable-primary</td>\n",
       "      <td>4.058401</td>\n",
       "    </tr>\n",
       "    <tr>\n",
       "      <th>6</th>\n",
       "      <td>109</td>\n",
       "      <td>MN1604_US_CT1</td>\n",
       "      <td>batteries-non-rechargable-primary</td>\n",
       "      <td>4.015090</td>\n",
       "    </tr>\n",
       "    <tr>\n",
       "      <th>7</th>\n",
       "      <td>112</td>\n",
       "      <td>Rayovac-Size-675-DS</td>\n",
       "      <td>batteries-non-rechargable-primary</td>\n",
       "      <td>3.697664</td>\n",
       "    </tr>\n",
       "    <tr>\n",
       "      <th>8</th>\n",
       "      <td>101</td>\n",
       "      <td>LR927SPEC</td>\n",
       "      <td>batteries-non-rechargable-primary</td>\n",
       "      <td>3.651839</td>\n",
       "    </tr>\n",
       "    <tr>\n",
       "      <th>9</th>\n",
       "      <td>100</td>\n",
       "      <td>LR920SPEC</td>\n",
       "      <td>batteries-non-rechargable-primary</td>\n",
       "      <td>3.440841</td>\n",
       "    </tr>\n",
       "    <tr>\n",
       "      <th>10</th>\n",
       "      <td>451</td>\n",
       "      <td>b8f02bef-1186-4cc5-a988-70413df7148f</td>\n",
       "      <td>speakers</td>\n",
       "      <td>3.435011</td>\n",
       "    </tr>\n",
       "    <tr>\n",
       "      <th>11</th>\n",
       "      <td>30</td>\n",
       "      <td>GT-0905A-19-Feb-2019</td>\n",
       "      <td>alarms-buzzers-and-sirens</td>\n",
       "      <td>3.242385</td>\n",
       "    </tr>\n",
       "    <tr>\n",
       "      <th>12</th>\n",
       "      <td>184</td>\n",
       "      <td>LN91-Industrial-0920</td>\n",
       "      <td>batteries-non-rechargable-primary</td>\n",
       "      <td>3.167771</td>\n",
       "    </tr>\n",
       "    <tr>\n",
       "      <th>13</th>\n",
       "      <td>186</td>\n",
       "      <td>LR1130SPEC</td>\n",
       "      <td>batteries-non-rechargable-primary</td>\n",
       "      <td>3.160748</td>\n",
       "    </tr>\n",
       "    <tr>\n",
       "      <th>14</th>\n",
       "      <td>575</td>\n",
       "      <td>cms-160925-18sp-x8</td>\n",
       "      <td>speakers</td>\n",
       "      <td>3.118615</td>\n",
       "    </tr>\n",
       "    <tr>\n",
       "      <th>15</th>\n",
       "      <td>284</td>\n",
       "      <td>a19b940c-ee08-4eed-ad40-067ec064beea</td>\n",
       "      <td>microphones</td>\n",
       "      <td>3.110662</td>\n",
       "    </tr>\n",
       "    <tr>\n",
       "      <th>16</th>\n",
       "      <td>58</td>\n",
       "      <td>AAA4000C234</td>\n",
       "      <td>batteries-non-rechargable-primary</td>\n",
       "      <td>3.075542</td>\n",
       "    </tr>\n",
       "    <tr>\n",
       "      <th>17</th>\n",
       "      <td>127</td>\n",
       "      <td>AAA4000C210</td>\n",
       "      <td>batteries-non-rechargable-primary</td>\n",
       "      <td>2.996561</td>\n",
       "    </tr>\n",
       "    <tr>\n",
       "      <th>18</th>\n",
       "      <td>83</td>\n",
       "      <td>cr2477_jauch</td>\n",
       "      <td>batteries-non-rechargable-primary</td>\n",
       "      <td>2.973193</td>\n",
       "    </tr>\n",
       "    <tr>\n",
       "      <th>19</th>\n",
       "      <td>66</td>\n",
       "      <td>cr1220_jauch</td>\n",
       "      <td>batteries-non-rechargable-primary</td>\n",
       "      <td>2.887796</td>\n",
       "    </tr>\n",
       "    <tr>\n",
       "      <th>20</th>\n",
       "      <td>420</td>\n",
       "      <td>73d56aa8cadd134fa76134f10f79f06b0bc188f8</td>\n",
       "      <td>printers-label-makers</td>\n",
       "      <td>2.868211</td>\n",
       "    </tr>\n",
       "  </tbody>\n",
       "</table>\n",
       "</div>"
      ]
     },
     "metadata": {},
     "output_type": "display_data"
    },
    {
     "data": {
      "text/plain": [
       "    rank                            doc_id     score  \\\n",
       "0      1            SR41-392-384-DATASHEET  0.728945   \n",
       "1      2                          392-384z  0.726830   \n",
       "2      3              GT-0905A-19-Feb-2019  0.723888   \n",
       "3      4  maxell-alkaline-battery-002-2014  0.718862   \n",
       "4      5                        MU064602-1  0.716878   \n",
       "..   ...                               ...       ...   \n",
       "95    96                 cms-16093-078x-67  0.685307   \n",
       "96    97                         cem-1212s  0.685244   \n",
       "97    98                cms-160925-18sp-x8  0.685211   \n",
       "98    99                     cds-15158-smt  0.685202   \n",
       "99   100                cms-181325-078x-67  0.685071   \n",
       "\n",
       "                                  parent                       grandparent  \n",
       "0             SR41-392-384-DATASHEET.txt            SR41-392-384-DATASHEET  \n",
       "1                           392-384z.txt                          392-384z  \n",
       "2               GT-0905A-19-Feb-2019.txt              GT-0905A-19-Feb-2019  \n",
       "3   maxell-alkaline-battery-002-2014.txt  maxell-alkaline-battery-002-2014  \n",
       "4                         MU064602-1.txt                        MU064602-1  \n",
       "..                                   ...                               ...  \n",
       "95                 cms-16093-078x-67.txt                 cms-16093-078x-67  \n",
       "96                         cem-1212s.txt                         cem-1212s  \n",
       "97                cms-160925-18sp-x8.txt                cms-160925-18sp-x8  \n",
       "98                     cds-15158-smt.txt                     cds-15158-smt  \n",
       "99                cms-181325-078x-67.txt                cms-181325-078x-67  \n",
       "\n",
       "[100 rows x 5 columns]"
      ],
      "text/html": [
       "<div>\n",
       "<style scoped>\n",
       "    .dataframe tbody tr th:only-of-type {\n",
       "        vertical-align: middle;\n",
       "    }\n",
       "\n",
       "    .dataframe tbody tr th {\n",
       "        vertical-align: top;\n",
       "    }\n",
       "\n",
       "    .dataframe thead th {\n",
       "        text-align: right;\n",
       "    }\n",
       "</style>\n",
       "<table border=\"1\" class=\"dataframe\">\n",
       "  <thead>\n",
       "    <tr style=\"text-align: right;\">\n",
       "      <th></th>\n",
       "      <th>rank</th>\n",
       "      <th>doc_id</th>\n",
       "      <th>score</th>\n",
       "      <th>parent</th>\n",
       "      <th>grandparent</th>\n",
       "    </tr>\n",
       "  </thead>\n",
       "  <tbody>\n",
       "    <tr>\n",
       "      <th>0</th>\n",
       "      <td>1</td>\n",
       "      <td>SR41-392-384-DATASHEET</td>\n",
       "      <td>0.728945</td>\n",
       "      <td>SR41-392-384-DATASHEET.txt</td>\n",
       "      <td>SR41-392-384-DATASHEET</td>\n",
       "    </tr>\n",
       "    <tr>\n",
       "      <th>1</th>\n",
       "      <td>2</td>\n",
       "      <td>392-384z</td>\n",
       "      <td>0.726830</td>\n",
       "      <td>392-384z.txt</td>\n",
       "      <td>392-384z</td>\n",
       "    </tr>\n",
       "    <tr>\n",
       "      <th>2</th>\n",
       "      <td>3</td>\n",
       "      <td>GT-0905A-19-Feb-2019</td>\n",
       "      <td>0.723888</td>\n",
       "      <td>GT-0905A-19-Feb-2019.txt</td>\n",
       "      <td>GT-0905A-19-Feb-2019</td>\n",
       "    </tr>\n",
       "    <tr>\n",
       "      <th>3</th>\n",
       "      <td>4</td>\n",
       "      <td>maxell-alkaline-battery-002-2014</td>\n",
       "      <td>0.718862</td>\n",
       "      <td>maxell-alkaline-battery-002-2014.txt</td>\n",
       "      <td>maxell-alkaline-battery-002-2014</td>\n",
       "    </tr>\n",
       "    <tr>\n",
       "      <th>4</th>\n",
       "      <td>5</td>\n",
       "      <td>MU064602-1</td>\n",
       "      <td>0.716878</td>\n",
       "      <td>MU064602-1.txt</td>\n",
       "      <td>MU064602-1</td>\n",
       "    </tr>\n",
       "    <tr>\n",
       "      <th>...</th>\n",
       "      <td>...</td>\n",
       "      <td>...</td>\n",
       "      <td>...</td>\n",
       "      <td>...</td>\n",
       "      <td>...</td>\n",
       "    </tr>\n",
       "    <tr>\n",
       "      <th>95</th>\n",
       "      <td>96</td>\n",
       "      <td>cms-16093-078x-67</td>\n",
       "      <td>0.685307</td>\n",
       "      <td>cms-16093-078x-67.txt</td>\n",
       "      <td>cms-16093-078x-67</td>\n",
       "    </tr>\n",
       "    <tr>\n",
       "      <th>96</th>\n",
       "      <td>97</td>\n",
       "      <td>cem-1212s</td>\n",
       "      <td>0.685244</td>\n",
       "      <td>cem-1212s.txt</td>\n",
       "      <td>cem-1212s</td>\n",
       "    </tr>\n",
       "    <tr>\n",
       "      <th>97</th>\n",
       "      <td>98</td>\n",
       "      <td>cms-160925-18sp-x8</td>\n",
       "      <td>0.685211</td>\n",
       "      <td>cms-160925-18sp-x8.txt</td>\n",
       "      <td>cms-160925-18sp-x8</td>\n",
       "    </tr>\n",
       "    <tr>\n",
       "      <th>98</th>\n",
       "      <td>99</td>\n",
       "      <td>cds-15158-smt</td>\n",
       "      <td>0.685202</td>\n",
       "      <td>cds-15158-smt.txt</td>\n",
       "      <td>cds-15158-smt</td>\n",
       "    </tr>\n",
       "    <tr>\n",
       "      <th>99</th>\n",
       "      <td>100</td>\n",
       "      <td>cms-181325-078x-67</td>\n",
       "      <td>0.685071</td>\n",
       "      <td>cms-181325-078x-67.txt</td>\n",
       "      <td>cms-181325-078x-67</td>\n",
       "    </tr>\n",
       "  </tbody>\n",
       "</table>\n",
       "<p>100 rows × 5 columns</p>\n",
       "</div>"
      ]
     },
     "metadata": {},
     "output_type": "display_data"
    }
   ],
   "execution_count": 93
  },
  {
   "metadata": {
    "ExecuteTime": {
     "end_time": "2025-05-26T09:23:04.257126Z",
     "start_time": "2025-05-26T09:22:39.558133Z"
    }
   },
   "cell_type": "code",
   "source": [
    "logging.basicConfig(\n",
    "    level=logging.ERROR,\n",
    "    format=\"%(asctime)s %(name)s [%(levelname)s] %(message)s\",\n",
    "    force=True\n",
    ")\n",
    "\n",
    "# Now all loggers (including your module’s) will use this new config.\n",
    "logger = logging.getLogger(__name__)\n",
    "logger.error(\"This is a test at error level\")\n",
    "\n",
    "importlib.reload(aux_vsm)\n",
    "top_k = 10\n",
    "use_expansion = True\n",
    "use_multivector = True\n",
    "\n",
    "resources = aux_vsm.load_word2vec_resources(paths, use_multivector=use_multivector)\n",
    "results = aux_vsm.run_word2vec_query_preloaded(resources, query_list_documents[0].query, top_k=top_k,use_expansion=use_expansion)"
   ],
   "id": "deeb3c02bee35fca",
   "outputs": [
    {
     "name": "stderr",
     "output_type": "stream",
     "text": [
      "2025-05-26 11:22:39,560 __main__ [ERROR] This is a test at error level\n"
     ]
    }
   ],
   "execution_count": 9
  },
  {
   "metadata": {
    "ExecuteTime": {
     "end_time": "2025-05-26T09:23:07.799934Z",
     "start_time": "2025-05-26T09:23:07.786066Z"
    }
   },
   "cell_type": "code",
   "source": [
    "df = pd.DataFrame.from_records(\n",
    "    [doc.__dict__ for doc in results.results.documents]\n",
    ")\n",
    "df"
   ],
   "id": "d7924903c17a41e6",
   "outputs": [
    {
     "data": {
      "text/plain": [
       "   rank                                doc_id     score  \\\n",
       "0     1  d9e2b7a7-5099-4612-b90a-796f8295ffd5  0.738324   \n",
       "1     2  8373d9aa-424a-4cf8-add9-8655f7a6700f  0.732933   \n",
       "2     3                SR41-392-384-DATASHEET  0.728945   \n",
       "3     4                              392-384z  0.726830   \n",
       "4     5                        pana-cr1220-ds  0.724038   \n",
       "5     6                     CR2477X-DATASHEET  0.723625   \n",
       "6     7      maxell-alkaline-battery-002-2014  0.721386   \n",
       "7     8                            MU064602-1  0.716878   \n",
       "8     9                             357-303zb  0.716344   \n",
       "9    10                          cms0401kl-3x  0.716249   \n",
       "\n",
       "                                 parent                        grandparent  \n",
       "0  d9e2b7a7-5099-4612-b90a-796f8295ffd5                        microphones  \n",
       "1  8373d9aa-424a-4cf8-add9-8655f7a6700f                        microphones  \n",
       "2                SR41-392-384-DATASHEET  batteries-non-rechargable-primary  \n",
       "3                              392-384z  batteries-non-rechargable-primary  \n",
       "4                        pana-cr1220-ds  batteries-non-rechargable-primary  \n",
       "5                     CR2477X-DATASHEET  batteries-non-rechargable-primary  \n",
       "6      maxell-alkaline-battery-002-2014  batteries-non-rechargable-primary  \n",
       "7                            MU064602-1                        microphones  \n",
       "8                             357-303zb  batteries-non-rechargable-primary  \n",
       "9                          cms0401kl-3x                           speakers  "
      ],
      "text/html": [
       "<div>\n",
       "<style scoped>\n",
       "    .dataframe tbody tr th:only-of-type {\n",
       "        vertical-align: middle;\n",
       "    }\n",
       "\n",
       "    .dataframe tbody tr th {\n",
       "        vertical-align: top;\n",
       "    }\n",
       "\n",
       "    .dataframe thead th {\n",
       "        text-align: right;\n",
       "    }\n",
       "</style>\n",
       "<table border=\"1\" class=\"dataframe\">\n",
       "  <thead>\n",
       "    <tr style=\"text-align: right;\">\n",
       "      <th></th>\n",
       "      <th>rank</th>\n",
       "      <th>doc_id</th>\n",
       "      <th>score</th>\n",
       "      <th>parent</th>\n",
       "      <th>grandparent</th>\n",
       "    </tr>\n",
       "  </thead>\n",
       "  <tbody>\n",
       "    <tr>\n",
       "      <th>0</th>\n",
       "      <td>1</td>\n",
       "      <td>d9e2b7a7-5099-4612-b90a-796f8295ffd5</td>\n",
       "      <td>0.738324</td>\n",
       "      <td>d9e2b7a7-5099-4612-b90a-796f8295ffd5</td>\n",
       "      <td>microphones</td>\n",
       "    </tr>\n",
       "    <tr>\n",
       "      <th>1</th>\n",
       "      <td>2</td>\n",
       "      <td>8373d9aa-424a-4cf8-add9-8655f7a6700f</td>\n",
       "      <td>0.732933</td>\n",
       "      <td>8373d9aa-424a-4cf8-add9-8655f7a6700f</td>\n",
       "      <td>microphones</td>\n",
       "    </tr>\n",
       "    <tr>\n",
       "      <th>2</th>\n",
       "      <td>3</td>\n",
       "      <td>SR41-392-384-DATASHEET</td>\n",
       "      <td>0.728945</td>\n",
       "      <td>SR41-392-384-DATASHEET</td>\n",
       "      <td>batteries-non-rechargable-primary</td>\n",
       "    </tr>\n",
       "    <tr>\n",
       "      <th>3</th>\n",
       "      <td>4</td>\n",
       "      <td>392-384z</td>\n",
       "      <td>0.726830</td>\n",
       "      <td>392-384z</td>\n",
       "      <td>batteries-non-rechargable-primary</td>\n",
       "    </tr>\n",
       "    <tr>\n",
       "      <th>4</th>\n",
       "      <td>5</td>\n",
       "      <td>pana-cr1220-ds</td>\n",
       "      <td>0.724038</td>\n",
       "      <td>pana-cr1220-ds</td>\n",
       "      <td>batteries-non-rechargable-primary</td>\n",
       "    </tr>\n",
       "    <tr>\n",
       "      <th>5</th>\n",
       "      <td>6</td>\n",
       "      <td>CR2477X-DATASHEET</td>\n",
       "      <td>0.723625</td>\n",
       "      <td>CR2477X-DATASHEET</td>\n",
       "      <td>batteries-non-rechargable-primary</td>\n",
       "    </tr>\n",
       "    <tr>\n",
       "      <th>6</th>\n",
       "      <td>7</td>\n",
       "      <td>maxell-alkaline-battery-002-2014</td>\n",
       "      <td>0.721386</td>\n",
       "      <td>maxell-alkaline-battery-002-2014</td>\n",
       "      <td>batteries-non-rechargable-primary</td>\n",
       "    </tr>\n",
       "    <tr>\n",
       "      <th>7</th>\n",
       "      <td>8</td>\n",
       "      <td>MU064602-1</td>\n",
       "      <td>0.716878</td>\n",
       "      <td>MU064602-1</td>\n",
       "      <td>microphones</td>\n",
       "    </tr>\n",
       "    <tr>\n",
       "      <th>8</th>\n",
       "      <td>9</td>\n",
       "      <td>357-303zb</td>\n",
       "      <td>0.716344</td>\n",
       "      <td>357-303zb</td>\n",
       "      <td>batteries-non-rechargable-primary</td>\n",
       "    </tr>\n",
       "    <tr>\n",
       "      <th>9</th>\n",
       "      <td>10</td>\n",
       "      <td>cms0401kl-3x</td>\n",
       "      <td>0.716249</td>\n",
       "      <td>cms0401kl-3x</td>\n",
       "      <td>speakers</td>\n",
       "    </tr>\n",
       "  </tbody>\n",
       "</table>\n",
       "</div>"
      ]
     },
     "execution_count": 10,
     "metadata": {},
     "output_type": "execute_result"
    }
   ],
   "execution_count": 10
  },
  {
   "metadata": {},
   "cell_type": "code",
   "outputs": [],
   "execution_count": null,
   "source": "",
   "id": "a209ef6594f8abbe"
  }
 ],
 "metadata": {
  "kernelspec": {
   "display_name": "Python 3",
   "language": "python",
   "name": "python3"
  },
  "language_info": {
   "codemirror_mode": {
    "name": "ipython",
    "version": 2
   },
   "file_extension": ".py",
   "mimetype": "text/x-python",
   "name": "python",
   "nbconvert_exporter": "python",
   "pygments_lexer": "ipython2",
   "version": "2.7.6"
  }
 },
 "nbformat": 4,
 "nbformat_minor": 5
}
