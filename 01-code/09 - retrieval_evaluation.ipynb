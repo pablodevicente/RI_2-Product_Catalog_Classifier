{
 "cells": [
  {
   "cell_type": "code",
   "id": "initial_id",
   "metadata": {
    "collapsed": true,
    "ExecuteTime": {
     "end_time": "2025-05-25T12:41:15.412021Z",
     "start_time": "2025-05-25T12:41:15.238646Z"
    }
   },
   "source": [
    "import aux_document_retrieval_bm25 as aux_bm25\n",
    "import aux_document_retrieval_vsm as aux_vsm\n",
    "import aux_semantic_search as aux_semantics\n",
    "import aux_retrieval_evaluation as aux_retrieval\n",
    "\n",
    "import aux_document_retrieval_hybrid as aux_hybrid\n",
    "import pandas as pd\n",
    "from pathlib import Path\n",
    "import logging\n",
    "import nltk\n",
    "from dataclasses import dataclass\n",
    "import json\n",
    "import importlib\n",
    "\n",
    "\n",
    "importlib.reload(aux_vsm)\n",
    "importlib.reload(aux_bm25)\n",
    "importlib.reload(aux_semantics)\n",
    "importlib.reload(aux_retrieval)\n",
    "\n",
    "nltk.download('punkt_tab')\n",
    "logger = logging.getLogger(__name__)\n",
    "\n",
    "def setup_logging():\n",
    "    logging.basicConfig(\n",
    "        level=logging.ERROR,\n",
    "        format=\"%(asctime)s - %(name)s - %(levelname)s - %(message)s\"\n",
    "    )\n",
    "\n",
    "setup_logging()"
   ],
   "outputs": [
    {
     "name": "stderr",
     "output_type": "stream",
     "text": [
      "[nltk_data] Downloading package punkt_tab to /home/pablo/nltk_data...\n",
      "[nltk_data]   Package punkt_tab is already up-to-date!\n"
     ]
    }
   ],
   "execution_count": 54
  },
  {
   "metadata": {
    "ExecuteTime": {
     "end_time": "2025-05-25T12:41:17.947901Z",
     "start_time": "2025-05-25T12:41:17.934853Z"
    }
   },
   "cell_type": "code",
   "source": [
    "## Basic enviroment setup\n",
    "\n",
    "paths = {\n",
    "    'word2vec': Path(\"../02-data/03-VSM/01-Word2Vec/word2vec-google-news-300.bin\"),\n",
    "    'idf_cache': Path(\"../02-data/03-VSM/idf_cache_path.pkl\"),\n",
    "    'word2vec_vsm_multivector': Path(\"../02-data/03-VSM/01-Word2Vec/word2vec-4-50-4-150-1.pkl\"),\n",
    "    'word2vec_vsm_singlevector': Path(\"../02-data/03-VSM/01-Word2Vec/word2vec-4-50-4-150-0.pkl\"),\n",
    "    'file': Path(\"../02-data/00-testing/batteries-non-rechargable-primary/1cr2/1cr2.txt\"),\n",
    "    'output_path': Path(\"../02-data/00-testing/batteries-non-rechargable-primary/1cr2/sentence_expansions.txt\"),\n",
    "    'pdf_folder': Path(\"../02-data/00-testing/\"),\n",
    "    'retriever': Path(\"../02-data/05-Retrieval/corpus_bm25\")\n",
    "}\n",
    "\n",
    "@dataclass\n",
    "class DocumentSection:\n",
    "    doc: str\n",
    "    label: str\n",
    "    query: str\n",
    "    \n",
    "with open(\"../02-data/06-Evaluation/document_queries.json\") as f:\n",
    "    raw = json.load(f)\n",
    "\n",
    "query_list_documents = [DocumentSection(**entry) for entry in raw]"
   ],
   "id": "87a8313a38dcb7a5",
   "outputs": [],
   "execution_count": 55
  },
  {
   "metadata": {
    "jupyter": {
     "is_executing": true
    },
    "ExecuteTime": {
     "start_time": "2025-05-25T12:41:20.611464Z"
    }
   },
   "cell_type": "code",
   "source": [
    "## VSM evaluation\n",
    "\n",
    "summary_df, results_map = aux_retrieval.evaluate_vsm_queries(\n",
    "    paths,\n",
    "    query_list_documents,\n",
    "    top_k=20,\n",
    "    use_multivector=True,\n",
    "    use_expansion=True\n",
    ")\n",
    "\n",
    "display(summary_df)\n",
    "display(results_map['1cr2'])"
   ],
   "id": "db40275830ba5de4",
   "outputs": [
    {
     "name": "stderr",
     "output_type": "stream",
     "text": [
      "2025-05-25 14:41:20,612 - root - INFO - Loading pre-trained Google News Word2Vec model...\n",
      "2025-05-25 14:41:20,614 - gensim.models.keyedvectors - INFO - loading projection weights from ../02-data/03-VSM/01-Word2Vec/word2vec-google-news-300.bin\n",
      "2025-05-25 14:41:50,818 - gensim.utils - INFO - KeyedVectors lifecycle event {'msg': 'loaded (3000000, 300) matrix of type float32 from ../02-data/03-VSM/01-Word2Vec/word2vec-google-news-300.bin', 'binary': True, 'encoding': 'utf8', 'datetime': '2025-05-25T14:41:50.817497', 'gensim': '4.3.2', 'python': '3.12.4 | packaged by Anaconda, Inc. | (main, Jun 18 2024, 15:12:24) [GCC 11.2.0]', 'platform': 'Linux-5.15.0-138-generic-x86_64-with-glibc2.35', 'event': 'load_word2vec_format'}\n",
      "2025-05-25 14:41:50,835 - root - INFO - Loading cached IDF dictionary from ../02-data/03-VSM/idf_cache_path.pkl...\n",
      "2025-05-25 14:41:51,070 - root - INFO - Testing query: 'this battery contains positive temperature coefficient element' at top_k=20\n"
     ]
    }
   ],
   "execution_count": null
  },
  {
   "metadata": {},
   "cell_type": "code",
   "source": [
    "##make graphs pretty and whatnot\n",
    "\n",
    "import matplotlib.pyplot as plt\n",
    "\n",
    "# 1) Descriptive statistics\n",
    "stats = summary_df[[\n",
    "    'label_count_top5',\n",
    "    'label_count_top10',\n",
    "    'label_count_top20',\n",
    "    'matched_rank',\n",
    "    'matched_score'\n",
    "]].describe()\n",
    "print(\"Descriptive statistics:\\n\", stats)\n",
    "\n",
    "\n",
    "# 2) Histograms for each label_count_*\n",
    "for col in ['label_count_top5', 'label_count_top10', 'label_count_top20']:\n",
    "    plt.figure()\n",
    "    plt.hist(summary_df[col].dropna(), bins=range(0, summary_df[col].max() + 2))\n",
    "    plt.title(f'Histogram of {col}')\n",
    "    plt.xlabel(col)\n",
    "    plt.ylabel('Frequency')\n",
    "    plt.show()\n",
    "\n",
    "\n",
    "# 3) Scatter plot: matched_rank vs. label_count_top20\n",
    "#    (only for rows where matched_rank is not null)\n",
    "valid = summary_df.dropna(subset=['matched_rank'])\n",
    "plt.figure()\n",
    "plt.scatter(valid['matched_rank'], valid['label_count_top20'])\n",
    "plt.title('Matched Rank vs. Label Count Top20')\n",
    "plt.xlabel('Matched Rank')\n",
    "plt.ylabel('Label Count Top20')\n",
    "plt.show()"
   ],
   "id": "72c34427a1412c42",
   "outputs": [],
   "execution_count": null
  }
 ],
 "metadata": {
  "kernelspec": {
   "display_name": "Python 3",
   "language": "python",
   "name": "python3"
  },
  "language_info": {
   "codemirror_mode": {
    "name": "ipython",
    "version": 2
   },
   "file_extension": ".py",
   "mimetype": "text/x-python",
   "name": "python",
   "nbconvert_exporter": "python",
   "pygments_lexer": "ipython2",
   "version": "2.7.6"
  }
 },
 "nbformat": 4,
 "nbformat_minor": 5
}
