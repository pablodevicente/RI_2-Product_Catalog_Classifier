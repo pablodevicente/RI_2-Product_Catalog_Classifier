{
 "cells": [
  {
   "cell_type": "code",
   "id": "initial_id",
   "metadata": {
    "collapsed": true,
    "ExecuteTime": {
     "end_time": "2025-06-05T18:13:39.099213Z",
     "start_time": "2025-06-05T18:13:39.002037Z"
    }
   },
   "source": [
    "# Proprietary library\n",
    "import aux_document_retrieval_bm25 as aux_bm25\n",
    "import aux_document_retrieval_vsm as aux_vsm\n",
    "import aux_semantic_search as aux_semantics\n",
    "import aux_retrieval_evaluation as aux_retrieval\n",
    "import aux_document_retrieval_hybrid as aux_hybrid\n",
    "from dataclass import QueryResult\n",
    "\n",
    "from typing import  Dict, Any, Union\n",
    "import dataclass as data\n",
    "import pandas as pd\n",
    "from pathlib import Path\n",
    "import logging\n",
    "import nltk\n",
    "import json\n",
    "import importlib\n",
    "\n",
    "# Reload Modules\n",
    "importlib.reload(aux_vsm)\n",
    "importlib.reload(aux_bm25)\n",
    "importlib.reload(aux_semantics)\n",
    "importlib.reload(aux_retrieval)\n",
    "\n",
    "# For word processing\n",
    "nltk.download('punkt_tab')\n",
    "\n",
    "DocLike = Union[data.RetrievedDocument, Dict[str, Any]]"
   ],
   "outputs": [
    {
     "name": "stderr",
     "output_type": "stream",
     "text": [
      "[nltk_data] Downloading package punkt_tab to /home/pablo/nltk_data...\n",
      "[nltk_data]   Package punkt_tab is already up-to-date!\n"
     ]
    }
   ],
   "execution_count": 14
  },
  {
   "metadata": {
    "ExecuteTime": {
     "end_time": "2025-06-05T18:13:39.182028Z",
     "start_time": "2025-06-05T18:13:39.171909Z"
    }
   },
   "cell_type": "code",
   "source": [
    "# Basic enviroment setup\n",
    "\n",
    "logging.basicConfig(\n",
    "    level=logging.ERROR,\n",
    "    format=\"%(asctime)s %(name)s [%(levelname)s] %(message)s\",\n",
    "    force=True\n",
    ")\n",
    "logger = logging.getLogger(__name__)\n",
    "\n",
    "paths = {\n",
    "    'word2vec': Path(\"../02-data/03-VSM/01-Word2Vec/word2vec-google-news-300.bin\"),\n",
    "    'idf_cache': Path(\"../02-data/03-VSM/idf_cache_path.pkl\"),\n",
    "    'word2vec_vsm_multivector': Path(\"../02-data/03-VSM/01-Word2Vec/word2vec-4-50-4-150-1.pkl\"),\n",
    "    'word2vec_vsm_singlevector': Path(\"../02-data/03-VSM/01-Word2Vec/word2vec-4-50-4-150-0.pkl\"),\n",
    "    'file': Path(\"../02-data/00-testing/batteries-non-rechargable-primary/1cr2/1cr2.txt\"),\n",
    "    'output_path': Path(\"../02-data/00-testing/batteries-non-rechargable-primary/1cr2/sentence_expansions.txt\"),\n",
    "    'pdf_folder': Path(\"../02-data/00-testing/\"),\n",
    "    'retriever': Path(\"../02-data/05-Retrieval/corpus_bm25\"),\n",
    "    'queries_1' : Path(\"../02-data/06-Evaluation/query_evaluation_1.json\"),\n",
    "    'queries_2' : Path(\"../02-data/06-Evaluation/query_evaluation_2.json\"),\n",
    "    'ranking_query_evaluation_1' : Path('../02-data/06-Evaluation/ranking_query_evaluation_1.pkl'), ## using queries_1, singlevector, QE, minmax\n",
    "    'ranking_query_evaluation_2' : Path('../02-data/06-Evaluation/ranking_query_evaluation_2.pkl'), ## using queries_2\n",
    "    'ranking_query_evaluation_3' : Path('../02-data/06-Evaluation/ranking_query_evaluation_3.pkl'), ## using queries_1, multivector, QE, minmax\n",
    "    'ranking_query_evaluation_4' : Path('../02-data/06-Evaluation/ranking_query_evaluation_4.pkl'), ## using queries_1, multivector, no QE, minmax\n",
    "    'ranking_query_evaluation_5' : Path('../02-data/06-Evaluation/ranking_query_evaluation_5.pkl'), ## using queries_1, multivector, QE, zscore\n",
    "    'ranking_query_evaluation_6' : Path('../02-data/06-Evaluation/ranking_query_evaluation_6.pkl'), ## using queries_1, multivector, QE, minmax/zscore\n",
    "    'QE_eval' : Path(\"../02-data/06-Evaluation/QE_eval.pkl\"),           ## query1 , multivector , minmax/zscore , QE\n",
    "    'no_QE_eval' : Path(\"../02-data/06-Evaluation/QE_eval.pkl\")         ## query1 , multivector , minmax/zscore , no QE\n",
    "\n",
    "}\n",
    "\n",
    "use_multivector = True\n",
    "use_expansion = False\n",
    "\n",
    "norm_vsm = 'minmax'\n",
    "norm_bm25 = 'zscore'\n",
    "\n",
    "top_k = 100\n",
    "\n",
    "save_file = str(paths['no_QE_eval'])\n",
    "\n",
    "with open(str(paths['queries_1'])) as f:\n",
    "    raw = json.load(f)\n",
    "\n",
    "query_list_documents = [data.DocumentSection(**entry) for entry in raw]"
   ],
   "id": "87a8313a38dcb7a5",
   "outputs": [],
   "execution_count": 15
  },
  {
   "metadata": {},
   "cell_type": "markdown",
   "source": [
    "--------------------------------\n",
    "## VSM evaluation. Works both for testing multivecror and singlevector\n"
   ],
   "id": "a1d5f63a12cddab9"
  },
  {
   "metadata": {
    "ExecuteTime": {
     "end_time": "2025-06-05T18:14:02.848463Z",
     "start_time": "2025-06-05T18:13:39.350970Z"
    }
   },
   "cell_type": "code",
   "source": [
    "importlib.reload(aux_vsm)\n",
    "importlib.reload(aux_retrieval)\n",
    "\n",
    "vsm_records = []\n",
    "\n",
    "resources = aux_vsm.load_word2vec_resources(paths, use_multivector=use_multivector)\n",
    "\n",
    "for section in query_list_documents:\n",
    "    w2v_result: aux_vsm.Word2VecQueryResult = aux_vsm.run_word2vec_query_preloaded(\n",
    "        resources,\n",
    "        section.query,\n",
    "        top_k=top_k,\n",
    "        use_expansion=use_expansion\n",
    "    )\n",
    "\n",
    "    vsm_records.append({\n",
    "        \"doc\": section.doc,\n",
    "        \"label\": section.label,\n",
    "        \"query\": section.query,\n",
    "        \"result\": w2v_result\n",
    "    })\n",
    "    \n",
    "#compute statistics for evaluation\n",
    "vsm_statistics = aux_retrieval.compute_query_run_stats(vsm_records)\n",
    "display(vsm_statistics['per_record'])\n",
    "display(vsm_statistics['score_stats'])\n",
    "\n",
    "#if you want to look at one specific record\n",
    "vsm_data = pd.DataFrame(data = vsm_records[0]['result'].results.documents)\n",
    "display(vsm_data)"
   ],
   "id": "deeb3c02bee35fca",
   "outputs": [
    {
     "data": {
      "text/plain": [
       "                                        doc  \\\n",
       "0                                      1cr2   \n",
       "1                             cpi-2212-85pm   \n",
       "2                                 106765806   \n",
       "3  a4cec9f14f3566555c97c0046b10048597120954   \n",
       "4  1b3c3c99b9be83ca11f01be323700b027a38ccdd   \n",
       "5      58f5bac3-3d38-43b1-b6d1-60bac2a5569a   \n",
       "6    96PR-102-UB3-M_datasheet20180225090037   \n",
       "7                             cds-13138-smt   \n",
       "8                            LR43-DATASHEET   \n",
       "9                                 cds-25148   \n",
       "\n",
       "                               label  rank     score  label_count_top_5  \\\n",
       "0  batteries-non-rechargable-primary   2.0  0.690095                  5   \n",
       "1          alarms-buzzers-and-sirens   1.0  0.449107                  5   \n",
       "2                cable-ties-zip-ties   2.0  0.576980                  5   \n",
       "3                  coaxial-cables-rf  15.0  0.698036                  2   \n",
       "4              controller-accesories   NaN       NaN                  3   \n",
       "5                        microphones  16.0  0.632503                  4   \n",
       "6              printers-label-makers   3.0  0.663774                  5   \n",
       "7                           speakers   NaN       NaN                  1   \n",
       "8  batteries-non-rechargable-primary   NaN       NaN                  4   \n",
       "9                           speakers  12.0  0.526992                  4   \n",
       "\n",
       "   label_count_top_10  label_count_top_20  \n",
       "0                   8                  16  \n",
       "1                  10                  20  \n",
       "2                   7                  14  \n",
       "3                   3                   7  \n",
       "4                   7                  15  \n",
       "5                   7                  15  \n",
       "6                  10                  17  \n",
       "7                   2                   3  \n",
       "8                   9                  19  \n",
       "9                   7                  14  "
      ],
      "text/html": [
       "<div>\n",
       "<style scoped>\n",
       "    .dataframe tbody tr th:only-of-type {\n",
       "        vertical-align: middle;\n",
       "    }\n",
       "\n",
       "    .dataframe tbody tr th {\n",
       "        vertical-align: top;\n",
       "    }\n",
       "\n",
       "    .dataframe thead th {\n",
       "        text-align: right;\n",
       "    }\n",
       "</style>\n",
       "<table border=\"1\" class=\"dataframe\">\n",
       "  <thead>\n",
       "    <tr style=\"text-align: right;\">\n",
       "      <th></th>\n",
       "      <th>doc</th>\n",
       "      <th>label</th>\n",
       "      <th>rank</th>\n",
       "      <th>score</th>\n",
       "      <th>label_count_top_5</th>\n",
       "      <th>label_count_top_10</th>\n",
       "      <th>label_count_top_20</th>\n",
       "    </tr>\n",
       "  </thead>\n",
       "  <tbody>\n",
       "    <tr>\n",
       "      <th>0</th>\n",
       "      <td>1cr2</td>\n",
       "      <td>batteries-non-rechargable-primary</td>\n",
       "      <td>2.0</td>\n",
       "      <td>0.690095</td>\n",
       "      <td>5</td>\n",
       "      <td>8</td>\n",
       "      <td>16</td>\n",
       "    </tr>\n",
       "    <tr>\n",
       "      <th>1</th>\n",
       "      <td>cpi-2212-85pm</td>\n",
       "      <td>alarms-buzzers-and-sirens</td>\n",
       "      <td>1.0</td>\n",
       "      <td>0.449107</td>\n",
       "      <td>5</td>\n",
       "      <td>10</td>\n",
       "      <td>20</td>\n",
       "    </tr>\n",
       "    <tr>\n",
       "      <th>2</th>\n",
       "      <td>106765806</td>\n",
       "      <td>cable-ties-zip-ties</td>\n",
       "      <td>2.0</td>\n",
       "      <td>0.576980</td>\n",
       "      <td>5</td>\n",
       "      <td>7</td>\n",
       "      <td>14</td>\n",
       "    </tr>\n",
       "    <tr>\n",
       "      <th>3</th>\n",
       "      <td>a4cec9f14f3566555c97c0046b10048597120954</td>\n",
       "      <td>coaxial-cables-rf</td>\n",
       "      <td>15.0</td>\n",
       "      <td>0.698036</td>\n",
       "      <td>2</td>\n",
       "      <td>3</td>\n",
       "      <td>7</td>\n",
       "    </tr>\n",
       "    <tr>\n",
       "      <th>4</th>\n",
       "      <td>1b3c3c99b9be83ca11f01be323700b027a38ccdd</td>\n",
       "      <td>controller-accesories</td>\n",
       "      <td>NaN</td>\n",
       "      <td>NaN</td>\n",
       "      <td>3</td>\n",
       "      <td>7</td>\n",
       "      <td>15</td>\n",
       "    </tr>\n",
       "    <tr>\n",
       "      <th>5</th>\n",
       "      <td>58f5bac3-3d38-43b1-b6d1-60bac2a5569a</td>\n",
       "      <td>microphones</td>\n",
       "      <td>16.0</td>\n",
       "      <td>0.632503</td>\n",
       "      <td>4</td>\n",
       "      <td>7</td>\n",
       "      <td>15</td>\n",
       "    </tr>\n",
       "    <tr>\n",
       "      <th>6</th>\n",
       "      <td>96PR-102-UB3-M_datasheet20180225090037</td>\n",
       "      <td>printers-label-makers</td>\n",
       "      <td>3.0</td>\n",
       "      <td>0.663774</td>\n",
       "      <td>5</td>\n",
       "      <td>10</td>\n",
       "      <td>17</td>\n",
       "    </tr>\n",
       "    <tr>\n",
       "      <th>7</th>\n",
       "      <td>cds-13138-smt</td>\n",
       "      <td>speakers</td>\n",
       "      <td>NaN</td>\n",
       "      <td>NaN</td>\n",
       "      <td>1</td>\n",
       "      <td>2</td>\n",
       "      <td>3</td>\n",
       "    </tr>\n",
       "    <tr>\n",
       "      <th>8</th>\n",
       "      <td>LR43-DATASHEET</td>\n",
       "      <td>batteries-non-rechargable-primary</td>\n",
       "      <td>NaN</td>\n",
       "      <td>NaN</td>\n",
       "      <td>4</td>\n",
       "      <td>9</td>\n",
       "      <td>19</td>\n",
       "    </tr>\n",
       "    <tr>\n",
       "      <th>9</th>\n",
       "      <td>cds-25148</td>\n",
       "      <td>speakers</td>\n",
       "      <td>12.0</td>\n",
       "      <td>0.526992</td>\n",
       "      <td>4</td>\n",
       "      <td>7</td>\n",
       "      <td>14</td>\n",
       "    </tr>\n",
       "  </tbody>\n",
       "</table>\n",
       "</div>"
      ]
     },
     "metadata": {},
     "output_type": "display_data"
    },
    {
     "data": {
      "text/plain": [
       "        max       min    median\n",
       "0  0.698036  0.449107  0.632503"
      ],
      "text/html": [
       "<div>\n",
       "<style scoped>\n",
       "    .dataframe tbody tr th:only-of-type {\n",
       "        vertical-align: middle;\n",
       "    }\n",
       "\n",
       "    .dataframe tbody tr th {\n",
       "        vertical-align: top;\n",
       "    }\n",
       "\n",
       "    .dataframe thead th {\n",
       "        text-align: right;\n",
       "    }\n",
       "</style>\n",
       "<table border=\"1\" class=\"dataframe\">\n",
       "  <thead>\n",
       "    <tr style=\"text-align: right;\">\n",
       "      <th></th>\n",
       "      <th>max</th>\n",
       "      <th>min</th>\n",
       "      <th>median</th>\n",
       "    </tr>\n",
       "  </thead>\n",
       "  <tbody>\n",
       "    <tr>\n",
       "      <th>0</th>\n",
       "      <td>0.698036</td>\n",
       "      <td>0.449107</td>\n",
       "      <td>0.632503</td>\n",
       "    </tr>\n",
       "  </tbody>\n",
       "</table>\n",
       "</div>"
      ]
     },
     "metadata": {},
     "output_type": "display_data"
    },
    {
     "data": {
      "text/plain": [
       "    rank                                doc_id  \\\n",
       "0      1                               397-396   \n",
       "1      2                                  1cr2   \n",
       "2      3                             357-303zb   \n",
       "3      4                              392-384z   \n",
       "4      5                               386-301   \n",
       "..   ...                                   ...   \n",
       "95    96    lmr-400-llpx-coax-cables-datasheet   \n",
       "96    97                                A675MF   \n",
       "97    98  4062a60c-0db7-45f0-ba30-afabced83817   \n",
       "98    99     toshiba-alkaline-battery-002-2014   \n",
       "99   100                               cpe-203   \n",
       "\n",
       "                                label     score  \n",
       "0   batteries-non-rechargable-primary  0.691751  \n",
       "1   batteries-non-rechargable-primary  0.690095  \n",
       "2   batteries-non-rechargable-primary  0.689235  \n",
       "3   batteries-non-rechargable-primary  0.687279  \n",
       "4   batteries-non-rechargable-primary  0.681582  \n",
       "..                                ...       ...  \n",
       "95                  coaxial-cables-rf  0.638400  \n",
       "96  batteries-non-rechargable-primary  0.638372  \n",
       "97                        microphones  0.638330  \n",
       "98  batteries-non-rechargable-primary  0.638195  \n",
       "99          alarms-buzzers-and-sirens  0.637997  \n",
       "\n",
       "[100 rows x 4 columns]"
      ],
      "text/html": [
       "<div>\n",
       "<style scoped>\n",
       "    .dataframe tbody tr th:only-of-type {\n",
       "        vertical-align: middle;\n",
       "    }\n",
       "\n",
       "    .dataframe tbody tr th {\n",
       "        vertical-align: top;\n",
       "    }\n",
       "\n",
       "    .dataframe thead th {\n",
       "        text-align: right;\n",
       "    }\n",
       "</style>\n",
       "<table border=\"1\" class=\"dataframe\">\n",
       "  <thead>\n",
       "    <tr style=\"text-align: right;\">\n",
       "      <th></th>\n",
       "      <th>rank</th>\n",
       "      <th>doc_id</th>\n",
       "      <th>label</th>\n",
       "      <th>score</th>\n",
       "    </tr>\n",
       "  </thead>\n",
       "  <tbody>\n",
       "    <tr>\n",
       "      <th>0</th>\n",
       "      <td>1</td>\n",
       "      <td>397-396</td>\n",
       "      <td>batteries-non-rechargable-primary</td>\n",
       "      <td>0.691751</td>\n",
       "    </tr>\n",
       "    <tr>\n",
       "      <th>1</th>\n",
       "      <td>2</td>\n",
       "      <td>1cr2</td>\n",
       "      <td>batteries-non-rechargable-primary</td>\n",
       "      <td>0.690095</td>\n",
       "    </tr>\n",
       "    <tr>\n",
       "      <th>2</th>\n",
       "      <td>3</td>\n",
       "      <td>357-303zb</td>\n",
       "      <td>batteries-non-rechargable-primary</td>\n",
       "      <td>0.689235</td>\n",
       "    </tr>\n",
       "    <tr>\n",
       "      <th>3</th>\n",
       "      <td>4</td>\n",
       "      <td>392-384z</td>\n",
       "      <td>batteries-non-rechargable-primary</td>\n",
       "      <td>0.687279</td>\n",
       "    </tr>\n",
       "    <tr>\n",
       "      <th>4</th>\n",
       "      <td>5</td>\n",
       "      <td>386-301</td>\n",
       "      <td>batteries-non-rechargable-primary</td>\n",
       "      <td>0.681582</td>\n",
       "    </tr>\n",
       "    <tr>\n",
       "      <th>...</th>\n",
       "      <td>...</td>\n",
       "      <td>...</td>\n",
       "      <td>...</td>\n",
       "      <td>...</td>\n",
       "    </tr>\n",
       "    <tr>\n",
       "      <th>95</th>\n",
       "      <td>96</td>\n",
       "      <td>lmr-400-llpx-coax-cables-datasheet</td>\n",
       "      <td>coaxial-cables-rf</td>\n",
       "      <td>0.638400</td>\n",
       "    </tr>\n",
       "    <tr>\n",
       "      <th>96</th>\n",
       "      <td>97</td>\n",
       "      <td>A675MF</td>\n",
       "      <td>batteries-non-rechargable-primary</td>\n",
       "      <td>0.638372</td>\n",
       "    </tr>\n",
       "    <tr>\n",
       "      <th>97</th>\n",
       "      <td>98</td>\n",
       "      <td>4062a60c-0db7-45f0-ba30-afabced83817</td>\n",
       "      <td>microphones</td>\n",
       "      <td>0.638330</td>\n",
       "    </tr>\n",
       "    <tr>\n",
       "      <th>98</th>\n",
       "      <td>99</td>\n",
       "      <td>toshiba-alkaline-battery-002-2014</td>\n",
       "      <td>batteries-non-rechargable-primary</td>\n",
       "      <td>0.638195</td>\n",
       "    </tr>\n",
       "    <tr>\n",
       "      <th>99</th>\n",
       "      <td>100</td>\n",
       "      <td>cpe-203</td>\n",
       "      <td>alarms-buzzers-and-sirens</td>\n",
       "      <td>0.637997</td>\n",
       "    </tr>\n",
       "  </tbody>\n",
       "</table>\n",
       "<p>100 rows × 4 columns</p>\n",
       "</div>"
      ]
     },
     "metadata": {},
     "output_type": "display_data"
    }
   ],
   "execution_count": 16
  },
  {
   "metadata": {},
   "cell_type": "markdown",
   "source": [
    "----------------\n",
    "### Small test on the effects of query expansion\n"
   ],
   "id": "b2d231ebe70ca24a"
  },
  {
   "metadata": {
    "ExecuteTime": {
     "end_time": "2025-06-05T18:14:03.153135Z",
     "start_time": "2025-06-05T18:14:03.148735Z"
    }
   },
   "cell_type": "code",
   "source": [
    "for result in vsm_records:\n",
    "    w2v_result = result['result']\n",
    "\n",
    "    query_embedding = w2v_result.query_info\n",
    "    \n",
    "    print(query_embedding.query)\n",
    "    print(query_embedding.expansions)\n",
    "    print(\"------------------------\")"
   ],
   "id": "bcc3afebb6117934",
   "outputs": [
    {
     "name": "stdout",
     "output_type": "stream",
     "text": [
      "this battery contains positive temperature coefficient element\n",
      "[]\n",
      "------------------------\n",
      "buzzer with operating voltage 15 24 vdc\n",
      "[]\n",
      "------------------------\n",
      "flexible tie body that safely  releasable and reusable\n",
      "[]\n",
      "------------------------\n",
      "insulation is made of  plastic material and has  thickness of about 1 mm\n",
      "[]\n",
      "------------------------\n",
      "busadapter supports protocol for profinet io\n",
      "[]\n",
      "------------------------\n",
      "the system consists of  microphone  speaker and  sound card, the microphone is connected to the sound card which is connected to the speaker\n",
      "[]\n",
      "------------------------\n",
      "resolution 203 dpi max print speed 102mm 4sec\n",
      "[]\n",
      "------------------------\n",
      "all specifications measured at 535c humidity at 4585 under 86106kpa pressure\n",
      "[]\n",
      "------------------------\n",
      "alkaline manganese batteries\n",
      "[]\n",
      "------------------------\n",
      "speaker with operating temperature 20 55 \n",
      "[]\n",
      "------------------------\n"
     ]
    }
   ],
   "execution_count": 17
  },
  {
   "metadata": {},
   "cell_type": "markdown",
   "source": [
    "------\n",
    "## BM25 evaluation\n"
   ],
   "id": "94bea0bd28f93859"
  },
  {
   "metadata": {
    "ExecuteTime": {
     "end_time": "2025-06-05T18:14:03.842981Z",
     "start_time": "2025-06-05T18:14:03.412248Z"
    }
   },
   "cell_type": "code",
   "source": [
    "importlib.reload(aux_bm25)\n",
    "importlib.reload(aux_retrieval)\n",
    "logger = logging.getLogger(__name__)\n",
    "\n",
    "bm25_records = []\n",
    "\n",
    "for section in query_list_documents:\n",
    "    bm25_result: aux_bm25.BM25QueryResult = aux_bm25.run_bm25_query(\n",
    "        paths,\n",
    "        section.query,\n",
    "        top_k=top_k,\n",
    "    )\n",
    "    \n",
    "    bm25_records.append({\n",
    "        \"doc\": section.doc,\n",
    "        \"label\": section.label,\n",
    "        \"query\": section.query,\n",
    "        \"result\": bm25_result\n",
    "    })"
   ],
   "id": "2aedbd3d093233f3",
   "outputs": [
    {
     "data": {
      "text/plain": [
       "Split strings:   0%|          | 0/1 [00:00<?, ?it/s]"
      ],
      "application/vnd.jupyter.widget-view+json": {
       "version_major": 2,
       "version_minor": 0,
       "model_id": "1d1e6584396048b1821976846b12854c"
      }
     },
     "metadata": {},
     "output_type": "display_data"
    },
    {
     "data": {
      "text/plain": [
       "BM25S Retrieve:   0%|          | 0/1 [00:00<?, ?it/s]"
      ],
      "application/vnd.jupyter.widget-view+json": {
       "version_major": 2,
       "version_minor": 0,
       "model_id": "a9278aa8b92f456e90616a5d8e8a2a13"
      }
     },
     "metadata": {},
     "output_type": "display_data"
    },
    {
     "data": {
      "text/plain": [
       "Split strings:   0%|          | 0/1 [00:00<?, ?it/s]"
      ],
      "application/vnd.jupyter.widget-view+json": {
       "version_major": 2,
       "version_minor": 0,
       "model_id": "46f4e29ec5c1444287ec9ed1e07d9dd9"
      }
     },
     "metadata": {},
     "output_type": "display_data"
    },
    {
     "data": {
      "text/plain": [
       "BM25S Retrieve:   0%|          | 0/1 [00:00<?, ?it/s]"
      ],
      "application/vnd.jupyter.widget-view+json": {
       "version_major": 2,
       "version_minor": 0,
       "model_id": "66877d13fe9042ffaf0907eb8d826847"
      }
     },
     "metadata": {},
     "output_type": "display_data"
    },
    {
     "data": {
      "text/plain": [
       "Split strings:   0%|          | 0/1 [00:00<?, ?it/s]"
      ],
      "application/vnd.jupyter.widget-view+json": {
       "version_major": 2,
       "version_minor": 0,
       "model_id": "1c146749ec754f0791fd4dfb6be355db"
      }
     },
     "metadata": {},
     "output_type": "display_data"
    },
    {
     "data": {
      "text/plain": [
       "BM25S Retrieve:   0%|          | 0/1 [00:00<?, ?it/s]"
      ],
      "application/vnd.jupyter.widget-view+json": {
       "version_major": 2,
       "version_minor": 0,
       "model_id": "a396cd600359417d898451b0df99caf0"
      }
     },
     "metadata": {},
     "output_type": "display_data"
    },
    {
     "data": {
      "text/plain": [
       "Split strings:   0%|          | 0/1 [00:00<?, ?it/s]"
      ],
      "application/vnd.jupyter.widget-view+json": {
       "version_major": 2,
       "version_minor": 0,
       "model_id": "72e5722266a4421a9598c4e423b33a4c"
      }
     },
     "metadata": {},
     "output_type": "display_data"
    },
    {
     "data": {
      "text/plain": [
       "BM25S Retrieve:   0%|          | 0/1 [00:00<?, ?it/s]"
      ],
      "application/vnd.jupyter.widget-view+json": {
       "version_major": 2,
       "version_minor": 0,
       "model_id": "e1fc5bbe3cb84f74b6a93b5ce14eeb4c"
      }
     },
     "metadata": {},
     "output_type": "display_data"
    },
    {
     "data": {
      "text/plain": [
       "Split strings:   0%|          | 0/1 [00:00<?, ?it/s]"
      ],
      "application/vnd.jupyter.widget-view+json": {
       "version_major": 2,
       "version_minor": 0,
       "model_id": "6bcc4ba341e94f378bbd50cc50aeb486"
      }
     },
     "metadata": {},
     "output_type": "display_data"
    },
    {
     "data": {
      "text/plain": [
       "BM25S Retrieve:   0%|          | 0/1 [00:00<?, ?it/s]"
      ],
      "application/vnd.jupyter.widget-view+json": {
       "version_major": 2,
       "version_minor": 0,
       "model_id": "a482d88ebf3b42e0988fa7c967468bce"
      }
     },
     "metadata": {},
     "output_type": "display_data"
    },
    {
     "data": {
      "text/plain": [
       "Split strings:   0%|          | 0/1 [00:00<?, ?it/s]"
      ],
      "application/vnd.jupyter.widget-view+json": {
       "version_major": 2,
       "version_minor": 0,
       "model_id": "c9c71017c4334d43b90509d0ef23de9e"
      }
     },
     "metadata": {},
     "output_type": "display_data"
    },
    {
     "data": {
      "text/plain": [
       "BM25S Retrieve:   0%|          | 0/1 [00:00<?, ?it/s]"
      ],
      "application/vnd.jupyter.widget-view+json": {
       "version_major": 2,
       "version_minor": 0,
       "model_id": "683590d4fc5745509c90eca4fe11e8a9"
      }
     },
     "metadata": {},
     "output_type": "display_data"
    },
    {
     "data": {
      "text/plain": [
       "Split strings:   0%|          | 0/1 [00:00<?, ?it/s]"
      ],
      "application/vnd.jupyter.widget-view+json": {
       "version_major": 2,
       "version_minor": 0,
       "model_id": "f5db416ffc034c29bcf3e6f5bc6e79eb"
      }
     },
     "metadata": {},
     "output_type": "display_data"
    },
    {
     "data": {
      "text/plain": [
       "BM25S Retrieve:   0%|          | 0/1 [00:00<?, ?it/s]"
      ],
      "application/vnd.jupyter.widget-view+json": {
       "version_major": 2,
       "version_minor": 0,
       "model_id": "c57b44c6874c49fdbf6accd0fa87b45e"
      }
     },
     "metadata": {},
     "output_type": "display_data"
    },
    {
     "data": {
      "text/plain": [
       "Split strings:   0%|          | 0/1 [00:00<?, ?it/s]"
      ],
      "application/vnd.jupyter.widget-view+json": {
       "version_major": 2,
       "version_minor": 0,
       "model_id": "ec9bfb0f4411445daf39ee9cf537d666"
      }
     },
     "metadata": {},
     "output_type": "display_data"
    },
    {
     "data": {
      "text/plain": [
       "BM25S Retrieve:   0%|          | 0/1 [00:00<?, ?it/s]"
      ],
      "application/vnd.jupyter.widget-view+json": {
       "version_major": 2,
       "version_minor": 0,
       "model_id": "4ba7d39c756f41b7b13ef4590e7b22cf"
      }
     },
     "metadata": {},
     "output_type": "display_data"
    },
    {
     "data": {
      "text/plain": [
       "Split strings:   0%|          | 0/1 [00:00<?, ?it/s]"
      ],
      "application/vnd.jupyter.widget-view+json": {
       "version_major": 2,
       "version_minor": 0,
       "model_id": "ef8c9e1af8af49b69e8ecd80550d9ba6"
      }
     },
     "metadata": {},
     "output_type": "display_data"
    },
    {
     "data": {
      "text/plain": [
       "BM25S Retrieve:   0%|          | 0/1 [00:00<?, ?it/s]"
      ],
      "application/vnd.jupyter.widget-view+json": {
       "version_major": 2,
       "version_minor": 0,
       "model_id": "d004445524514f5bbf0bfe7e23743724"
      }
     },
     "metadata": {},
     "output_type": "display_data"
    },
    {
     "data": {
      "text/plain": [
       "Split strings:   0%|          | 0/1 [00:00<?, ?it/s]"
      ],
      "application/vnd.jupyter.widget-view+json": {
       "version_major": 2,
       "version_minor": 0,
       "model_id": "f413fc0e39a1425fa880dad0f6a6cd7f"
      }
     },
     "metadata": {},
     "output_type": "display_data"
    },
    {
     "data": {
      "text/plain": [
       "BM25S Retrieve:   0%|          | 0/1 [00:00<?, ?it/s]"
      ],
      "application/vnd.jupyter.widget-view+json": {
       "version_major": 2,
       "version_minor": 0,
       "model_id": "e35e1e894eae4ceb8e626c6a4a1ffd7f"
      }
     },
     "metadata": {},
     "output_type": "display_data"
    }
   ],
   "execution_count": 18
  },
  {
   "metadata": {
    "ExecuteTime": {
     "end_time": "2025-06-05T18:14:03.948729Z",
     "start_time": "2025-06-05T18:14:03.915280Z"
    }
   },
   "cell_type": "code",
   "source": [
    "#compute statistics for evaluation\n",
    "bm25_statistics = aux_retrieval.compute_query_run_stats(bm25_records)\n",
    "display(bm25_statistics['per_record'])\n",
    "display(bm25_statistics['score_stats'])\n",
    "\n",
    "#if you want to look at one specific record\n",
    "bm25_data = pd.DataFrame(data = bm25_records[0]['result'].results.documents)\n",
    "display(bm25_data)"
   ],
   "id": "6f52119552324cc7",
   "outputs": [
    {
     "data": {
      "text/plain": [
       "                                        doc  \\\n",
       "0                                      1cr2   \n",
       "1                             cpi-2212-85pm   \n",
       "2                                 106765806   \n",
       "3  a4cec9f14f3566555c97c0046b10048597120954   \n",
       "4  1b3c3c99b9be83ca11f01be323700b027a38ccdd   \n",
       "5      58f5bac3-3d38-43b1-b6d1-60bac2a5569a   \n",
       "6    96PR-102-UB3-M_datasheet20180225090037   \n",
       "7                             cds-13138-smt   \n",
       "8                            LR43-DATASHEET   \n",
       "9                                 cds-25148   \n",
       "\n",
       "                               label  rank      score  label_count_top_5  \\\n",
       "0  batteries-non-rechargable-primary     2   5.740847                  4   \n",
       "1          alarms-buzzers-and-sirens     1   6.938643                  5   \n",
       "2                cable-ties-zip-ties     1  12.732177                  5   \n",
       "3                  coaxial-cables-rf     1   6.910951                  3   \n",
       "4              controller-accesories     1  13.478672                  5   \n",
       "5                        microphones     2  13.271488                  5   \n",
       "6              printers-label-makers     2  16.425482                  5   \n",
       "7                           speakers    13   6.678161                  0   \n",
       "8  batteries-non-rechargable-primary    10   4.373617                  5   \n",
       "9                           speakers    14   2.797290                  5   \n",
       "\n",
       "   label_count_top_10  label_count_top_20  \n",
       "0                   8                  14  \n",
       "1                  10                  20  \n",
       "2                   8                  15  \n",
       "3                   6                   8  \n",
       "4                   9                  17  \n",
       "5                   9                  19  \n",
       "6                  10                  20  \n",
       "7                   2                  11  \n",
       "8                  10                  20  \n",
       "9                  10                  19  "
      ],
      "text/html": [
       "<div>\n",
       "<style scoped>\n",
       "    .dataframe tbody tr th:only-of-type {\n",
       "        vertical-align: middle;\n",
       "    }\n",
       "\n",
       "    .dataframe tbody tr th {\n",
       "        vertical-align: top;\n",
       "    }\n",
       "\n",
       "    .dataframe thead th {\n",
       "        text-align: right;\n",
       "    }\n",
       "</style>\n",
       "<table border=\"1\" class=\"dataframe\">\n",
       "  <thead>\n",
       "    <tr style=\"text-align: right;\">\n",
       "      <th></th>\n",
       "      <th>doc</th>\n",
       "      <th>label</th>\n",
       "      <th>rank</th>\n",
       "      <th>score</th>\n",
       "      <th>label_count_top_5</th>\n",
       "      <th>label_count_top_10</th>\n",
       "      <th>label_count_top_20</th>\n",
       "    </tr>\n",
       "  </thead>\n",
       "  <tbody>\n",
       "    <tr>\n",
       "      <th>0</th>\n",
       "      <td>1cr2</td>\n",
       "      <td>batteries-non-rechargable-primary</td>\n",
       "      <td>2</td>\n",
       "      <td>5.740847</td>\n",
       "      <td>4</td>\n",
       "      <td>8</td>\n",
       "      <td>14</td>\n",
       "    </tr>\n",
       "    <tr>\n",
       "      <th>1</th>\n",
       "      <td>cpi-2212-85pm</td>\n",
       "      <td>alarms-buzzers-and-sirens</td>\n",
       "      <td>1</td>\n",
       "      <td>6.938643</td>\n",
       "      <td>5</td>\n",
       "      <td>10</td>\n",
       "      <td>20</td>\n",
       "    </tr>\n",
       "    <tr>\n",
       "      <th>2</th>\n",
       "      <td>106765806</td>\n",
       "      <td>cable-ties-zip-ties</td>\n",
       "      <td>1</td>\n",
       "      <td>12.732177</td>\n",
       "      <td>5</td>\n",
       "      <td>8</td>\n",
       "      <td>15</td>\n",
       "    </tr>\n",
       "    <tr>\n",
       "      <th>3</th>\n",
       "      <td>a4cec9f14f3566555c97c0046b10048597120954</td>\n",
       "      <td>coaxial-cables-rf</td>\n",
       "      <td>1</td>\n",
       "      <td>6.910951</td>\n",
       "      <td>3</td>\n",
       "      <td>6</td>\n",
       "      <td>8</td>\n",
       "    </tr>\n",
       "    <tr>\n",
       "      <th>4</th>\n",
       "      <td>1b3c3c99b9be83ca11f01be323700b027a38ccdd</td>\n",
       "      <td>controller-accesories</td>\n",
       "      <td>1</td>\n",
       "      <td>13.478672</td>\n",
       "      <td>5</td>\n",
       "      <td>9</td>\n",
       "      <td>17</td>\n",
       "    </tr>\n",
       "    <tr>\n",
       "      <th>5</th>\n",
       "      <td>58f5bac3-3d38-43b1-b6d1-60bac2a5569a</td>\n",
       "      <td>microphones</td>\n",
       "      <td>2</td>\n",
       "      <td>13.271488</td>\n",
       "      <td>5</td>\n",
       "      <td>9</td>\n",
       "      <td>19</td>\n",
       "    </tr>\n",
       "    <tr>\n",
       "      <th>6</th>\n",
       "      <td>96PR-102-UB3-M_datasheet20180225090037</td>\n",
       "      <td>printers-label-makers</td>\n",
       "      <td>2</td>\n",
       "      <td>16.425482</td>\n",
       "      <td>5</td>\n",
       "      <td>10</td>\n",
       "      <td>20</td>\n",
       "    </tr>\n",
       "    <tr>\n",
       "      <th>7</th>\n",
       "      <td>cds-13138-smt</td>\n",
       "      <td>speakers</td>\n",
       "      <td>13</td>\n",
       "      <td>6.678161</td>\n",
       "      <td>0</td>\n",
       "      <td>2</td>\n",
       "      <td>11</td>\n",
       "    </tr>\n",
       "    <tr>\n",
       "      <th>8</th>\n",
       "      <td>LR43-DATASHEET</td>\n",
       "      <td>batteries-non-rechargable-primary</td>\n",
       "      <td>10</td>\n",
       "      <td>4.373617</td>\n",
       "      <td>5</td>\n",
       "      <td>10</td>\n",
       "      <td>20</td>\n",
       "    </tr>\n",
       "    <tr>\n",
       "      <th>9</th>\n",
       "      <td>cds-25148</td>\n",
       "      <td>speakers</td>\n",
       "      <td>14</td>\n",
       "      <td>2.797290</td>\n",
       "      <td>5</td>\n",
       "      <td>10</td>\n",
       "      <td>19</td>\n",
       "    </tr>\n",
       "  </tbody>\n",
       "</table>\n",
       "</div>"
      ]
     },
     "metadata": {},
     "output_type": "display_data"
    },
    {
     "data": {
      "text/plain": [
       "         max      min    median\n",
       "0  16.425482  2.79729  6.924797"
      ],
      "text/html": [
       "<div>\n",
       "<style scoped>\n",
       "    .dataframe tbody tr th:only-of-type {\n",
       "        vertical-align: middle;\n",
       "    }\n",
       "\n",
       "    .dataframe tbody tr th {\n",
       "        vertical-align: top;\n",
       "    }\n",
       "\n",
       "    .dataframe thead th {\n",
       "        text-align: right;\n",
       "    }\n",
       "</style>\n",
       "<table border=\"1\" class=\"dataframe\">\n",
       "  <thead>\n",
       "    <tr style=\"text-align: right;\">\n",
       "      <th></th>\n",
       "      <th>max</th>\n",
       "      <th>min</th>\n",
       "      <th>median</th>\n",
       "    </tr>\n",
       "  </thead>\n",
       "  <tbody>\n",
       "    <tr>\n",
       "      <th>0</th>\n",
       "      <td>16.425482</td>\n",
       "      <td>2.79729</td>\n",
       "      <td>6.924797</td>\n",
       "    </tr>\n",
       "  </tbody>\n",
       "</table>\n",
       "</div>"
      ]
     },
     "metadata": {},
     "output_type": "display_data"
    },
    {
     "data": {
      "text/plain": [
       "    rank                                doc_id  \\\n",
       "0      1                                   123   \n",
       "1      2                                  1cr2   \n",
       "2      3                       cms-402008-18sp   \n",
       "3      4      maxell-alkaline-battery-002-2014   \n",
       "4      5                       alkaline_appman   \n",
       "..   ...                                   ...   \n",
       "95    96  8024d901-2c69-4d26-b0cf-6e1bdb74ff9b   \n",
       "96    97                  LN92-Industrial-0920   \n",
       "97    98                       ces-803118-28pm   \n",
       "98    99                   EM-6050-14-Feb-2019   \n",
       "99   100  EM-6027LRNW-completed-on-12-Aug-2019   \n",
       "\n",
       "                                label     score  \n",
       "0   batteries-non-rechargable-primary  5.875960  \n",
       "1   batteries-non-rechargable-primary  5.740847  \n",
       "2                            speakers  4.363099  \n",
       "3   batteries-non-rechargable-primary  4.257775  \n",
       "4   batteries-non-rechargable-primary  4.058401  \n",
       "..                                ...       ...  \n",
       "95                        microphones  1.964044  \n",
       "96  batteries-non-rechargable-primary  1.949623  \n",
       "97                           speakers  1.941543  \n",
       "98                        microphones  1.902635  \n",
       "99                        microphones  1.899358  \n",
       "\n",
       "[100 rows x 4 columns]"
      ],
      "text/html": [
       "<div>\n",
       "<style scoped>\n",
       "    .dataframe tbody tr th:only-of-type {\n",
       "        vertical-align: middle;\n",
       "    }\n",
       "\n",
       "    .dataframe tbody tr th {\n",
       "        vertical-align: top;\n",
       "    }\n",
       "\n",
       "    .dataframe thead th {\n",
       "        text-align: right;\n",
       "    }\n",
       "</style>\n",
       "<table border=\"1\" class=\"dataframe\">\n",
       "  <thead>\n",
       "    <tr style=\"text-align: right;\">\n",
       "      <th></th>\n",
       "      <th>rank</th>\n",
       "      <th>doc_id</th>\n",
       "      <th>label</th>\n",
       "      <th>score</th>\n",
       "    </tr>\n",
       "  </thead>\n",
       "  <tbody>\n",
       "    <tr>\n",
       "      <th>0</th>\n",
       "      <td>1</td>\n",
       "      <td>123</td>\n",
       "      <td>batteries-non-rechargable-primary</td>\n",
       "      <td>5.875960</td>\n",
       "    </tr>\n",
       "    <tr>\n",
       "      <th>1</th>\n",
       "      <td>2</td>\n",
       "      <td>1cr2</td>\n",
       "      <td>batteries-non-rechargable-primary</td>\n",
       "      <td>5.740847</td>\n",
       "    </tr>\n",
       "    <tr>\n",
       "      <th>2</th>\n",
       "      <td>3</td>\n",
       "      <td>cms-402008-18sp</td>\n",
       "      <td>speakers</td>\n",
       "      <td>4.363099</td>\n",
       "    </tr>\n",
       "    <tr>\n",
       "      <th>3</th>\n",
       "      <td>4</td>\n",
       "      <td>maxell-alkaline-battery-002-2014</td>\n",
       "      <td>batteries-non-rechargable-primary</td>\n",
       "      <td>4.257775</td>\n",
       "    </tr>\n",
       "    <tr>\n",
       "      <th>4</th>\n",
       "      <td>5</td>\n",
       "      <td>alkaline_appman</td>\n",
       "      <td>batteries-non-rechargable-primary</td>\n",
       "      <td>4.058401</td>\n",
       "    </tr>\n",
       "    <tr>\n",
       "      <th>...</th>\n",
       "      <td>...</td>\n",
       "      <td>...</td>\n",
       "      <td>...</td>\n",
       "      <td>...</td>\n",
       "    </tr>\n",
       "    <tr>\n",
       "      <th>95</th>\n",
       "      <td>96</td>\n",
       "      <td>8024d901-2c69-4d26-b0cf-6e1bdb74ff9b</td>\n",
       "      <td>microphones</td>\n",
       "      <td>1.964044</td>\n",
       "    </tr>\n",
       "    <tr>\n",
       "      <th>96</th>\n",
       "      <td>97</td>\n",
       "      <td>LN92-Industrial-0920</td>\n",
       "      <td>batteries-non-rechargable-primary</td>\n",
       "      <td>1.949623</td>\n",
       "    </tr>\n",
       "    <tr>\n",
       "      <th>97</th>\n",
       "      <td>98</td>\n",
       "      <td>ces-803118-28pm</td>\n",
       "      <td>speakers</td>\n",
       "      <td>1.941543</td>\n",
       "    </tr>\n",
       "    <tr>\n",
       "      <th>98</th>\n",
       "      <td>99</td>\n",
       "      <td>EM-6050-14-Feb-2019</td>\n",
       "      <td>microphones</td>\n",
       "      <td>1.902635</td>\n",
       "    </tr>\n",
       "    <tr>\n",
       "      <th>99</th>\n",
       "      <td>100</td>\n",
       "      <td>EM-6027LRNW-completed-on-12-Aug-2019</td>\n",
       "      <td>microphones</td>\n",
       "      <td>1.899358</td>\n",
       "    </tr>\n",
       "  </tbody>\n",
       "</table>\n",
       "<p>100 rows × 4 columns</p>\n",
       "</div>"
      ]
     },
     "metadata": {},
     "output_type": "display_data"
    }
   ],
   "execution_count": 19
  },
  {
   "metadata": {},
   "cell_type": "markdown",
   "source": [
    "--------------------------\n",
    "## RRF Evaluation\n"
   ],
   "id": "f5ff924e46aaaeaa"
  },
  {
   "metadata": {
    "ExecuteTime": {
     "end_time": "2025-06-05T18:14:04.205381Z",
     "start_time": "2025-06-05T18:14:04.029933Z"
    }
   },
   "cell_type": "code",
   "source": [
    "logger = logging.getLogger(__name__)\n",
    "\n",
    "rrf_records = []\n",
    "\n",
    "for i, section in enumerate(query_list_documents):\n",
    "    \n",
    "    df_bm25 = pd.DataFrame([d.__dict__ for d in bm25_records[i][\"result\"].results.documents])\n",
    "    df_vsm  = pd.DataFrame([d.__dict__ for d in vsm_records[i][\"result\"].results.documents])\n",
    "\n",
    "    rrf_result = aux_retrieval.rrf_from_dfs([df_bm25, df_vsm], rrf_k=60, top_k=100)\n",
    "\n",
    "    rrf_records.append({\n",
    "        \"doc\": section.doc,\n",
    "        \"label\": section.label,\n",
    "        \"query\": section.query,\n",
    "        \"result\": rrf_result\n",
    "    })\n",
    "    \n",
    "rrf_statistics = aux_retrieval.compute_query_run_stats(rrf_records)\n",
    "display(rrf_statistics['per_record'])\n",
    "display(rrf_statistics['score_stats'])\n",
    "\n",
    "#if you want to look at one specific record\n",
    "rrf_data = pd.DataFrame(data = rrf_records[0]['result'].results.documents)\n",
    "display(rrf_data)\n",
    "    "
   ],
   "id": "a9afb44f41a2ebde",
   "outputs": [
    {
     "data": {
      "text/plain": [
       "                                        doc  \\\n",
       "0                                      1cr2   \n",
       "1                             cpi-2212-85pm   \n",
       "2                                 106765806   \n",
       "3  a4cec9f14f3566555c97c0046b10048597120954   \n",
       "4  1b3c3c99b9be83ca11f01be323700b027a38ccdd   \n",
       "5      58f5bac3-3d38-43b1-b6d1-60bac2a5569a   \n",
       "6    96PR-102-UB3-M_datasheet20180225090037   \n",
       "7                             cds-13138-smt   \n",
       "8                            LR43-DATASHEET   \n",
       "9                                 cds-25148   \n",
       "\n",
       "                               label  rank     score  label_count_top_5  \\\n",
       "0  batteries-non-rechargable-primary     1  0.032258                  4   \n",
       "1          alarms-buzzers-and-sirens     1  0.032787                  5   \n",
       "2                cable-ties-zip-ties     1  0.032522                  5   \n",
       "3                  coaxial-cables-rf     3  0.029727                  3   \n",
       "4              controller-accesories    32  0.016393                  5   \n",
       "5                        microphones     3  0.029287                  5   \n",
       "6              printers-label-makers     1  0.032002                  5   \n",
       "7                           speakers    67  0.013699                  1   \n",
       "8  batteries-non-rechargable-primary    64  0.014286                  5   \n",
       "9                           speakers     2  0.027402                  5   \n",
       "\n",
       "   label_count_top_10  label_count_top_20  \n",
       "0                   7                  14  \n",
       "1                  10                  20  \n",
       "2                  10                  14  \n",
       "3                   4                  10  \n",
       "4                   8                  17  \n",
       "5                  10                  18  \n",
       "6                  10                  20  \n",
       "7                   4                   8  \n",
       "8                  10                  19  \n",
       "9                   9                  17  "
      ],
      "text/html": [
       "<div>\n",
       "<style scoped>\n",
       "    .dataframe tbody tr th:only-of-type {\n",
       "        vertical-align: middle;\n",
       "    }\n",
       "\n",
       "    .dataframe tbody tr th {\n",
       "        vertical-align: top;\n",
       "    }\n",
       "\n",
       "    .dataframe thead th {\n",
       "        text-align: right;\n",
       "    }\n",
       "</style>\n",
       "<table border=\"1\" class=\"dataframe\">\n",
       "  <thead>\n",
       "    <tr style=\"text-align: right;\">\n",
       "      <th></th>\n",
       "      <th>doc</th>\n",
       "      <th>label</th>\n",
       "      <th>rank</th>\n",
       "      <th>score</th>\n",
       "      <th>label_count_top_5</th>\n",
       "      <th>label_count_top_10</th>\n",
       "      <th>label_count_top_20</th>\n",
       "    </tr>\n",
       "  </thead>\n",
       "  <tbody>\n",
       "    <tr>\n",
       "      <th>0</th>\n",
       "      <td>1cr2</td>\n",
       "      <td>batteries-non-rechargable-primary</td>\n",
       "      <td>1</td>\n",
       "      <td>0.032258</td>\n",
       "      <td>4</td>\n",
       "      <td>7</td>\n",
       "      <td>14</td>\n",
       "    </tr>\n",
       "    <tr>\n",
       "      <th>1</th>\n",
       "      <td>cpi-2212-85pm</td>\n",
       "      <td>alarms-buzzers-and-sirens</td>\n",
       "      <td>1</td>\n",
       "      <td>0.032787</td>\n",
       "      <td>5</td>\n",
       "      <td>10</td>\n",
       "      <td>20</td>\n",
       "    </tr>\n",
       "    <tr>\n",
       "      <th>2</th>\n",
       "      <td>106765806</td>\n",
       "      <td>cable-ties-zip-ties</td>\n",
       "      <td>1</td>\n",
       "      <td>0.032522</td>\n",
       "      <td>5</td>\n",
       "      <td>10</td>\n",
       "      <td>14</td>\n",
       "    </tr>\n",
       "    <tr>\n",
       "      <th>3</th>\n",
       "      <td>a4cec9f14f3566555c97c0046b10048597120954</td>\n",
       "      <td>coaxial-cables-rf</td>\n",
       "      <td>3</td>\n",
       "      <td>0.029727</td>\n",
       "      <td>3</td>\n",
       "      <td>4</td>\n",
       "      <td>10</td>\n",
       "    </tr>\n",
       "    <tr>\n",
       "      <th>4</th>\n",
       "      <td>1b3c3c99b9be83ca11f01be323700b027a38ccdd</td>\n",
       "      <td>controller-accesories</td>\n",
       "      <td>32</td>\n",
       "      <td>0.016393</td>\n",
       "      <td>5</td>\n",
       "      <td>8</td>\n",
       "      <td>17</td>\n",
       "    </tr>\n",
       "    <tr>\n",
       "      <th>5</th>\n",
       "      <td>58f5bac3-3d38-43b1-b6d1-60bac2a5569a</td>\n",
       "      <td>microphones</td>\n",
       "      <td>3</td>\n",
       "      <td>0.029287</td>\n",
       "      <td>5</td>\n",
       "      <td>10</td>\n",
       "      <td>18</td>\n",
       "    </tr>\n",
       "    <tr>\n",
       "      <th>6</th>\n",
       "      <td>96PR-102-UB3-M_datasheet20180225090037</td>\n",
       "      <td>printers-label-makers</td>\n",
       "      <td>1</td>\n",
       "      <td>0.032002</td>\n",
       "      <td>5</td>\n",
       "      <td>10</td>\n",
       "      <td>20</td>\n",
       "    </tr>\n",
       "    <tr>\n",
       "      <th>7</th>\n",
       "      <td>cds-13138-smt</td>\n",
       "      <td>speakers</td>\n",
       "      <td>67</td>\n",
       "      <td>0.013699</td>\n",
       "      <td>1</td>\n",
       "      <td>4</td>\n",
       "      <td>8</td>\n",
       "    </tr>\n",
       "    <tr>\n",
       "      <th>8</th>\n",
       "      <td>LR43-DATASHEET</td>\n",
       "      <td>batteries-non-rechargable-primary</td>\n",
       "      <td>64</td>\n",
       "      <td>0.014286</td>\n",
       "      <td>5</td>\n",
       "      <td>10</td>\n",
       "      <td>19</td>\n",
       "    </tr>\n",
       "    <tr>\n",
       "      <th>9</th>\n",
       "      <td>cds-25148</td>\n",
       "      <td>speakers</td>\n",
       "      <td>2</td>\n",
       "      <td>0.027402</td>\n",
       "      <td>5</td>\n",
       "      <td>9</td>\n",
       "      <td>17</td>\n",
       "    </tr>\n",
       "  </tbody>\n",
       "</table>\n",
       "</div>"
      ]
     },
     "metadata": {},
     "output_type": "display_data"
    },
    {
     "data": {
      "text/plain": [
       "        max       min    median\n",
       "0  0.032787  0.013699  0.029507"
      ],
      "text/html": [
       "<div>\n",
       "<style scoped>\n",
       "    .dataframe tbody tr th:only-of-type {\n",
       "        vertical-align: middle;\n",
       "    }\n",
       "\n",
       "    .dataframe tbody tr th {\n",
       "        vertical-align: top;\n",
       "    }\n",
       "\n",
       "    .dataframe thead th {\n",
       "        text-align: right;\n",
       "    }\n",
       "</style>\n",
       "<table border=\"1\" class=\"dataframe\">\n",
       "  <thead>\n",
       "    <tr style=\"text-align: right;\">\n",
       "      <th></th>\n",
       "      <th>max</th>\n",
       "      <th>min</th>\n",
       "      <th>median</th>\n",
       "    </tr>\n",
       "  </thead>\n",
       "  <tbody>\n",
       "    <tr>\n",
       "      <th>0</th>\n",
       "      <td>0.032787</td>\n",
       "      <td>0.013699</td>\n",
       "      <td>0.029507</td>\n",
       "    </tr>\n",
       "  </tbody>\n",
       "</table>\n",
       "</div>"
      ]
     },
     "metadata": {},
     "output_type": "display_data"
    },
    {
     "data": {
      "text/plain": [
       "    rank                                doc_id  \\\n",
       "0      1                                  1cr2   \n",
       "1      2                                   123   \n",
       "2      3      maxell-alkaline-battery-002-2014   \n",
       "3      4  8373d9aa-424a-4cf8-add9-8655f7a6700f   \n",
       "4      5                            LR1130SPEC   \n",
       "..   ...                                   ...   \n",
       "95    96                          er14505j_2pt   \n",
       "96    97        DELTA_IA-TC_DTB_OM_EN_20201202   \n",
       "97    98  8460b150-25ad-428a-ac26-0d84eff34af3   \n",
       "98    99                            er14335j-s   \n",
       "99   100                            MO044202-4   \n",
       "\n",
       "                                label     score  \n",
       "0   batteries-non-rechargable-primary  0.032258  \n",
       "1   batteries-non-rechargable-primary  0.031099  \n",
       "2   batteries-non-rechargable-primary  0.028783  \n",
       "3                         microphones  0.025000  \n",
       "4   batteries-non-rechargable-primary  0.024688  \n",
       "..                                ...       ...  \n",
       "95  batteries-non-rechargable-primary  0.008929  \n",
       "96              controller-accesories  0.008850  \n",
       "97                        microphones  0.008772  \n",
       "98  batteries-non-rechargable-primary  0.008772  \n",
       "99                        microphones  0.008696  \n",
       "\n",
       "[100 rows x 4 columns]"
      ],
      "text/html": [
       "<div>\n",
       "<style scoped>\n",
       "    .dataframe tbody tr th:only-of-type {\n",
       "        vertical-align: middle;\n",
       "    }\n",
       "\n",
       "    .dataframe tbody tr th {\n",
       "        vertical-align: top;\n",
       "    }\n",
       "\n",
       "    .dataframe thead th {\n",
       "        text-align: right;\n",
       "    }\n",
       "</style>\n",
       "<table border=\"1\" class=\"dataframe\">\n",
       "  <thead>\n",
       "    <tr style=\"text-align: right;\">\n",
       "      <th></th>\n",
       "      <th>rank</th>\n",
       "      <th>doc_id</th>\n",
       "      <th>label</th>\n",
       "      <th>score</th>\n",
       "    </tr>\n",
       "  </thead>\n",
       "  <tbody>\n",
       "    <tr>\n",
       "      <th>0</th>\n",
       "      <td>1</td>\n",
       "      <td>1cr2</td>\n",
       "      <td>batteries-non-rechargable-primary</td>\n",
       "      <td>0.032258</td>\n",
       "    </tr>\n",
       "    <tr>\n",
       "      <th>1</th>\n",
       "      <td>2</td>\n",
       "      <td>123</td>\n",
       "      <td>batteries-non-rechargable-primary</td>\n",
       "      <td>0.031099</td>\n",
       "    </tr>\n",
       "    <tr>\n",
       "      <th>2</th>\n",
       "      <td>3</td>\n",
       "      <td>maxell-alkaline-battery-002-2014</td>\n",
       "      <td>batteries-non-rechargable-primary</td>\n",
       "      <td>0.028783</td>\n",
       "    </tr>\n",
       "    <tr>\n",
       "      <th>3</th>\n",
       "      <td>4</td>\n",
       "      <td>8373d9aa-424a-4cf8-add9-8655f7a6700f</td>\n",
       "      <td>microphones</td>\n",
       "      <td>0.025000</td>\n",
       "    </tr>\n",
       "    <tr>\n",
       "      <th>4</th>\n",
       "      <td>5</td>\n",
       "      <td>LR1130SPEC</td>\n",
       "      <td>batteries-non-rechargable-primary</td>\n",
       "      <td>0.024688</td>\n",
       "    </tr>\n",
       "    <tr>\n",
       "      <th>...</th>\n",
       "      <td>...</td>\n",
       "      <td>...</td>\n",
       "      <td>...</td>\n",
       "      <td>...</td>\n",
       "    </tr>\n",
       "    <tr>\n",
       "      <th>95</th>\n",
       "      <td>96</td>\n",
       "      <td>er14505j_2pt</td>\n",
       "      <td>batteries-non-rechargable-primary</td>\n",
       "      <td>0.008929</td>\n",
       "    </tr>\n",
       "    <tr>\n",
       "      <th>96</th>\n",
       "      <td>97</td>\n",
       "      <td>DELTA_IA-TC_DTB_OM_EN_20201202</td>\n",
       "      <td>controller-accesories</td>\n",
       "      <td>0.008850</td>\n",
       "    </tr>\n",
       "    <tr>\n",
       "      <th>97</th>\n",
       "      <td>98</td>\n",
       "      <td>8460b150-25ad-428a-ac26-0d84eff34af3</td>\n",
       "      <td>microphones</td>\n",
       "      <td>0.008772</td>\n",
       "    </tr>\n",
       "    <tr>\n",
       "      <th>98</th>\n",
       "      <td>99</td>\n",
       "      <td>er14335j-s</td>\n",
       "      <td>batteries-non-rechargable-primary</td>\n",
       "      <td>0.008772</td>\n",
       "    </tr>\n",
       "    <tr>\n",
       "      <th>99</th>\n",
       "      <td>100</td>\n",
       "      <td>MO044202-4</td>\n",
       "      <td>microphones</td>\n",
       "      <td>0.008696</td>\n",
       "    </tr>\n",
       "  </tbody>\n",
       "</table>\n",
       "<p>100 rows × 4 columns</p>\n",
       "</div>"
      ]
     },
     "metadata": {},
     "output_type": "display_data"
    }
   ],
   "execution_count": 20
  },
  {
   "metadata": {},
   "cell_type": "markdown",
   "source": [
    "----------------------\n",
    "## Hybrid Search Evaluation\n"
   ],
   "id": "666b8b080c9c2147"
  },
  {
   "metadata": {
    "ExecuteTime": {
     "end_time": "2025-06-05T18:14:04.474116Z",
     "start_time": "2025-06-05T18:14:04.442523Z"
    }
   },
   "cell_type": "code",
   "source": [
    "importlib.reload(aux_retrieval)\n",
    "importlib.reload(data)\n",
    "logger = logging.getLogger(__name__)\n",
    "\n",
    "hybrid_records = []\n",
    "\n",
    "\n",
    "for i, section in enumerate(query_list_documents):\n",
    "    bm25_list = [d.__dict__ for d in bm25_records[i]['result'].results.documents]\n",
    "    vsm_list  = [d.__dict__ for d in vsm_records[i]['result'].results.documents]\n",
    "    \n",
    "    hybrid_result:QueryResult = aux_retrieval.hybrid_search(\n",
    "        bm25_results= bm25_list,\n",
    "        vsm_results=  vsm_list,\n",
    "        weight_bm25=  0.7,\n",
    "        weight_vsm=   0.3,\n",
    "        top_k=        100,\n",
    "        norm_bm25=    norm_bm25,\n",
    "        norm_vsm=     norm_vsm\n",
    "    )\n",
    "\n",
    "    hybrid_records.append({\n",
    "        \"doc\":    section.doc,\n",
    "        \"label\":  section.label,\n",
    "        \"query\":  section.query,\n",
    "        \"result\": hybrid_result\n",
    "    })"
   ],
   "id": "c3f57830c86f9202",
   "outputs": [],
   "execution_count": 21
  },
  {
   "metadata": {
    "ExecuteTime": {
     "end_time": "2025-06-05T18:14:04.728542Z",
     "start_time": "2025-06-05T18:14:04.708374Z"
    }
   },
   "cell_type": "code",
   "source": [
    "hybrid_statistics = aux_retrieval.compute_query_run_stats(hybrid_records)\n",
    "display(hybrid_statistics['per_record'])\n",
    "display(hybrid_statistics['score_stats'])\n",
    "\n",
    "#if you want to look at one specific record\n",
    "hybrid_data = pd.DataFrame(data = hybrid_records[0]['result'].results.documents)\n",
    "display(hybrid_data)\n",
    "    "
   ],
   "id": "6b36011469a292e3",
   "outputs": [
    {
     "data": {
      "text/plain": [
       "                                        doc  \\\n",
       "0                                      1cr2   \n",
       "1                             cpi-2212-85pm   \n",
       "2                                 106765806   \n",
       "3  a4cec9f14f3566555c97c0046b10048597120954   \n",
       "4  1b3c3c99b9be83ca11f01be323700b027a38ccdd   \n",
       "5      58f5bac3-3d38-43b1-b6d1-60bac2a5569a   \n",
       "6    96PR-102-UB3-M_datasheet20180225090037   \n",
       "7                             cds-13138-smt   \n",
       "8                            LR43-DATASHEET   \n",
       "9                                 cds-25148   \n",
       "\n",
       "                               label  rank     score  label_count_top_5  \\\n",
       "0  batteries-non-rechargable-primary     2  3.480051                  4   \n",
       "1          alarms-buzzers-and-sirens     1  2.000634                  5   \n",
       "2                cable-ties-zip-ties     1  5.165404                  5   \n",
       "3                  coaxial-cables-rf     1  3.319255                  3   \n",
       "4              controller-accesories     1  4.736688                  5   \n",
       "5                        microphones     2  2.212740                  5   \n",
       "6              printers-label-makers     2  3.002933                  5   \n",
       "7                           speakers    15  0.965697                  0   \n",
       "8  batteries-non-rechargable-primary    11  1.114620                  5   \n",
       "9                           speakers    11  1.221994                  5   \n",
       "\n",
       "   label_count_top_10  label_count_top_20  \n",
       "0                   8                  15  \n",
       "1                  10                  20  \n",
       "2                   8                  14  \n",
       "3                   6                   8  \n",
       "4                  10                  17  \n",
       "5                   9                  19  \n",
       "6                  10                  20  \n",
       "7                   2                  11  \n",
       "8                  10                  20  \n",
       "9                  10                  19  "
      ],
      "text/html": [
       "<div>\n",
       "<style scoped>\n",
       "    .dataframe tbody tr th:only-of-type {\n",
       "        vertical-align: middle;\n",
       "    }\n",
       "\n",
       "    .dataframe tbody tr th {\n",
       "        vertical-align: top;\n",
       "    }\n",
       "\n",
       "    .dataframe thead th {\n",
       "        text-align: right;\n",
       "    }\n",
       "</style>\n",
       "<table border=\"1\" class=\"dataframe\">\n",
       "  <thead>\n",
       "    <tr style=\"text-align: right;\">\n",
       "      <th></th>\n",
       "      <th>doc</th>\n",
       "      <th>label</th>\n",
       "      <th>rank</th>\n",
       "      <th>score</th>\n",
       "      <th>label_count_top_5</th>\n",
       "      <th>label_count_top_10</th>\n",
       "      <th>label_count_top_20</th>\n",
       "    </tr>\n",
       "  </thead>\n",
       "  <tbody>\n",
       "    <tr>\n",
       "      <th>0</th>\n",
       "      <td>1cr2</td>\n",
       "      <td>batteries-non-rechargable-primary</td>\n",
       "      <td>2</td>\n",
       "      <td>3.480051</td>\n",
       "      <td>4</td>\n",
       "      <td>8</td>\n",
       "      <td>15</td>\n",
       "    </tr>\n",
       "    <tr>\n",
       "      <th>1</th>\n",
       "      <td>cpi-2212-85pm</td>\n",
       "      <td>alarms-buzzers-and-sirens</td>\n",
       "      <td>1</td>\n",
       "      <td>2.000634</td>\n",
       "      <td>5</td>\n",
       "      <td>10</td>\n",
       "      <td>20</td>\n",
       "    </tr>\n",
       "    <tr>\n",
       "      <th>2</th>\n",
       "      <td>106765806</td>\n",
       "      <td>cable-ties-zip-ties</td>\n",
       "      <td>1</td>\n",
       "      <td>5.165404</td>\n",
       "      <td>5</td>\n",
       "      <td>8</td>\n",
       "      <td>14</td>\n",
       "    </tr>\n",
       "    <tr>\n",
       "      <th>3</th>\n",
       "      <td>a4cec9f14f3566555c97c0046b10048597120954</td>\n",
       "      <td>coaxial-cables-rf</td>\n",
       "      <td>1</td>\n",
       "      <td>3.319255</td>\n",
       "      <td>3</td>\n",
       "      <td>6</td>\n",
       "      <td>8</td>\n",
       "    </tr>\n",
       "    <tr>\n",
       "      <th>4</th>\n",
       "      <td>1b3c3c99b9be83ca11f01be323700b027a38ccdd</td>\n",
       "      <td>controller-accesories</td>\n",
       "      <td>1</td>\n",
       "      <td>4.736688</td>\n",
       "      <td>5</td>\n",
       "      <td>10</td>\n",
       "      <td>17</td>\n",
       "    </tr>\n",
       "    <tr>\n",
       "      <th>5</th>\n",
       "      <td>58f5bac3-3d38-43b1-b6d1-60bac2a5569a</td>\n",
       "      <td>microphones</td>\n",
       "      <td>2</td>\n",
       "      <td>2.212740</td>\n",
       "      <td>5</td>\n",
       "      <td>9</td>\n",
       "      <td>19</td>\n",
       "    </tr>\n",
       "    <tr>\n",
       "      <th>6</th>\n",
       "      <td>96PR-102-UB3-M_datasheet20180225090037</td>\n",
       "      <td>printers-label-makers</td>\n",
       "      <td>2</td>\n",
       "      <td>3.002933</td>\n",
       "      <td>5</td>\n",
       "      <td>10</td>\n",
       "      <td>20</td>\n",
       "    </tr>\n",
       "    <tr>\n",
       "      <th>7</th>\n",
       "      <td>cds-13138-smt</td>\n",
       "      <td>speakers</td>\n",
       "      <td>15</td>\n",
       "      <td>0.965697</td>\n",
       "      <td>0</td>\n",
       "      <td>2</td>\n",
       "      <td>11</td>\n",
       "    </tr>\n",
       "    <tr>\n",
       "      <th>8</th>\n",
       "      <td>LR43-DATASHEET</td>\n",
       "      <td>batteries-non-rechargable-primary</td>\n",
       "      <td>11</td>\n",
       "      <td>1.114620</td>\n",
       "      <td>5</td>\n",
       "      <td>10</td>\n",
       "      <td>20</td>\n",
       "    </tr>\n",
       "    <tr>\n",
       "      <th>9</th>\n",
       "      <td>cds-25148</td>\n",
       "      <td>speakers</td>\n",
       "      <td>11</td>\n",
       "      <td>1.221994</td>\n",
       "      <td>5</td>\n",
       "      <td>10</td>\n",
       "      <td>19</td>\n",
       "    </tr>\n",
       "  </tbody>\n",
       "</table>\n",
       "</div>"
      ]
     },
     "metadata": {},
     "output_type": "display_data"
    },
    {
     "data": {
      "text/plain": [
       "        max       min    median\n",
       "0  5.165404  0.965697  2.607836"
      ],
      "text/html": [
       "<div>\n",
       "<style scoped>\n",
       "    .dataframe tbody tr th:only-of-type {\n",
       "        vertical-align: middle;\n",
       "    }\n",
       "\n",
       "    .dataframe tbody tr th {\n",
       "        vertical-align: top;\n",
       "    }\n",
       "\n",
       "    .dataframe thead th {\n",
       "        text-align: right;\n",
       "    }\n",
       "</style>\n",
       "<table border=\"1\" class=\"dataframe\">\n",
       "  <thead>\n",
       "    <tr style=\"text-align: right;\">\n",
       "      <th></th>\n",
       "      <th>max</th>\n",
       "      <th>min</th>\n",
       "      <th>median</th>\n",
       "    </tr>\n",
       "  </thead>\n",
       "  <tbody>\n",
       "    <tr>\n",
       "      <th>0</th>\n",
       "      <td>5.165404</td>\n",
       "      <td>0.965697</td>\n",
       "      <td>2.607836</td>\n",
       "    </tr>\n",
       "  </tbody>\n",
       "</table>\n",
       "</div>"
      ]
     },
     "metadata": {},
     "output_type": "display_data"
    },
    {
     "data": {
      "text/plain": [
       "    rank                                 doc_id  \\\n",
       "0      1                                    123   \n",
       "1      2                                   1cr2   \n",
       "2      3       maxell-alkaline-battery-002-2014   \n",
       "3      4                        cms-402008-18sp   \n",
       "4      5                        alkaline_appman   \n",
       "..   ...                                    ...   \n",
       "95    96                            SCR1_3N-BTI   \n",
       "96    97                      SCR17335A_719-BTI   \n",
       "97    98  Toshiba%20Tech%20Data%20CR1616%202022   \n",
       "98    99   69b20e1f-93e2-4608-8364-ab0a6588db4b   \n",
       "99   100         213022_ds_CS60-BP-850-D11.8_de   \n",
       "\n",
       "                                label     score  \n",
       "0   batteries-non-rechargable-primary  3.553676  \n",
       "1   batteries-non-rechargable-primary  3.480051  \n",
       "2   batteries-non-rechargable-primary  1.865527  \n",
       "3                            speakers  1.839457  \n",
       "4   batteries-non-rechargable-primary  1.490533  \n",
       "..                                ...       ...  \n",
       "95  batteries-non-rechargable-primary -0.000303  \n",
       "96  batteries-non-rechargable-primary -0.004783  \n",
       "97  batteries-non-rechargable-primary -0.024660  \n",
       "98                        microphones -0.031990  \n",
       "99              controller-accesories -0.047854  \n",
       "\n",
       "[100 rows x 4 columns]"
      ],
      "text/html": [
       "<div>\n",
       "<style scoped>\n",
       "    .dataframe tbody tr th:only-of-type {\n",
       "        vertical-align: middle;\n",
       "    }\n",
       "\n",
       "    .dataframe tbody tr th {\n",
       "        vertical-align: top;\n",
       "    }\n",
       "\n",
       "    .dataframe thead th {\n",
       "        text-align: right;\n",
       "    }\n",
       "</style>\n",
       "<table border=\"1\" class=\"dataframe\">\n",
       "  <thead>\n",
       "    <tr style=\"text-align: right;\">\n",
       "      <th></th>\n",
       "      <th>rank</th>\n",
       "      <th>doc_id</th>\n",
       "      <th>label</th>\n",
       "      <th>score</th>\n",
       "    </tr>\n",
       "  </thead>\n",
       "  <tbody>\n",
       "    <tr>\n",
       "      <th>0</th>\n",
       "      <td>1</td>\n",
       "      <td>123</td>\n",
       "      <td>batteries-non-rechargable-primary</td>\n",
       "      <td>3.553676</td>\n",
       "    </tr>\n",
       "    <tr>\n",
       "      <th>1</th>\n",
       "      <td>2</td>\n",
       "      <td>1cr2</td>\n",
       "      <td>batteries-non-rechargable-primary</td>\n",
       "      <td>3.480051</td>\n",
       "    </tr>\n",
       "    <tr>\n",
       "      <th>2</th>\n",
       "      <td>3</td>\n",
       "      <td>maxell-alkaline-battery-002-2014</td>\n",
       "      <td>batteries-non-rechargable-primary</td>\n",
       "      <td>1.865527</td>\n",
       "    </tr>\n",
       "    <tr>\n",
       "      <th>3</th>\n",
       "      <td>4</td>\n",
       "      <td>cms-402008-18sp</td>\n",
       "      <td>speakers</td>\n",
       "      <td>1.839457</td>\n",
       "    </tr>\n",
       "    <tr>\n",
       "      <th>4</th>\n",
       "      <td>5</td>\n",
       "      <td>alkaline_appman</td>\n",
       "      <td>batteries-non-rechargable-primary</td>\n",
       "      <td>1.490533</td>\n",
       "    </tr>\n",
       "    <tr>\n",
       "      <th>...</th>\n",
       "      <td>...</td>\n",
       "      <td>...</td>\n",
       "      <td>...</td>\n",
       "      <td>...</td>\n",
       "    </tr>\n",
       "    <tr>\n",
       "      <th>95</th>\n",
       "      <td>96</td>\n",
       "      <td>SCR1_3N-BTI</td>\n",
       "      <td>batteries-non-rechargable-primary</td>\n",
       "      <td>-0.000303</td>\n",
       "    </tr>\n",
       "    <tr>\n",
       "      <th>96</th>\n",
       "      <td>97</td>\n",
       "      <td>SCR17335A_719-BTI</td>\n",
       "      <td>batteries-non-rechargable-primary</td>\n",
       "      <td>-0.004783</td>\n",
       "    </tr>\n",
       "    <tr>\n",
       "      <th>97</th>\n",
       "      <td>98</td>\n",
       "      <td>Toshiba%20Tech%20Data%20CR1616%202022</td>\n",
       "      <td>batteries-non-rechargable-primary</td>\n",
       "      <td>-0.024660</td>\n",
       "    </tr>\n",
       "    <tr>\n",
       "      <th>98</th>\n",
       "      <td>99</td>\n",
       "      <td>69b20e1f-93e2-4608-8364-ab0a6588db4b</td>\n",
       "      <td>microphones</td>\n",
       "      <td>-0.031990</td>\n",
       "    </tr>\n",
       "    <tr>\n",
       "      <th>99</th>\n",
       "      <td>100</td>\n",
       "      <td>213022_ds_CS60-BP-850-D11.8_de</td>\n",
       "      <td>controller-accesories</td>\n",
       "      <td>-0.047854</td>\n",
       "    </tr>\n",
       "  </tbody>\n",
       "</table>\n",
       "<p>100 rows × 4 columns</p>\n",
       "</div>"
      ]
     },
     "metadata": {},
     "output_type": "display_data"
    }
   ],
   "execution_count": 22
  },
  {
   "metadata": {},
   "cell_type": "markdown",
   "source": [
    "--------------------------\n",
    "## Rerank evaluation ( BM25 - VSM )\n"
   ],
   "id": "87bc3301102144d4"
  },
  {
   "metadata": {
    "ExecuteTime": {
     "end_time": "2025-06-05T18:17:52.822628Z",
     "start_time": "2025-06-05T18:14:04.974966Z"
    }
   },
   "cell_type": "code",
   "source": [
    "importlib.reload(aux_retrieval)\n",
    "importlib.reload(data)\n",
    "logger = logging.getLogger(__name__)\n",
    "\n",
    "rerank_records = []\n",
    "top_k = 50\n",
    "use_multivector = True\n",
    "\n",
    "for section in query_list_documents:\n",
    "\n",
    "    rerank_results:QueryResult = aux_retrieval.run_hybrid_query(\n",
    "        paths = paths,\n",
    "        query = section.query,\n",
    "        top_k = top_k,\n",
    "        use_multivector = use_multivector\n",
    "    )\n",
    "\n",
    "    rerank_records.append({\n",
    "        \"doc\":    section.doc,\n",
    "        \"label\":  section.label,\n",
    "        \"query\":  section.query,\n",
    "        \"result\": rerank_results\n",
    "    })"
   ],
   "id": "91d64f41d728f548",
   "outputs": [
    {
     "data": {
      "text/plain": [
       "Split strings:   0%|          | 0/1 [00:00<?, ?it/s]"
      ],
      "application/vnd.jupyter.widget-view+json": {
       "version_major": 2,
       "version_minor": 0,
       "model_id": "f58859853d3843c18ee141de3f4cc10e"
      }
     },
     "metadata": {},
     "output_type": "display_data"
    },
    {
     "data": {
      "text/plain": [
       "BM25S Retrieve:   0%|          | 0/1 [00:00<?, ?it/s]"
      ],
      "application/vnd.jupyter.widget-view+json": {
       "version_major": 2,
       "version_minor": 0,
       "model_id": "b829fd1b007d49d5b618092ae9db8ba7"
      }
     },
     "metadata": {},
     "output_type": "display_data"
    },
    {
     "data": {
      "text/plain": [
       "Split strings:   0%|          | 0/1 [00:00<?, ?it/s]"
      ],
      "application/vnd.jupyter.widget-view+json": {
       "version_major": 2,
       "version_minor": 0,
       "model_id": "6710cd49215847e4b632a2d70953695b"
      }
     },
     "metadata": {},
     "output_type": "display_data"
    },
    {
     "data": {
      "text/plain": [
       "BM25S Retrieve:   0%|          | 0/1 [00:00<?, ?it/s]"
      ],
      "application/vnd.jupyter.widget-view+json": {
       "version_major": 2,
       "version_minor": 0,
       "model_id": "ef204ec4538c4b84a177c5771a837769"
      }
     },
     "metadata": {},
     "output_type": "display_data"
    },
    {
     "data": {
      "text/plain": [
       "Split strings:   0%|          | 0/1 [00:00<?, ?it/s]"
      ],
      "application/vnd.jupyter.widget-view+json": {
       "version_major": 2,
       "version_minor": 0,
       "model_id": "6f95980ecf554fe19425b68eca4b141f"
      }
     },
     "metadata": {},
     "output_type": "display_data"
    },
    {
     "data": {
      "text/plain": [
       "BM25S Retrieve:   0%|          | 0/1 [00:00<?, ?it/s]"
      ],
      "application/vnd.jupyter.widget-view+json": {
       "version_major": 2,
       "version_minor": 0,
       "model_id": "6e66ddf07c21490e85ad3e2744eab040"
      }
     },
     "metadata": {},
     "output_type": "display_data"
    },
    {
     "data": {
      "text/plain": [
       "Split strings:   0%|          | 0/1 [00:00<?, ?it/s]"
      ],
      "application/vnd.jupyter.widget-view+json": {
       "version_major": 2,
       "version_minor": 0,
       "model_id": "4aa0bbba00354e32b110a35738c42b2b"
      }
     },
     "metadata": {},
     "output_type": "display_data"
    },
    {
     "data": {
      "text/plain": [
       "BM25S Retrieve:   0%|          | 0/1 [00:00<?, ?it/s]"
      ],
      "application/vnd.jupyter.widget-view+json": {
       "version_major": 2,
       "version_minor": 0,
       "model_id": "2d8f16e7e3024edeb4f097832d0cf757"
      }
     },
     "metadata": {},
     "output_type": "display_data"
    },
    {
     "data": {
      "text/plain": [
       "Split strings:   0%|          | 0/1 [00:00<?, ?it/s]"
      ],
      "application/vnd.jupyter.widget-view+json": {
       "version_major": 2,
       "version_minor": 0,
       "model_id": "0e78e3b4a58f41dd88a3bab2d4024df1"
      }
     },
     "metadata": {},
     "output_type": "display_data"
    },
    {
     "data": {
      "text/plain": [
       "BM25S Retrieve:   0%|          | 0/1 [00:00<?, ?it/s]"
      ],
      "application/vnd.jupyter.widget-view+json": {
       "version_major": 2,
       "version_minor": 0,
       "model_id": "e087e15ce7f34c0a8d6deeac8c2f1ee7"
      }
     },
     "metadata": {},
     "output_type": "display_data"
    },
    {
     "data": {
      "text/plain": [
       "Split strings:   0%|          | 0/1 [00:00<?, ?it/s]"
      ],
      "application/vnd.jupyter.widget-view+json": {
       "version_major": 2,
       "version_minor": 0,
       "model_id": "e51af0a9456a467fa4f70dc1677da596"
      }
     },
     "metadata": {},
     "output_type": "display_data"
    },
    {
     "data": {
      "text/plain": [
       "BM25S Retrieve:   0%|          | 0/1 [00:00<?, ?it/s]"
      ],
      "application/vnd.jupyter.widget-view+json": {
       "version_major": 2,
       "version_minor": 0,
       "model_id": "c3fb4490b2a446faa4c7966c9c8526ce"
      }
     },
     "metadata": {},
     "output_type": "display_data"
    },
    {
     "data": {
      "text/plain": [
       "Split strings:   0%|          | 0/1 [00:00<?, ?it/s]"
      ],
      "application/vnd.jupyter.widget-view+json": {
       "version_major": 2,
       "version_minor": 0,
       "model_id": "42481cccdf99482bac6886fff330ba84"
      }
     },
     "metadata": {},
     "output_type": "display_data"
    },
    {
     "data": {
      "text/plain": [
       "BM25S Retrieve:   0%|          | 0/1 [00:00<?, ?it/s]"
      ],
      "application/vnd.jupyter.widget-view+json": {
       "version_major": 2,
       "version_minor": 0,
       "model_id": "10f877cbd6bf43d49232a163531a9156"
      }
     },
     "metadata": {},
     "output_type": "display_data"
    },
    {
     "data": {
      "text/plain": [
       "Split strings:   0%|          | 0/1 [00:00<?, ?it/s]"
      ],
      "application/vnd.jupyter.widget-view+json": {
       "version_major": 2,
       "version_minor": 0,
       "model_id": "0a4ffd50b6b0410daaa126c748fd25aa"
      }
     },
     "metadata": {},
     "output_type": "display_data"
    },
    {
     "data": {
      "text/plain": [
       "BM25S Retrieve:   0%|          | 0/1 [00:00<?, ?it/s]"
      ],
      "application/vnd.jupyter.widget-view+json": {
       "version_major": 2,
       "version_minor": 0,
       "model_id": "f83243182bda4d02971691026bf74e71"
      }
     },
     "metadata": {},
     "output_type": "display_data"
    },
    {
     "data": {
      "text/plain": [
       "Split strings:   0%|          | 0/1 [00:00<?, ?it/s]"
      ],
      "application/vnd.jupyter.widget-view+json": {
       "version_major": 2,
       "version_minor": 0,
       "model_id": "97925a3e46d142ab97d78b9a761dc11d"
      }
     },
     "metadata": {},
     "output_type": "display_data"
    },
    {
     "data": {
      "text/plain": [
       "BM25S Retrieve:   0%|          | 0/1 [00:00<?, ?it/s]"
      ],
      "application/vnd.jupyter.widget-view+json": {
       "version_major": 2,
       "version_minor": 0,
       "model_id": "2469202e3bf546df95a660df5b1aecf3"
      }
     },
     "metadata": {},
     "output_type": "display_data"
    },
    {
     "data": {
      "text/plain": [
       "Split strings:   0%|          | 0/1 [00:00<?, ?it/s]"
      ],
      "application/vnd.jupyter.widget-view+json": {
       "version_major": 2,
       "version_minor": 0,
       "model_id": "2b1256de91e347828cb593b6bc052405"
      }
     },
     "metadata": {},
     "output_type": "display_data"
    },
    {
     "data": {
      "text/plain": [
       "BM25S Retrieve:   0%|          | 0/1 [00:00<?, ?it/s]"
      ],
      "application/vnd.jupyter.widget-view+json": {
       "version_major": 2,
       "version_minor": 0,
       "model_id": "9d6e77fb2c7546e3959c10eb7900d747"
      }
     },
     "metadata": {},
     "output_type": "display_data"
    }
   ],
   "execution_count": 23
  },
  {
   "metadata": {
    "ExecuteTime": {
     "end_time": "2025-06-05T18:17:52.854940Z",
     "start_time": "2025-06-05T18:17:52.835958Z"
    }
   },
   "cell_type": "code",
   "source": [
    "rerank_statistics = aux_retrieval.compute_query_run_stats(rerank_records)\n",
    "display(rerank_statistics['per_record'])\n",
    "display(rerank_statistics['score_stats'])\n",
    "\n",
    "#if you want to look at one specific record\n",
    "rerank_data = pd.DataFrame(data = rerank_records[0]['result'].results.documents)\n",
    "display(rerank_data[:5])\n",
    "    "
   ],
   "id": "98f69e25d13e79b3",
   "outputs": [
    {
     "data": {
      "text/plain": [
       "                                        doc  \\\n",
       "0                                      1cr2   \n",
       "1                             cpi-2212-85pm   \n",
       "2                                 106765806   \n",
       "3  a4cec9f14f3566555c97c0046b10048597120954   \n",
       "4  1b3c3c99b9be83ca11f01be323700b027a38ccdd   \n",
       "5      58f5bac3-3d38-43b1-b6d1-60bac2a5569a   \n",
       "6    96PR-102-UB3-M_datasheet20180225090037   \n",
       "7                             cds-13138-smt   \n",
       "8                            LR43-DATASHEET   \n",
       "9                                 cds-25148   \n",
       "\n",
       "                               label  rank     score  label_count_top_5  \\\n",
       "0  batteries-non-rechargable-primary     1  0.690095                  4   \n",
       "1          alarms-buzzers-and-sirens     1  0.449107                  5   \n",
       "2                cable-ties-zip-ties     2  0.576980                  5   \n",
       "3                  coaxial-cables-rf     7  0.698036                  1   \n",
       "4              controller-accesories    22  0.000000                  4   \n",
       "5                        microphones    11  0.632503                  4   \n",
       "6              printers-label-makers     3  0.663774                  5   \n",
       "7                           speakers    30  0.000000                  2   \n",
       "8  batteries-non-rechargable-primary    38  0.000000                  5   \n",
       "9                           speakers     5  0.526992                  5   \n",
       "\n",
       "   label_count_top_10  label_count_top_20  \n",
       "0                   9                  14  \n",
       "1                  10                  20  \n",
       "2                   8                  14  \n",
       "3                   4                   9  \n",
       "4                   9                  17  \n",
       "5                   9                  17  \n",
       "6                  10                  19  \n",
       "7                   4                  11  \n",
       "8                  10                  20  \n",
       "9                   9                  16  "
      ],
      "text/html": [
       "<div>\n",
       "<style scoped>\n",
       "    .dataframe tbody tr th:only-of-type {\n",
       "        vertical-align: middle;\n",
       "    }\n",
       "\n",
       "    .dataframe tbody tr th {\n",
       "        vertical-align: top;\n",
       "    }\n",
       "\n",
       "    .dataframe thead th {\n",
       "        text-align: right;\n",
       "    }\n",
       "</style>\n",
       "<table border=\"1\" class=\"dataframe\">\n",
       "  <thead>\n",
       "    <tr style=\"text-align: right;\">\n",
       "      <th></th>\n",
       "      <th>doc</th>\n",
       "      <th>label</th>\n",
       "      <th>rank</th>\n",
       "      <th>score</th>\n",
       "      <th>label_count_top_5</th>\n",
       "      <th>label_count_top_10</th>\n",
       "      <th>label_count_top_20</th>\n",
       "    </tr>\n",
       "  </thead>\n",
       "  <tbody>\n",
       "    <tr>\n",
       "      <th>0</th>\n",
       "      <td>1cr2</td>\n",
       "      <td>batteries-non-rechargable-primary</td>\n",
       "      <td>1</td>\n",
       "      <td>0.690095</td>\n",
       "      <td>4</td>\n",
       "      <td>9</td>\n",
       "      <td>14</td>\n",
       "    </tr>\n",
       "    <tr>\n",
       "      <th>1</th>\n",
       "      <td>cpi-2212-85pm</td>\n",
       "      <td>alarms-buzzers-and-sirens</td>\n",
       "      <td>1</td>\n",
       "      <td>0.449107</td>\n",
       "      <td>5</td>\n",
       "      <td>10</td>\n",
       "      <td>20</td>\n",
       "    </tr>\n",
       "    <tr>\n",
       "      <th>2</th>\n",
       "      <td>106765806</td>\n",
       "      <td>cable-ties-zip-ties</td>\n",
       "      <td>2</td>\n",
       "      <td>0.576980</td>\n",
       "      <td>5</td>\n",
       "      <td>8</td>\n",
       "      <td>14</td>\n",
       "    </tr>\n",
       "    <tr>\n",
       "      <th>3</th>\n",
       "      <td>a4cec9f14f3566555c97c0046b10048597120954</td>\n",
       "      <td>coaxial-cables-rf</td>\n",
       "      <td>7</td>\n",
       "      <td>0.698036</td>\n",
       "      <td>1</td>\n",
       "      <td>4</td>\n",
       "      <td>9</td>\n",
       "    </tr>\n",
       "    <tr>\n",
       "      <th>4</th>\n",
       "      <td>1b3c3c99b9be83ca11f01be323700b027a38ccdd</td>\n",
       "      <td>controller-accesories</td>\n",
       "      <td>22</td>\n",
       "      <td>0.000000</td>\n",
       "      <td>4</td>\n",
       "      <td>9</td>\n",
       "      <td>17</td>\n",
       "    </tr>\n",
       "    <tr>\n",
       "      <th>5</th>\n",
       "      <td>58f5bac3-3d38-43b1-b6d1-60bac2a5569a</td>\n",
       "      <td>microphones</td>\n",
       "      <td>11</td>\n",
       "      <td>0.632503</td>\n",
       "      <td>4</td>\n",
       "      <td>9</td>\n",
       "      <td>17</td>\n",
       "    </tr>\n",
       "    <tr>\n",
       "      <th>6</th>\n",
       "      <td>96PR-102-UB3-M_datasheet20180225090037</td>\n",
       "      <td>printers-label-makers</td>\n",
       "      <td>3</td>\n",
       "      <td>0.663774</td>\n",
       "      <td>5</td>\n",
       "      <td>10</td>\n",
       "      <td>19</td>\n",
       "    </tr>\n",
       "    <tr>\n",
       "      <th>7</th>\n",
       "      <td>cds-13138-smt</td>\n",
       "      <td>speakers</td>\n",
       "      <td>30</td>\n",
       "      <td>0.000000</td>\n",
       "      <td>2</td>\n",
       "      <td>4</td>\n",
       "      <td>11</td>\n",
       "    </tr>\n",
       "    <tr>\n",
       "      <th>8</th>\n",
       "      <td>LR43-DATASHEET</td>\n",
       "      <td>batteries-non-rechargable-primary</td>\n",
       "      <td>38</td>\n",
       "      <td>0.000000</td>\n",
       "      <td>5</td>\n",
       "      <td>10</td>\n",
       "      <td>20</td>\n",
       "    </tr>\n",
       "    <tr>\n",
       "      <th>9</th>\n",
       "      <td>cds-25148</td>\n",
       "      <td>speakers</td>\n",
       "      <td>5</td>\n",
       "      <td>0.526992</td>\n",
       "      <td>5</td>\n",
       "      <td>9</td>\n",
       "      <td>16</td>\n",
       "    </tr>\n",
       "  </tbody>\n",
       "</table>\n",
       "</div>"
      ]
     },
     "metadata": {},
     "output_type": "display_data"
    },
    {
     "data": {
      "text/plain": [
       "        max  min    median\n",
       "0  0.698036  0.0  0.551986"
      ],
      "text/html": [
       "<div>\n",
       "<style scoped>\n",
       "    .dataframe tbody tr th:only-of-type {\n",
       "        vertical-align: middle;\n",
       "    }\n",
       "\n",
       "    .dataframe tbody tr th {\n",
       "        vertical-align: top;\n",
       "    }\n",
       "\n",
       "    .dataframe thead th {\n",
       "        text-align: right;\n",
       "    }\n",
       "</style>\n",
       "<table border=\"1\" class=\"dataframe\">\n",
       "  <thead>\n",
       "    <tr style=\"text-align: right;\">\n",
       "      <th></th>\n",
       "      <th>max</th>\n",
       "      <th>min</th>\n",
       "      <th>median</th>\n",
       "    </tr>\n",
       "  </thead>\n",
       "  <tbody>\n",
       "    <tr>\n",
       "      <th>0</th>\n",
       "      <td>0.698036</td>\n",
       "      <td>0.0</td>\n",
       "      <td>0.551986</td>\n",
       "    </tr>\n",
       "  </tbody>\n",
       "</table>\n",
       "</div>"
      ]
     },
     "metadata": {},
     "output_type": "display_data"
    },
    {
     "data": {
      "text/plain": [
       "   rank                                doc_id  \\\n",
       "0     1                                  1cr2   \n",
       "1     2                                   123   \n",
       "2     3  8373d9aa-424a-4cf8-add9-8655f7a6700f   \n",
       "3     4                                   l91   \n",
       "4     5      maxell-alkaline-battery-002-2014   \n",
       "\n",
       "                               label     score  \n",
       "0  batteries-non-rechargable-primary  0.690095  \n",
       "1  batteries-non-rechargable-primary  0.678843  \n",
       "2                        microphones  0.673900  \n",
       "3  batteries-non-rechargable-primary  0.669383  \n",
       "4  batteries-non-rechargable-primary  0.669118  "
      ],
      "text/html": [
       "<div>\n",
       "<style scoped>\n",
       "    .dataframe tbody tr th:only-of-type {\n",
       "        vertical-align: middle;\n",
       "    }\n",
       "\n",
       "    .dataframe tbody tr th {\n",
       "        vertical-align: top;\n",
       "    }\n",
       "\n",
       "    .dataframe thead th {\n",
       "        text-align: right;\n",
       "    }\n",
       "</style>\n",
       "<table border=\"1\" class=\"dataframe\">\n",
       "  <thead>\n",
       "    <tr style=\"text-align: right;\">\n",
       "      <th></th>\n",
       "      <th>rank</th>\n",
       "      <th>doc_id</th>\n",
       "      <th>label</th>\n",
       "      <th>score</th>\n",
       "    </tr>\n",
       "  </thead>\n",
       "  <tbody>\n",
       "    <tr>\n",
       "      <th>0</th>\n",
       "      <td>1</td>\n",
       "      <td>1cr2</td>\n",
       "      <td>batteries-non-rechargable-primary</td>\n",
       "      <td>0.690095</td>\n",
       "    </tr>\n",
       "    <tr>\n",
       "      <th>1</th>\n",
       "      <td>2</td>\n",
       "      <td>123</td>\n",
       "      <td>batteries-non-rechargable-primary</td>\n",
       "      <td>0.678843</td>\n",
       "    </tr>\n",
       "    <tr>\n",
       "      <th>2</th>\n",
       "      <td>3</td>\n",
       "      <td>8373d9aa-424a-4cf8-add9-8655f7a6700f</td>\n",
       "      <td>microphones</td>\n",
       "      <td>0.673900</td>\n",
       "    </tr>\n",
       "    <tr>\n",
       "      <th>3</th>\n",
       "      <td>4</td>\n",
       "      <td>l91</td>\n",
       "      <td>batteries-non-rechargable-primary</td>\n",
       "      <td>0.669383</td>\n",
       "    </tr>\n",
       "    <tr>\n",
       "      <th>4</th>\n",
       "      <td>5</td>\n",
       "      <td>maxell-alkaline-battery-002-2014</td>\n",
       "      <td>batteries-non-rechargable-primary</td>\n",
       "      <td>0.669118</td>\n",
       "    </tr>\n",
       "  </tbody>\n",
       "</table>\n",
       "</div>"
      ]
     },
     "metadata": {},
     "output_type": "display_data"
    }
   ],
   "execution_count": 24
  },
  {
   "metadata": {
    "ExecuteTime": {
     "end_time": "2025-06-05T18:17:52.931858Z",
     "start_time": "2025-06-05T18:17:52.927242Z"
    }
   },
   "cell_type": "code",
   "source": [
    "import pickle\n",
    "\n",
    "# Save DataFrames\n",
    "dfs = {\n",
    "    'hybrid_statistics': hybrid_statistics['per_record'],\n",
    "    'rrf_statistics': rrf_statistics['per_record'],\n",
    "    'bm25_statistics': bm25_statistics['per_record'],\n",
    "    'vsm_statistics': vsm_statistics['per_record'],\n",
    "    'rerank_statistics': rerank_statistics['per_record']\n",
    "}\n",
    "with open(save_file, 'wb') as f:\n",
    "    pickle.dump(dfs, f)"
   ],
   "id": "bce8ded4c03b6997",
   "outputs": [],
   "execution_count": 25
  },
  {
   "metadata": {},
   "cell_type": "markdown",
   "source": [
    "--------------\n",
    "### Run all models and get the results back"
   ],
   "id": "775ae9f52d1b7060"
  },
  {
   "metadata": {
    "ExecuteTime": {
     "end_time": "2025-06-05T18:17:53.040087Z",
     "start_time": "2025-06-05T18:17:53.035520Z"
    }
   },
   "cell_type": "code",
   "source": [
    "import pickle\n",
    "\n",
    "run = False\n",
    "\n",
    "if run:\n",
    "    \n",
    "    statistics_results = aux_retrieval.run_all_models(query_list_documents, paths, use_expansion=use_expansion, use_multivector=use_multivector,)\n",
    "    display(statistics_results['bm25_statistics'])\n",
    "    \n",
    "    with open(save_path), 'wb') as f:\n",
    "        pickle.dump(statistics_results, f)"
   ],
   "id": "96729b1c9190afa9",
   "outputs": [
    {
     "ename": "SyntaxError",
     "evalue": "unmatched ')' (2907718880.py, line 10)",
     "output_type": "error",
     "traceback": [
      "\u001B[0;36m  Cell \u001B[0;32mIn[26], line 10\u001B[0;36m\u001B[0m\n\u001B[0;31m    with open(save_path), 'wb') as f:\u001B[0m\n\u001B[0m                              ^\u001B[0m\n\u001B[0;31mSyntaxError\u001B[0m\u001B[0;31m:\u001B[0m unmatched ')'\n"
     ]
    }
   ],
   "execution_count": 26
  }
 ],
 "metadata": {
  "kernelspec": {
   "display_name": "Python 3",
   "language": "python",
   "name": "python3"
  },
  "language_info": {
   "codemirror_mode": {
    "name": "ipython",
    "version": 2
   },
   "file_extension": ".py",
   "mimetype": "text/x-python",
   "name": "python",
   "nbconvert_exporter": "python",
   "pygments_lexer": "ipython2",
   "version": "2.7.6"
  }
 },
 "nbformat": 4,
 "nbformat_minor": 5
}
