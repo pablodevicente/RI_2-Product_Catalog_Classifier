{
 "cells": [
  {
   "cell_type": "code",
   "execution_count": 1,
   "metadata": {},
   "outputs": [],
   "source": [
    "import os\n",
    "import requests\n",
    "from bs4 import BeautifulSoup\n",
    "from urllib.parse import urljoin\n",
    "from tqdm import tqdm  # Correct import\n",
    "import fitz  # PyMuPDF\n",
    "import socket\n",
    "import importlib\n",
    "from aux_download_pdfs import download_pdfs_from_page, create_urls"
   ]
  },
  {
   "cell_type": "code",
   "execution_count": 4,
   "metadata": {},
   "outputs": [],
   "source": [
    "url = \"https://www.digikey.be/en/products/filter/rack-accessories/598/\"\n",
    "save_folder = \"../02-data/testing/\""
   ]
  },
  {
   "cell_type": "code",
   "execution_count": null,
   "metadata": {},
   "outputs": [],
   "source": [
    "categories = create_urls(url)"
   ]
  },
  {
   "cell_type": "code",
   "execution_count": null,
   "metadata": {},
   "outputs": [],
   "source": [
    "for label, urls in categories.items():\n",
    "    print(f\"Processing: {label}\")\n",
    "\n",
    "    download_pdfs_from_page(urls, save_folder)"
   ]
  },
  {
   "cell_type": "code",
   "execution_count": 8,
   "metadata": {},
   "outputs": [
    {
     "name": "stdout",
     "output_type": "stream",
     "text": [
      "HTML content saved as page_content.json\n"
     ]
    }
   ],
   "source": [
    "import requests\n",
    "import json\n",
    "\n",
    "def save_html_as_json(url, filename='page_content.json'):\n",
    "    # Send a request to the webpage\n",
    "     # Send request to fetch content of the webpage\n",
    "    headers = {\n",
    "        'User-Agent': 'Mozilla/5.0 (Windows NT 10.0; Win64; x64) AppleWebKit/537.36 (KHTML, like Gecko) Chrome/58.0.3029.110 Safari/537.3'}\n",
    "    response = requests.get(url, headers=headers)\n",
    "    # Check if the response is successful\n",
    "    if response.status_code == 200:\n",
    "        # Convert the HTML content to a dictionary format (key-value pair for raw HTML)\n",
    "        page_data = {\n",
    "            'url': url,\n",
    "            'html': response.text\n",
    "        }\n",
    "\n",
    "        # Save the HTML content as a JSON file\n",
    "        with open(filename, 'w', encoding='utf-8') as file:\n",
    "            json.dump(page_data, file, ensure_ascii=False, indent=4)\n",
    "        \n",
    "        print(f\"HTML content saved as {filename}\")\n",
    "    else:\n",
    "        print(f\"Failed to retrieve the webpage. Status code: {response.status_code}\")\n",
    "\n",
    "# Example usage\n",
    "url = \"https://www.digikey.be/en/products/filter/speakers/156\"\n",
    "save_html_as_json(url)"
   ]
  },
  {
   "cell_type": "code",
   "execution_count": null,
   "metadata": {},
   "outputs": [],
   "source": [
    "\n",
    "# Find all <a> tags with href attributes that contain '.pdf'\n",
    "pdf_links = []\n",
    "for link in soup.find_all('a', href=True):  # find all <a> tags with href attribute\n",
    "    href = link['href']\n",
    "    if '.pdf' in href:\n",
    "        # Handle relative URLs that start with //\n",
    "        if href.startswith('//'):\n",
    "            href = 'https:' + href\n",
    "        pdf_url = urljoin(url, href)\n",
    "        pdf_links.append(pdf_url)"
   ]
  },
  {
   "cell_type": "code",
   "execution_count": null,
   "metadata": {},
   "outputs": [],
   "source": [
    "from text_preprocessing import preprocess_text\n",
    "from text_preprocessing import to_lower, remove_email, remove_url, remove_punctuation, lemmatize_word"
   ]
  },
  {
   "cell_type": "code",
   "execution_count": null,
   "metadata": {},
   "outputs": [],
   "source": [
    "import nltk\n",
    "nltk.download('punkt_tab')"
   ]
  },
  {
   "cell_type": "code",
   "execution_count": null,
   "metadata": {},
   "outputs": [],
   "source": [
    "\"\"\"\n",
    "\n",
    "Transformations applied:\n",
    "\n",
    "\n",
    "rocessing_function_list = [to_lower,\n",
    "                            remove_url,\n",
    "                            remove_email,\n",
    "                            remove_phone_number,\n",
    "                            remove_itemized_bullet_and_numbering,\n",
    "                            expand_contraction,\n",
    "                            check_spelling,\n",
    "                            remove_special_character,\n",
    "                            remove_punctuation,\n",
    "                            remove_whitespace,\n",
    "                            normalize_unicode,\n",
    "                            remove_stopword,\n",
    "                            remove_name,\n",
    "                            substitute_token,\n",
    "                            lemmatize_word]\n",
    "\"\"\""
   ]
  },
  {
   "cell_type": "code",
   "execution_count": null,
   "metadata": {},
   "outputs": [],
   "source": [
    "# Preprocess text using default preprocess functions in the pipeline \n",
    "text_to_process = 'Helllo, I am John Doe!!! My email is john.doe@email.com. Visit our website www.johndoe.com'\n",
    "preprocessed_text = preprocess_text(text_to_process)\n",
    "print(preprocessed_text)\n",
    "# output: hello email visit website\n",
    "\n",
    "# Preprocess text using custom preprocess functions in the pipeline \n",
    "preprocess_functions = [to_lower, remove_email, remove_url, remove_punctuation, lemmatize_word]\n",
    "preprocessed_text = preprocess_text(text_to_process, preprocess_functions)\n",
    "print(preprocessed_text)\n",
    "# output: helllo i am john doe my email is visit our website"
   ]
  },
  {
   "cell_type": "code",
   "execution_count": 2,
   "metadata": {},
   "outputs": [
    {
     "data": {
      "text/plain": [
       "{'controller-accessories': ['https://www.digikey.com/en/products/filter/controllers/controller-accessories/816',\n",
       "  'https://www.digikey.com/en/products/filter/controllers/controller-accessories/816?s=N4IgrCBcoA5QTAGhDOkCMAGTBfHQ',\n",
       "  'https://www.digikey.com/en/products/filter/controllers/controller-accessories/816?s=N4IgrCBcoA5QzAGhDOkCMAGTBfHQ',\n",
       "  'https://www.digikey.com/en/products/filter/controllers/controller-accessories/816?s=N4IgrCBcoA5QLAGhDOkCMAGTBfHQ'],\n",
       " 'task-lighting': ['https://www.digikey.com/en/products/filter/industrial-lighting/task-lighting/1061',\n",
       "  'https://www.digikey.com/en/products/filter/industrial-lighting/task-lighting/1061?s=N4IgrCBcoA5QTAGhDOkCMAGTBfHQ',\n",
       "  'https://www.digikey.com/en/products/filter/industrial-lighting/task-lighting/1061?s=N4IgrCBcoA5QzAGhDOkCMAGTBfHQ',\n",
       "  'https://www.digikey.com/en/products/filter/industrial-lighting/task-lighting/1061?s=N4IgrCBcoA5QLAGhDOkCMAGTBfHQ'],\n",
       " 'batteries-non-rechargeable-primary': ['https://www.digikey.com/en/products/filter/batteries-non-rechargeable-primary/90',\n",
       "  'https://www.digikey.com/en/products/filter/batteries-non-rechargeable-primary/90?s=N4IgrCBcoA5QTAGhDOkCMAGTBfHQ',\n",
       "  'https://www.digikey.com/en/products/filter/batteries-non-rechargeable-primary/90?s=N4IgrCBcoA5QzAGhDOkCMAGTBfHQ',\n",
       "  'https://www.digikey.com/en/products/filter/batteries-non-rechargeable-primary/90?s=N4IgrCBcoA5QLAGhDOkCMAGTBfHQ'],\n",
       " 'batteries-rechargeable-secondary': ['https://www.digikey.com/en/products/filter/batteries-rechargeable-secondary/91',\n",
       "  'https://www.digikey.com/en/products/filter/batteries-rechargeable-secondary/91?s=N4IgrCBcoA5QTAGhDOkCMAGTBfHQ',\n",
       "  'https://www.digikey.com/en/products/filter/batteries-rechargeable-secondary/91?s=N4IgrCBcoA5QzAGhDOkCMAGTBfHQ',\n",
       "  'https://www.digikey.com/en/products/filter/batteries-rechargeable-secondary/91?s=N4IgrCBcoA5QLAGhDOkCMAGTBfHQ']}"
      ]
     },
     "execution_count": 2,
     "metadata": {},
     "output_type": "execute_result"
    }
   ],
   "source": [
    "def create_urls_and_append_to_catalog(base_url, catalog):\n",
    "    # Extract the label from the base URL (assumed to be between \"filter/\" and the next \"/\")\n",
    "    segments = base_url.split(\"/\")\n",
    "    label = segments[-2]  # Second-to-last segment (subcategory)\n",
    "\n",
    "    # Create the additional URLs by appending different query parameters\n",
    "    additional_queries = [\n",
    "        \"?s=N4IgrCBcoA5QTAGhDOkCMAGTBfHQ\",\n",
    "        \"?s=N4IgrCBcoA5QzAGhDOkCMAGTBfHQ\",\n",
    "        \"?s=N4IgrCBcoA5QLAGhDOkCMAGTBfHQ\"\n",
    "    ]\n",
    "    \n",
    "    # Create the list of full URLs (including the base one)\n",
    "    new_urls = [base_url] + [base_url + query for query in additional_queries]\n",
    "\n",
    "    # Ensure the label is present in the catalog and append URLs as a list\n",
    "    if label in catalog:\n",
    "        catalog[label].extend(new_urls)  # Append to existing list\n",
    "    else:\n",
    "        catalog[label] = new_urls  # Create new entry if label doesn't exist\n",
    "\n",
    "catalog = {}\n",
    "\n",
    "# Example base URLs\n",
    "urls = [\n",
    "    \"https://www.digikey.com/en/products/filter/controllers/controller-accessories/816\",\n",
    "    \"https://www.digikey.com/en/products/filter/industrial-lighting/task-lighting/1061\",\n",
    "    \"https://www.digikey.com/en/products/filter/batteries-non-rechargeable-primary/90\",\n",
    "    \"https://www.digikey.com/en/products/filter/batteries-rechargeable-secondary/91\"\n",
    "]\n",
    "\n",
    "# Call the function for each URL\n",
    "for base_url in urls:\n",
    "    create_urls_and_append_to_catalog(base_url, catalog)\n",
    "\n",
    "# Print the resulting catalog\n",
    "catalog"
   ]
  }
 ],
 "metadata": {
  "kernelspec": {
   "display_name": "Python 3",
   "language": "python",
   "name": "python3"
  },
  "language_info": {
   "codemirror_mode": {
    "name": "ipython",
    "version": 3
   },
   "file_extension": ".py",
   "mimetype": "text/x-python",
   "name": "python",
   "nbconvert_exporter": "python",
   "pygments_lexer": "ipython3",
   "version": "3.11.9"
  }
 },
 "nbformat": 4,
 "nbformat_minor": 2
}
