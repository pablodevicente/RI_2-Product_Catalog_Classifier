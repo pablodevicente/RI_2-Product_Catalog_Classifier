{
 "cells": [
  {
   "cell_type": "code",
   "execution_count": 1,
   "metadata": {},
   "outputs": [],
   "source": [
    "import os\n",
    "import requests\n",
    "from bs4 import BeautifulSoup\n",
    "from urllib.parse import urljoin\n",
    "from tqdm import tqdm  # Correct import\n",
    "import fitz  # PyMuPDF\n",
    "import socket\n",
    "import importlib\n",
    "from aux_download_pdfs import download_pdfs_from_page, create_urls"
   ]
  },
  {
   "cell_type": "code",
   "execution_count": 4,
   "metadata": {},
   "outputs": [],
   "source": [
    "url = \"https://www.digikey.be/en/products/filter/rack-accessories/598/\"\n",
    "save_folder = \"../02-data/testing/\""
   ]
  },
  {
   "cell_type": "code",
   "execution_count": null,
   "metadata": {},
   "outputs": [],
   "source": [
    "categories = create_urls(url)"
   ]
  },
  {
   "cell_type": "code",
   "execution_count": null,
   "metadata": {},
   "outputs": [],
   "source": [
    "for label, urls in categories.items():\n",
    "    print(f\"Processing: {label}\")\n",
    "\n",
    "    download_pdfs_from_page(urls, save_folder)"
   ]
  },
  {
   "cell_type": "code",
   "execution_count": 8,
   "metadata": {},
   "outputs": [
    {
     "name": "stdout",
     "output_type": "stream",
     "text": [
      "HTML content saved as page_content.json\n"
     ]
    }
   ],
   "source": [
    "import requests\n",
    "import json\n",
    "\n",
    "def save_html_as_json(url, filename='page_content.json'):\n",
    "    # Send a request to the webpage\n",
    "     # Send request to fetch content of the webpage\n",
    "    headers = {\n",
    "        'User-Agent': 'Mozilla/5.0 (Windows NT 10.0; Win64; x64) AppleWebKit/537.36 (KHTML, like Gecko) Chrome/58.0.3029.110 Safari/537.3'}\n",
    "    response = requests.get(url, headers=headers)\n",
    "    # Check if the response is successful\n",
    "    if response.status_code == 200:\n",
    "        # Convert the HTML content to a dictionary format (key-value pair for raw HTML)\n",
    "        page_data = {\n",
    "            'url': url,\n",
    "            'html': response.text\n",
    "        }\n",
    "\n",
    "        # Save the HTML content as a JSON file\n",
    "        with open(filename, 'w', encoding='utf-8') as file:\n",
    "            json.dump(page_data, file, ensure_ascii=False, indent=4)\n",
    "        \n",
    "        print(f\"HTML content saved as {filename}\")\n",
    "    else:\n",
    "        print(f\"Failed to retrieve the webpage. Status code: {response.status_code}\")\n",
    "\n",
    "# Example usage\n",
    "url = \"https://www.digikey.be/en/products/filter/speakers/156\"\n",
    "save_html_as_json(url)"
   ]
  },
  {
   "cell_type": "code",
   "execution_count": null,
   "metadata": {},
   "outputs": [],
   "source": [
    "\n",
    "# Find all <a> tags with href attributes that contain '.pdf'\n",
    "pdf_links = []\n",
    "for link in soup.find_all('a', href=True):  # find all <a> tags with href attribute\n",
    "    href = link['href']\n",
    "    if '.pdf' in href:\n",
    "        # Handle relative URLs that start with //\n",
    "        if href.startswith('//'):\n",
    "            href = 'https:' + href\n",
    "        pdf_url = urljoin(url, href)\n",
    "        pdf_links.append(pdf_url)"
   ]
  },
  {
   "cell_type": "code",
   "execution_count": null,
   "metadata": {},
   "outputs": [],
   "source": [
    "from text_preprocessing import preprocess_text\n",
    "from text_preprocessing import to_lower, remove_email, remove_url, remove_punctuation, lemmatize_word"
   ]
  },
  {
   "cell_type": "code",
   "execution_count": null,
   "metadata": {},
   "outputs": [],
   "source": [
    "import nltk\n",
    "nltk.download('punkt_tab')"
   ]
  },
  {
   "cell_type": "code",
   "execution_count": null,
   "metadata": {},
   "outputs": [],
   "source": [
    "\"\"\"\n",
    "\n",
    "Transformations applied:\n",
    "\n",
    "\n",
    "rocessing_function_list = [to_lower,\n",
    "                            remove_url,\n",
    "                            remove_email,\n",
    "                            remove_phone_number,\n",
    "                            remove_itemized_bullet_and_numbering,\n",
    "                            expand_contraction,\n",
    "                            check_spelling,\n",
    "                            remove_special_character,\n",
    "                            remove_punctuation,\n",
    "                            remove_whitespace,\n",
    "                            normalize_unicode,\n",
    "                            remove_stopword,\n",
    "                            remove_name,\n",
    "                            substitute_token,\n",
    "                            lemmatize_word]\n",
    "\"\"\""
   ]
  },
  {
   "cell_type": "code",
   "execution_count": null,
   "metadata": {},
   "outputs": [],
   "source": [
    "# Preprocess text using default preprocess functions in the pipeline \n",
    "text_to_process = 'Helllo, I am John Doe!!! My email is john.doe@email.com. Visit our website www.johndoe.com'\n",
    "preprocessed_text = preprocess_text(text_to_process)\n",
    "print(preprocessed_text)\n",
    "# output: hello email visit website\n",
    "\n",
    "# Preprocess text using custom preprocess functions in the pipeline \n",
    "preprocess_functions = [to_lower, remove_email, remove_url, remove_punctuation, lemmatize_word]\n",
    "preprocessed_text = preprocess_text(text_to_process, preprocess_functions)\n",
    "print(preprocessed_text)\n",
    "# output: helllo i am john doe my email is visit our website"
   ]
  },
  {
   "cell_type": "code",
   "execution_count": 2,
   "metadata": {},
   "outputs": [
    {
     "data": {
      "text/plain": [
       "{'controller-accessories': ['https://www.digikey.com/en/products/filter/controllers/controller-accessories/816',\n",
       "  'https://www.digikey.com/en/products/filter/controllers/controller-accessories/816?s=N4IgrCBcoA5QTAGhDOkCMAGTBfHQ',\n",
       "  'https://www.digikey.com/en/products/filter/controllers/controller-accessories/816?s=N4IgrCBcoA5QzAGhDOkCMAGTBfHQ',\n",
       "  'https://www.digikey.com/en/products/filter/controllers/controller-accessories/816?s=N4IgrCBcoA5QLAGhDOkCMAGTBfHQ'],\n",
       " 'task-lighting': ['https://www.digikey.com/en/products/filter/industrial-lighting/task-lighting/1061',\n",
       "  'https://www.digikey.com/en/products/filter/industrial-lighting/task-lighting/1061?s=N4IgrCBcoA5QTAGhDOkCMAGTBfHQ',\n",
       "  'https://www.digikey.com/en/products/filter/industrial-lighting/task-lighting/1061?s=N4IgrCBcoA5QzAGhDOkCMAGTBfHQ',\n",
       "  'https://www.digikey.com/en/products/filter/industrial-lighting/task-lighting/1061?s=N4IgrCBcoA5QLAGhDOkCMAGTBfHQ'],\n",
       " 'batteries-non-rechargeable-primary': ['https://www.digikey.com/en/products/filter/batteries-non-rechargeable-primary/90',\n",
       "  'https://www.digikey.com/en/products/filter/batteries-non-rechargeable-primary/90?s=N4IgrCBcoA5QTAGhDOkCMAGTBfHQ',\n",
       "  'https://www.digikey.com/en/products/filter/batteries-non-rechargeable-primary/90?s=N4IgrCBcoA5QzAGhDOkCMAGTBfHQ',\n",
       "  'https://www.digikey.com/en/products/filter/batteries-non-rechargeable-primary/90?s=N4IgrCBcoA5QLAGhDOkCMAGTBfHQ'],\n",
       " 'batteries-rechargeable-secondary': ['https://www.digikey.com/en/products/filter/batteries-rechargeable-secondary/91',\n",
       "  'https://www.digikey.com/en/products/filter/batteries-rechargeable-secondary/91?s=N4IgrCBcoA5QTAGhDOkCMAGTBfHQ',\n",
       "  'https://www.digikey.com/en/products/filter/batteries-rechargeable-secondary/91?s=N4IgrCBcoA5QzAGhDOkCMAGTBfHQ',\n",
       "  'https://www.digikey.com/en/products/filter/batteries-rechargeable-secondary/91?s=N4IgrCBcoA5QLAGhDOkCMAGTBfHQ']}"
      ]
     },
     "execution_count": 2,
     "metadata": {},
     "output_type": "execute_result"
    }
   ],
   "source": [
    "def create_urls_and_append_to_catalog(base_url, catalog):\n",
    "    # Extract the label from the base URL (assumed to be between \"filter/\" and the next \"/\")\n",
    "    segments = base_url.split(\"/\")\n",
    "    label = segments[-2]  # Second-to-last segment (subcategory)\n",
    "\n",
    "    # Create the additional URLs by appending different query parameters\n",
    "    additional_queries = [\n",
    "        \"?s=N4IgrCBcoA5QTAGhDOkCMAGTBfHQ\",\n",
    "        \"?s=N4IgrCBcoA5QzAGhDOkCMAGTBfHQ\",\n",
    "        \"?s=N4IgrCBcoA5QLAGhDOkCMAGTBfHQ\"\n",
    "    ]\n",
    "    \n",
    "    # Create the list of full URLs (including the base one)\n",
    "    new_urls = [base_url] + [base_url + query for query in additional_queries]\n",
    "\n",
    "    # Ensure the label is present in the catalog and append URLs as a list\n",
    "    if label in catalog:\n",
    "        catalog[label].extend(new_urls)  # Append to existing list\n",
    "    else:\n",
    "        catalog[label] = new_urls  # Create new entry if label doesn't exist\n",
    "\n",
    "catalog = {}\n",
    "\n",
    "# Example base URLs\n",
    "urls = [\n",
    "    \"https://www.digikey.com/en/products/filter/controllers/controller-accessories/816\",\n",
    "    \"https://www.digikey.com/en/products/filter/industrial-lighting/task-lighting/1061\",\n",
    "    \"https://www.digikey.com/en/products/filter/batteries-non-rechargeable-primary/90\",\n",
    "    \"https://www.digikey.com/en/products/filter/batteries-rechargeable-secondary/91\"\n",
    "]\n",
    "\n",
    "# Call the function for each URL\n",
    "for base_url in urls:\n",
    "    create_urls_and_append_to_catalog(base_url, catalog)\n",
    "\n",
    "# Print the resulting catalog\n",
    "catalog"
   ]
  },
  {
   "cell_type": "code",
   "execution_count": 2,
   "metadata": {},
   "outputs": [],
   "source": [
    "urls_file_path = \"../02-data/urls.txt\"\n",
    "with open(urls_file_path, 'r') as file:\n",
    "    file"
   ]
  },
  {
   "cell_type": "code",
   "execution_count": 1,
   "metadata": {},
   "outputs": [
    {
     "name": "stdout",
     "output_type": "stream",
     "text": [
      "                                    Folder  File Count\n",
      "11                                speakers         200\n",
      "5                              microphones         164\n",
      "1                   controller-accessories         156\n",
      "17               alarms-buzzers-and-sirens         133\n",
      "24      batteries-non-rechargeable-primary         129\n",
      "25        batteries-rechargeable-secondary         118\n",
      "26                        battery-chargers         116\n",
      "9                         rack-accessories          79\n",
      "18        aluminum-electrolytic-capacitors          71\n",
      "13                           task-lighting          71\n",
      "29                                   boxes          64\n",
      "16                             accessories          59\n",
      "32                        circuit-breakers          57\n",
      "6                multiple-conductor-cables          51\n",
      "0                        coaxial-cables-rf          46\n",
      "19             aluminum-polymer-capacitors          45\n",
      "7                    printers-label-makers          42\n",
      "10    single-conductor-cables-hook-up-wire          38\n",
      "30                 cable-ties-and-zip-ties          32\n",
      "20          anti-static-esd-bags-materials          32\n",
      "33               circular-cable-assemblies          24\n",
      "12                     tantalum-capacitors          23\n",
      "21            backplane-connector-housings          22\n",
      "2               electrical-specialty-fuses          18\n",
      "4           jumper-wires-pre-crimped-leads          15\n",
      "8   protective-hoses-solid-tubing-sleeving          15\n",
      "3                       fiber-optic-cables          12\n",
      "27                           battery-packs           7\n",
      "31                              card-racks           1\n",
      "15                     ac-power-connectors           0\n",
      "14       transient-voltage-suppressors-tvs           0\n",
      "23                       barrel-connectors           0\n",
      "22               banana-and-tip-connectors           0\n",
      "28             blade-type-power-connectors           0\n"
     ]
    }
   ],
   "source": [
    "import os\n",
    "import pandas as pd\n",
    "\n",
    "def count_files_in_folders(base_path):\n",
    "    # Dictionary to store folder names and the count of files in each folder\n",
    "    folder_file_count = {}\n",
    "\n",
    "    # Walk through the directory\n",
    "    for root, dirs, files in os.walk(base_path):\n",
    "        for folder in dirs:\n",
    "            # Get the path of the folder\n",
    "            folder_path = os.path.join(root, folder)\n",
    "            \n",
    "            # Count the number of files in the folder\n",
    "            num_files = len([file for file in os.listdir(folder_path) if os.path.isfile(os.path.join(folder_path, file))])\n",
    "            \n",
    "            # Store the folder name and file count in the dictionary\n",
    "            folder_file_count[folder] = num_files\n",
    "\n",
    "    return folder_file_count\n",
    "\n",
    "# Base path where the folders are located\n",
    "base_path = '/media/pablo/windows_files/00 - Master/05 - Research&Thesis/R2-Research_Internship_2/02-data/pdfs/'\n",
    "folder_counts = count_files_in_folders(base_path)\n",
    "\n",
    "# Create a pandas DataFrame from the folder counts dictionary\n",
    "df = pd.DataFrame(list(folder_counts.items()), columns=['Folder', 'File Count'])\n",
    "\n",
    "# Sort the DataFrame by 'File Count' in descending order\n",
    "df_sorted = df.sort_values(by='File Count', ascending=False)\n",
    "\n",
    "# Save the sorted DataFrame to a CSV file in the same path\n",
    "output_path = os.path.join(base_path, '../label_counts.csv')\n",
    "df_sorted.to_csv(output_path, index=False)\n",
    "\n",
    "# Output the sorted DataFrame\n",
    "print(df_sorted)\n"
   ]
  },
  {
   "cell_type": "code",
   "execution_count": 3,
   "metadata": {},
   "outputs": [],
   "source": [
    "from aux_download_pdfs import create_urls\n",
    "urls = [\n",
    "    \"https://www.digikey.com/en/products/filter/controllers/controller-accessories/816\",\n",
    "    \"https://www.digikey.com/en/products/filter/industrial-lighting/task-lighting/1061\",\n",
    "    \"https://www.digikey.com/en/products/filter/batteries-non-rechargeable-primary/90\",\n",
    "    \"https://www.digikey.com/en/products/filter/batteries-rechargeable-secondary/91\",\n",
    "    \"https://www.digikey.com/en/products/filter/battery-chargers/85\",\n",
    "    #\"https://www.digikey.be/en/products/filter/battery-packs/89\", #6 instances\n",
    "    \"https://www.digikey.be/en/products/filter/microphones/158\",\n",
    "    \"https://www.digikey.be/en/products/filter/speakers/156\",\n",
    "    \"https://www.digikey.com/en/products/filter/alarms-buzzers-and-sirens/157\",\n",
    "    \"https://www.digikey.be/en/products/filter/anti-static-esd-bags-materials/605\",\n",
    "    \"https://www.digikey.be/en/products/filter/boxes/594\",\n",
    "    #\"https://www.digikey.be/en/products/filter/card-racks/588\", #1 instance\n",
    "    \"https://www.digikey.be/en/products/filter/rack-accessories/598\",\n",
    "    \"https://www.digikey.be/en/products/filter/circular-cable-assemblies/448\",\n",
    "    \"https://www.digikey.be/en/products/filter/rack-accessories/598\",\n",
    "    \"https://www.digikey.be/en/products/filter/circular-cable-assemblies/448\",\n",
    "    \"https://www.digikey.be/en/products/filter/fiber-optic-cables/449\",\n",
    "    \"https://www.digikey.be/en/products/filter/jumper-wires-pre-crimped-leads/453\", #15 instances\n",
    "    \"https://www.digikey.be/en/products/filter/coaxial-cables-rf/475\",\n",
    "    \"https://www.digikey.be/en/products/filter/multiple-conductor-cables/473\",\n",
    "    \"https://www.digikey.be/en/products/filter/single-conductor-cables-hook-up-wire/474\",\n",
    "    \"https://www.digikey.be/en/products/filter/accessories/479\",\n",
    "    \"https://www.digikey.be/en/products/filter/cable-ties-and-zip-ties/482\",\n",
    "    \"https://www.digikey.be/en/products/filter/protective-hoses-solid-tubing-sleeving/480\",\n",
    "    \"https://www.digikey.be/en/products/filter/aluminum-polymer-capacitors/69\",\n",
    "    \"https://www.digikey.be/en/products/filter/aluminum-electrolytic-capacitors/58\",\n",
    "    \"https://www.digikey.be/en/products/filter/tantalum-capacitors/59\",\n",
    "    \"https://www.digikey.be/en/products/filter/circuit-breakers/143\",\n",
    "    \"https://www.digikey.be/en/products/filter/electrical-specialty-fuses/155\",\n",
    "    \"https://www.digikey.be/en/products/category/transient-voltage-suppressors-tvs/2040\",\n",
    "    \"https://www.digikey.be/en/products/filter/printers-label-makers/887\",\n",
    "    \"https://www.digikey.be/en/products/category/ac-power-connectors/2026\",\n",
    "    \"https://www.digikey.be/en/products/filter/backplane-connectors/backplane-connector-housings/372\",\n",
    "    \"https://www.digikey.be/en/products/category/banana-and-tip-connectors/2001\",\n",
    "    \"https://www.digikey.be/en/products/category/barrel-connectors/2002\",\n",
    "    \"https://www.digikey.be/en/products/category/blade-type-power-connectors/2003\"\n",
    "]\n",
    "\n",
    "categories = create_urls(urls)"
   ]
  },
  {
   "cell_type": "code",
   "execution_count": 5,
   "metadata": {},
   "outputs": [
    {
     "name": "stdout",
     "output_type": "stream",
     "text": [
      "controller-accessories\n",
      "task-lighting\n",
      "batteries-non-rechargeable-primary\n",
      "batteries-rechargeable-secondary\n",
      "battery-chargers\n",
      "microphones\n",
      "speakers\n",
      "alarms-buzzers-and-sirens\n",
      "anti-static-esd-bags-materials\n",
      "boxes\n",
      "rack-accessories\n",
      "circular-cable-assemblies\n",
      "fiber-optic-cables\n",
      "jumper-wires-pre-crimped-leads\n",
      "coaxial-cables-rf\n",
      "multiple-conductor-cables\n",
      "single-conductor-cables-hook-up-wire\n",
      "accessories\n",
      "cable-ties-and-zip-ties\n",
      "protective-hoses-solid-tubing-sleeving\n",
      "aluminum-polymer-capacitors\n",
      "aluminum-electrolytic-capacitors\n",
      "tantalum-capacitors\n",
      "circuit-breakers\n",
      "electrical-specialty-fuses\n",
      "transient-voltage-suppressors-tvs\n",
      "printers-label-makers\n",
      "ac-power-connectors\n",
      "backplane-connector-housings\n",
      "banana-and-tip-connectors\n",
      "barrel-connectors\n",
      "blade-type-power-connectors\n"
     ]
    }
   ],
   "source": [
    "for label in categories.keys():\n",
    "    print(label)"
   ]
  },
  {
   "cell_type": "code",
   "execution_count": 15,
   "metadata": {},
   "outputs": [],
   "source": [
    "# Read URLs from a text file into a list\n",
    "urls_path = os.path.join(base_path, \"../urls.txt\")  # Folder to check for corrupted PDFs\n",
    "\n",
    "# Open the file and read the URLs line by line\n",
    "with open(urls_path, \"r\") as file:\n",
    "    urls = [line.strip() for line in file.readlines() if line.strip()]  # Remove extra spaces and newlines\n"
   ]
  },
  {
   "cell_type": "code",
   "execution_count": 16,
   "metadata": {},
   "outputs": [
    {
     "data": {
      "text/plain": [
       "['https://www.digikey.com/en/products/filter/controllers/controller-accessories/816',\n",
       " 'https://www.digikey.com/en/products/filter/industrial-lighting/task-lighting/1061',\n",
       " 'https://www.digikey.com/en/products/filter/batteries-non-rechargeable-primary/90',\n",
       " 'https://www.digikey.com/en/products/filter/batteries-rechargeable-secondary/91',\n",
       " 'https://www.digikey.com/en/products/filter/battery-chargers/85',\n",
       " 'https://www.digikey.be/en/products/filter/battery-packs/89',\n",
       " 'https://www.digikey.be/en/products/filter/microphones/158',\n",
       " 'https://www.digikey.be/en/products/filter/speakers/156',\n",
       " 'https://www.digikey.com/en/products/filter/alarms-buzzers-and-sirens/157',\n",
       " 'https://www.digikey.be/en/products/filter/anti-static-esd-bags-materials/605',\n",
       " 'https://www.digikey.be/en/products/filter/boxes/594',\n",
       " 'https://www.digikey.be/en/products/filter/card-racks/588',\n",
       " 'https://www.digikey.be/en/products/filter/rack-accessories/598',\n",
       " 'https://www.digikey.be/en/products/filter/circular-cable-assemblies/448',\n",
       " 'https://www.digikey.be/en/products/filter/rack-accessories/598',\n",
       " 'https://www.digikey.be/en/products/filter/circular-cable-assemblies/448',\n",
       " 'https://www.digikey.be/en/products/filter/fiber-optic-cables/449',\n",
       " 'https://www.digikey.be/en/products/filter/jumper-wires-pre-crimped-leads/453',\n",
       " 'https://www.digikey.be/en/products/filter/coaxial-cables-rf/475',\n",
       " 'https://www.digikey.be/en/products/filter/multiple-conductor-cables/473',\n",
       " 'https://www.digikey.be/en/products/filter/single-conductor-cables-hook-up-wire/474',\n",
       " 'https://www.digikey.be/en/products/filter/accessories/479',\n",
       " 'https://www.digikey.be/en/products/filter/cable-ties-and-zip-ties/482',\n",
       " 'https://www.digikey.be/en/products/filter/protective-hoses-solid-tubing-sleeving/480',\n",
       " 'https://www.digikey.be/en/products/filter/aluminum-polymer-capacitors/69',\n",
       " 'https://www.digikey.be/en/products/filter/aluminum-electrolytic-capacitors/58',\n",
       " 'https://www.digikey.be/en/products/filter/tantalum-capacitors/59',\n",
       " 'https://www.digikey.be/en/products/filter/circuit-breakers/143',\n",
       " 'https://www.digikey.be/en/products/filter/electrical-specialty-fuses/155',\n",
       " 'https://www.digikey.be/en/products/category/transient-voltage-suppressors-tvs/2040',\n",
       " 'https://www.digikey.be/en/products/filter/printers-label-makers/887',\n",
       " 'https://www.digikey.be/en/products/category/ac-power-connectors/2026',\n",
       " 'https://www.digikey.be/en/products/filter/backplane-connectors/backplane-connector-housings/372',\n",
       " 'https://www.digikey.be/en/products/category/banana-and-tip-connectors/2001',\n",
       " 'https://www.digikey.be/en/products/category/barrel-connectors/2002',\n",
       " 'https://www.digikey.be/en/products/category/blade-type-power-connectors/2003']"
      ]
     },
     "execution_count": 16,
     "metadata": {},
     "output_type": "execute_result"
    }
   ],
   "source": [
    "urls"
   ]
  }
 ],
 "metadata": {
  "kernelspec": {
   "display_name": "Python 3",
   "language": "python",
   "name": "python3"
  },
  "language_info": {
   "codemirror_mode": {
    "name": "ipython",
    "version": 3
   },
   "file_extension": ".py",
   "mimetype": "text/x-python",
   "name": "python",
   "nbconvert_exporter": "python",
   "pygments_lexer": "ipython3",
   "version": "3.11.9"
  }
 },
 "nbformat": 4,
 "nbformat_minor": 2
}
