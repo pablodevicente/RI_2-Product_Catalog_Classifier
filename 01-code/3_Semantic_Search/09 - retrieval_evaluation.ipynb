{
 "cells": [
  {
   "cell_type": "code",
   "id": "initial_id",
   "metadata": {
    "collapsed": true,
    "ExecuteTime": {
     "end_time": "2025-06-13T10:35:44.698411Z",
     "start_time": "2025-06-13T10:35:42.589965Z"
    }
   },
   "source": [
    "# Proprietary library\n",
    "import aux_document_retrieval_bm25 as aux_bm25\n",
    "import aux_document_retrieval_vsm as aux_vsm\n",
    "import aux_semantic_search as aux_semantics\n",
    "import aux_retrieval_evaluation as aux_retrieval\n",
    "import aux_document_retrieval_hybrid as aux_hybrid\n",
    "from dataclass import QueryResult\n",
    "\n",
    "from typing import  Dict, Any, Union\n",
    "import dataclass as data\n",
    "import pandas as pd\n",
    "from pathlib import Path\n",
    "import logging\n",
    "import nltk\n",
    "import json\n",
    "import importlib\n",
    "\n",
    "# Reload Modules\n",
    "importlib.reload(aux_vsm)\n",
    "importlib.reload(aux_bm25)\n",
    "importlib.reload(aux_semantics)\n",
    "importlib.reload(aux_retrieval)\n",
    "\n",
    "# For word processing\n",
    "nltk.download('punkt_tab')\n",
    "\n",
    "DocLike = Union[data.RetrievedDocument, Dict[str, Any]]"
   ],
   "outputs": [
    {
     "name": "stderr",
     "output_type": "stream",
     "text": [
      "2025-06-13 12:35:44,065 - numexpr.utils - INFO - NumExpr defaulting to 8 threads.\n",
      "[nltk_data] Downloading package punkt_tab to /home/pablo/nltk_data...\n",
      "[nltk_data]   Package punkt_tab is already up-to-date!\n"
     ]
    }
   ],
   "execution_count": 1
  },
  {
   "metadata": {
    "ExecuteTime": {
     "end_time": "2025-06-13T10:36:06.658021Z",
     "start_time": "2025-06-13T10:36:06.647091Z"
    }
   },
   "cell_type": "code",
   "source": [
    "# Basic enviroment setup\n",
    "\n",
    "logging.basicConfig(\n",
    "    level=logging.ERROR,\n",
    "    format=\"%(asctime)s %(name)s [%(levelname)s] %(message)s\",\n",
    "    force=True\n",
    ")\n",
    "logger = logging.getLogger(__name__)\n",
    "\n",
    "paths = {\n",
    "    'word2vec': Path(\"../02-data/03-VSM/01-Word2Vec/word2vec-google-news-300.bin\"),\n",
    "    'idf_cache': Path(\"../02-data/03-VSM/idf_cache_path.pkl\"),\n",
    "    'word2vec_vsm_multivector': Path(\"../02-data/03-VSM/01-Word2Vec/word2vec-4-50-4-150-1.pkl\"),\n",
    "    'word2vec_vsm_singlevector': Path(\"../02-data/03-VSM/01-Word2Vec/word2vec-4-50-4-150-0.pkl\"),\n",
    "    'file': Path(\"../02-data/00-testing/batteries-non-rechargable-primary/1cr2/1cr2.txt\"),\n",
    "    'output_path': Path(\"../02-data/00-testing/batteries-non-rechargable-primary/1cr2/sentence_expansions.txt\"),\n",
    "    'pdf_folder': Path(\"../02-data/00-testing/\"),\n",
    "    'retriever': Path(\"../02-data/05-Retrieval/corpus_bm25\"),\n",
    "    'queries_1' : Path(\"../02-data/06-Evaluation/query_evaluation_1.json\"),\n",
    "    'queries_2' : Path(\"../02-data/06-Evaluation/query_evaluation_2.json\"),\n",
    "    'ranking_query_evaluation_1' : Path('../02-data/06-Evaluation/ranking_query_evaluation_1.pkl'), ## using queries_1, singlevector, QE, minmax\n",
    "    'ranking_query_evaluation_2' : Path('../02-data/06-Evaluation/ranking_query_evaluation_2.pkl'), ## using queries_2\n",
    "    'ranking_query_evaluation_3' : Path('../02-data/06-Evaluation/ranking_query_evaluation_3.pkl'), ## using queries_1, multivector, QE, minmax\n",
    "    'ranking_query_evaluation_4' : Path('../02-data/06-Evaluation/ranking_query_evaluation_4.pkl'), ## using queries_1, multivector, no QE, minmax\n",
    "    'ranking_query_evaluation_5' : Path('../02-data/06-Evaluation/ranking_query_evaluation_5.pkl'), ## using queries_1, multivector, QE, zscore\n",
    "    'ranking_query_evaluation_6' : Path('../02-data/06-Evaluation/ranking_query_evaluation_6.pkl'), ## using queries_1, multivector, QE, minmax/zscore\n",
    "    'QE_eval' : Path(\"../02-data/06-Evaluation/QE_eval.pkl\"),           ## query1 , multivector , minmax/zscore , QE\n",
    "    'no_QE_eval' : Path(\"../02-data/06-Evaluation/no_QE_eval.pkl\"),        ## query1 , multivector , minmax/zscore , no QE\n",
    "    'single_eval' : Path(\"../02-data/06-Evaluation/single_eval.pkl\"),       ## query1 , singlevector , minmax/zscore , QE\n",
    "    'multi_eval' : Path(\"../02-data/06-Evaluation/multi_eval.pkl\")         ## query1 , multivector , minmax/zscore , QE\n",
    "\n",
    "}\n",
    "\n",
    "save_file = str(paths['multi_eval'])\n",
    "\n",
    "use_multivector = True\n",
    "use_expansion = True\n",
    "\n",
    "norm_vsm = 'minmax'\n",
    "norm_bm25 = 'zscore'\n",
    "\n",
    "top_k = 100\n",
    "\n",
    "with open(str(paths['queries_1'])) as f:\n",
    "    raw = json.load(f)\n",
    "\n",
    "query_list_documents = [data.DocumentSection(**entry) for entry in raw]"
   ],
   "id": "87a8313a38dcb7a5",
   "outputs": [],
   "execution_count": 2
  },
  {
   "metadata": {},
   "cell_type": "markdown",
   "source": [
    "--------------------------------\n",
    "## VSM evaluation. Works both for testing multivecror and singlevector\n"
   ],
   "id": "a1d5f63a12cddab9"
  },
  {
   "metadata": {
    "ExecuteTime": {
     "end_time": "2025-06-13T10:36:57.358314Z",
     "start_time": "2025-06-13T10:36:10.231725Z"
    }
   },
   "cell_type": "code",
   "source": [
    "importlib.reload(aux_vsm)\n",
    "importlib.reload(aux_retrieval)\n",
    "\n",
    "vsm_records = []\n",
    "\n",
    "resources = aux_vsm.load_word2vec_resources(paths, use_multivector=use_multivector)\n",
    "\n",
    "for section in query_list_documents:\n",
    "    w2v_result: aux_vsm.Word2VecQueryResult = aux_vsm.run_word2vec_query_preloaded(\n",
    "        resources,\n",
    "        section.query,\n",
    "        top_k=top_k,\n",
    "        use_expansion=use_expansion\n",
    "    )\n",
    "\n",
    "    vsm_records.append({\n",
    "        \"doc\": section.doc,\n",
    "        \"label\": section.label,\n",
    "        \"query\": section.query,\n",
    "        \"result\": w2v_result\n",
    "    })\n",
    "    \n",
    "#compute statistics for evaluation\n",
    "vsm_statistics = aux_retrieval.compute_query_run_stats(vsm_records)\n",
    "display(vsm_statistics['per_record'])\n",
    "display(vsm_statistics['score_stats'])\n",
    "\n",
    "#if you want to look at one specific record\n",
    "vsm_data = pd.DataFrame(data = vsm_records[0]['result'].results.documents)\n",
    "display(vsm_data)"
   ],
   "id": "deeb3c02bee35fca",
   "outputs": [
    {
     "data": {
      "text/plain": [
       "                                        doc  \\\n",
       "0                                      1cr2   \n",
       "1                             cpi-2212-85pm   \n",
       "2                                 106765806   \n",
       "3  a4cec9f14f3566555c97c0046b10048597120954   \n",
       "4  1b3c3c99b9be83ca11f01be323700b027a38ccdd   \n",
       "5      58f5bac3-3d38-43b1-b6d1-60bac2a5569a   \n",
       "6    96PR-102-UB3-M_datasheet20180225090037   \n",
       "7                           ces-20134-088pm   \n",
       "8                            LR43-DATASHEET   \n",
       "9                                 cds-25148   \n",
       "\n",
       "                               label  rank     score  label_count_top_5  \\\n",
       "0  batteries-non-rechargable-primary  19.0  0.710978                  3   \n",
       "1          alarms-buzzers-and-sirens   NaN       NaN                  1   \n",
       "2                cable-ties-zip-ties  11.0  0.584506                  4   \n",
       "3                  coaxial-cables-rf  90.0  0.646548                  1   \n",
       "4              controller-accesories   NaN       NaN                  5   \n",
       "5                        microphones  24.0  0.558128                  5   \n",
       "6              printers-label-makers   4.0  0.674221                  5   \n",
       "7                           speakers   NaN       NaN                  2   \n",
       "8  batteries-non-rechargable-primary   NaN       NaN                  4   \n",
       "9                           speakers  39.0  0.456370                  2   \n",
       "\n",
       "   label_count_top_10  label_count_top_20  \n",
       "0                   6                  12  \n",
       "1                   2                   3  \n",
       "2                   7                  13  \n",
       "3                   5                   7  \n",
       "4                   9                  12  \n",
       "5                   7                  14  \n",
       "6                  10                  19  \n",
       "7                   5                  12  \n",
       "8                   9                  19  \n",
       "9                   5                  13  "
      ],
      "text/html": [
       "<div>\n",
       "<style scoped>\n",
       "    .dataframe tbody tr th:only-of-type {\n",
       "        vertical-align: middle;\n",
       "    }\n",
       "\n",
       "    .dataframe tbody tr th {\n",
       "        vertical-align: top;\n",
       "    }\n",
       "\n",
       "    .dataframe thead th {\n",
       "        text-align: right;\n",
       "    }\n",
       "</style>\n",
       "<table border=\"1\" class=\"dataframe\">\n",
       "  <thead>\n",
       "    <tr style=\"text-align: right;\">\n",
       "      <th></th>\n",
       "      <th>doc</th>\n",
       "      <th>label</th>\n",
       "      <th>rank</th>\n",
       "      <th>score</th>\n",
       "      <th>label_count_top_5</th>\n",
       "      <th>label_count_top_10</th>\n",
       "      <th>label_count_top_20</th>\n",
       "    </tr>\n",
       "  </thead>\n",
       "  <tbody>\n",
       "    <tr>\n",
       "      <th>0</th>\n",
       "      <td>1cr2</td>\n",
       "      <td>batteries-non-rechargable-primary</td>\n",
       "      <td>19.0</td>\n",
       "      <td>0.710978</td>\n",
       "      <td>3</td>\n",
       "      <td>6</td>\n",
       "      <td>12</td>\n",
       "    </tr>\n",
       "    <tr>\n",
       "      <th>1</th>\n",
       "      <td>cpi-2212-85pm</td>\n",
       "      <td>alarms-buzzers-and-sirens</td>\n",
       "      <td>NaN</td>\n",
       "      <td>NaN</td>\n",
       "      <td>1</td>\n",
       "      <td>2</td>\n",
       "      <td>3</td>\n",
       "    </tr>\n",
       "    <tr>\n",
       "      <th>2</th>\n",
       "      <td>106765806</td>\n",
       "      <td>cable-ties-zip-ties</td>\n",
       "      <td>11.0</td>\n",
       "      <td>0.584506</td>\n",
       "      <td>4</td>\n",
       "      <td>7</td>\n",
       "      <td>13</td>\n",
       "    </tr>\n",
       "    <tr>\n",
       "      <th>3</th>\n",
       "      <td>a4cec9f14f3566555c97c0046b10048597120954</td>\n",
       "      <td>coaxial-cables-rf</td>\n",
       "      <td>90.0</td>\n",
       "      <td>0.646548</td>\n",
       "      <td>1</td>\n",
       "      <td>5</td>\n",
       "      <td>7</td>\n",
       "    </tr>\n",
       "    <tr>\n",
       "      <th>4</th>\n",
       "      <td>1b3c3c99b9be83ca11f01be323700b027a38ccdd</td>\n",
       "      <td>controller-accesories</td>\n",
       "      <td>NaN</td>\n",
       "      <td>NaN</td>\n",
       "      <td>5</td>\n",
       "      <td>9</td>\n",
       "      <td>12</td>\n",
       "    </tr>\n",
       "    <tr>\n",
       "      <th>5</th>\n",
       "      <td>58f5bac3-3d38-43b1-b6d1-60bac2a5569a</td>\n",
       "      <td>microphones</td>\n",
       "      <td>24.0</td>\n",
       "      <td>0.558128</td>\n",
       "      <td>5</td>\n",
       "      <td>7</td>\n",
       "      <td>14</td>\n",
       "    </tr>\n",
       "    <tr>\n",
       "      <th>6</th>\n",
       "      <td>96PR-102-UB3-M_datasheet20180225090037</td>\n",
       "      <td>printers-label-makers</td>\n",
       "      <td>4.0</td>\n",
       "      <td>0.674221</td>\n",
       "      <td>5</td>\n",
       "      <td>10</td>\n",
       "      <td>19</td>\n",
       "    </tr>\n",
       "    <tr>\n",
       "      <th>7</th>\n",
       "      <td>ces-20134-088pm</td>\n",
       "      <td>speakers</td>\n",
       "      <td>NaN</td>\n",
       "      <td>NaN</td>\n",
       "      <td>2</td>\n",
       "      <td>5</td>\n",
       "      <td>12</td>\n",
       "    </tr>\n",
       "    <tr>\n",
       "      <th>8</th>\n",
       "      <td>LR43-DATASHEET</td>\n",
       "      <td>batteries-non-rechargable-primary</td>\n",
       "      <td>NaN</td>\n",
       "      <td>NaN</td>\n",
       "      <td>4</td>\n",
       "      <td>9</td>\n",
       "      <td>19</td>\n",
       "    </tr>\n",
       "    <tr>\n",
       "      <th>9</th>\n",
       "      <td>cds-25148</td>\n",
       "      <td>speakers</td>\n",
       "      <td>39.0</td>\n",
       "      <td>0.456370</td>\n",
       "      <td>2</td>\n",
       "      <td>5</td>\n",
       "      <td>13</td>\n",
       "    </tr>\n",
       "  </tbody>\n",
       "</table>\n",
       "</div>"
      ]
     },
     "metadata": {},
     "output_type": "display_data"
    },
    {
     "data": {
      "text/plain": [
       "        max      min    median\n",
       "0  0.710978  0.45637  0.615527"
      ],
      "text/html": [
       "<div>\n",
       "<style scoped>\n",
       "    .dataframe tbody tr th:only-of-type {\n",
       "        vertical-align: middle;\n",
       "    }\n",
       "\n",
       "    .dataframe tbody tr th {\n",
       "        vertical-align: top;\n",
       "    }\n",
       "\n",
       "    .dataframe thead th {\n",
       "        text-align: right;\n",
       "    }\n",
       "</style>\n",
       "<table border=\"1\" class=\"dataframe\">\n",
       "  <thead>\n",
       "    <tr style=\"text-align: right;\">\n",
       "      <th></th>\n",
       "      <th>max</th>\n",
       "      <th>min</th>\n",
       "      <th>median</th>\n",
       "    </tr>\n",
       "  </thead>\n",
       "  <tbody>\n",
       "    <tr>\n",
       "      <th>0</th>\n",
       "      <td>0.710978</td>\n",
       "      <td>0.45637</td>\n",
       "      <td>0.615527</td>\n",
       "    </tr>\n",
       "  </tbody>\n",
       "</table>\n",
       "</div>"
      ]
     },
     "metadata": {},
     "output_type": "display_data"
    },
    {
     "data": {
      "text/plain": [
       "    rank                                doc_id  \\\n",
       "0      1  d9e2b7a7-5099-4612-b90a-796f8295ffd5   \n",
       "1      2  8373d9aa-424a-4cf8-add9-8655f7a6700f   \n",
       "2      3                SR41-392-384-DATASHEET   \n",
       "3      4                              392-384z   \n",
       "4      5                        pana-cr1220-ds   \n",
       "..   ...                                   ...   \n",
       "95    96                   AT-1224-TWT-12V-2-R   \n",
       "96    97                     cms-181345-18s-x8   \n",
       "97    98                             LR621SPEC   \n",
       "98    99                    cms-151125-078x-67   \n",
       "99   100                                cr2450   \n",
       "\n",
       "                                label     score  \n",
       "0                         microphones  0.738324  \n",
       "1                         microphones  0.732933  \n",
       "2   batteries-non-rechargable-primary  0.728945  \n",
       "3   batteries-non-rechargable-primary  0.726830  \n",
       "4   batteries-non-rechargable-primary  0.724038  \n",
       "..                                ...       ...  \n",
       "95          alarms-buzzers-and-sirens  0.686392  \n",
       "96                           speakers  0.686356  \n",
       "97  batteries-non-rechargable-primary  0.686355  \n",
       "98                           speakers  0.686349  \n",
       "99  batteries-non-rechargable-primary  0.686187  \n",
       "\n",
       "[100 rows x 4 columns]"
      ],
      "text/html": [
       "<div>\n",
       "<style scoped>\n",
       "    .dataframe tbody tr th:only-of-type {\n",
       "        vertical-align: middle;\n",
       "    }\n",
       "\n",
       "    .dataframe tbody tr th {\n",
       "        vertical-align: top;\n",
       "    }\n",
       "\n",
       "    .dataframe thead th {\n",
       "        text-align: right;\n",
       "    }\n",
       "</style>\n",
       "<table border=\"1\" class=\"dataframe\">\n",
       "  <thead>\n",
       "    <tr style=\"text-align: right;\">\n",
       "      <th></th>\n",
       "      <th>rank</th>\n",
       "      <th>doc_id</th>\n",
       "      <th>label</th>\n",
       "      <th>score</th>\n",
       "    </tr>\n",
       "  </thead>\n",
       "  <tbody>\n",
       "    <tr>\n",
       "      <th>0</th>\n",
       "      <td>1</td>\n",
       "      <td>d9e2b7a7-5099-4612-b90a-796f8295ffd5</td>\n",
       "      <td>microphones</td>\n",
       "      <td>0.738324</td>\n",
       "    </tr>\n",
       "    <tr>\n",
       "      <th>1</th>\n",
       "      <td>2</td>\n",
       "      <td>8373d9aa-424a-4cf8-add9-8655f7a6700f</td>\n",
       "      <td>microphones</td>\n",
       "      <td>0.732933</td>\n",
       "    </tr>\n",
       "    <tr>\n",
       "      <th>2</th>\n",
       "      <td>3</td>\n",
       "      <td>SR41-392-384-DATASHEET</td>\n",
       "      <td>batteries-non-rechargable-primary</td>\n",
       "      <td>0.728945</td>\n",
       "    </tr>\n",
       "    <tr>\n",
       "      <th>3</th>\n",
       "      <td>4</td>\n",
       "      <td>392-384z</td>\n",
       "      <td>batteries-non-rechargable-primary</td>\n",
       "      <td>0.726830</td>\n",
       "    </tr>\n",
       "    <tr>\n",
       "      <th>4</th>\n",
       "      <td>5</td>\n",
       "      <td>pana-cr1220-ds</td>\n",
       "      <td>batteries-non-rechargable-primary</td>\n",
       "      <td>0.724038</td>\n",
       "    </tr>\n",
       "    <tr>\n",
       "      <th>...</th>\n",
       "      <td>...</td>\n",
       "      <td>...</td>\n",
       "      <td>...</td>\n",
       "      <td>...</td>\n",
       "    </tr>\n",
       "    <tr>\n",
       "      <th>95</th>\n",
       "      <td>96</td>\n",
       "      <td>AT-1224-TWT-12V-2-R</td>\n",
       "      <td>alarms-buzzers-and-sirens</td>\n",
       "      <td>0.686392</td>\n",
       "    </tr>\n",
       "    <tr>\n",
       "      <th>96</th>\n",
       "      <td>97</td>\n",
       "      <td>cms-181345-18s-x8</td>\n",
       "      <td>speakers</td>\n",
       "      <td>0.686356</td>\n",
       "    </tr>\n",
       "    <tr>\n",
       "      <th>97</th>\n",
       "      <td>98</td>\n",
       "      <td>LR621SPEC</td>\n",
       "      <td>batteries-non-rechargable-primary</td>\n",
       "      <td>0.686355</td>\n",
       "    </tr>\n",
       "    <tr>\n",
       "      <th>98</th>\n",
       "      <td>99</td>\n",
       "      <td>cms-151125-078x-67</td>\n",
       "      <td>speakers</td>\n",
       "      <td>0.686349</td>\n",
       "    </tr>\n",
       "    <tr>\n",
       "      <th>99</th>\n",
       "      <td>100</td>\n",
       "      <td>cr2450</td>\n",
       "      <td>batteries-non-rechargable-primary</td>\n",
       "      <td>0.686187</td>\n",
       "    </tr>\n",
       "  </tbody>\n",
       "</table>\n",
       "<p>100 rows × 4 columns</p>\n",
       "</div>"
      ]
     },
     "metadata": {},
     "output_type": "display_data"
    }
   ],
   "execution_count": 3
  },
  {
   "metadata": {},
   "cell_type": "markdown",
   "source": [
    "----------------\n",
    "### Small test on the effects of query expansion\n"
   ],
   "id": "b2d231ebe70ca24a"
  },
  {
   "metadata": {
    "ExecuteTime": {
     "end_time": "2025-06-13T10:37:00.682990Z",
     "start_time": "2025-06-13T10:37:00.678364Z"
    }
   },
   "cell_type": "code",
   "source": [
    "for result in vsm_records:\n",
    "    w2v_result = result['result']\n",
    "\n",
    "    query_embedding = w2v_result.query_info\n",
    "    \n",
    "    print(query_embedding.query)\n",
    "    print(query_embedding.expansions)\n",
    "    print(\"------------------------\")"
   ],
   "id": "bcc3afebb6117934",
   "outputs": [
    {
     "name": "stdout",
     "output_type": "stream",
     "text": [
      "this battery contains positive temperature coefficient element\n",
      "['batteries', 'includes', 'negative', 'temperatures', 'coefficients', 'component', 'aspect', 'elements']\n",
      "------------------------\n",
      "buzzer with operating voltage 15 24 vdc\n",
      "['voltages', 'inductor', 'capacitance']\n",
      "------------------------\n",
      "flexible tie body that safely  releasable and reusable\n",
      "['bodies', 'it', 'reuseable']\n",
      "------------------------\n",
      "insulation is made of  plastic material and has  thickness of about 1 mm\n",
      "['insulating', 'was', 'making', 'make', 'materials', 'thicknesses', 'width', 'millimeter', '6mm', 'cm', '7mm', '3mm', '1mm']\n",
      "------------------------\n",
      "busadapter supports protocol for profinet io\n",
      "['supported', 'opposes', 'protocols']\n",
      "------------------------\n",
      "the system consists of  microphone  speaker and  sound card, the microphone is connected to the sound card which is connected to the speaker\n",
      "['systems', 'comprises', 'consisting', 'consist', 'comprised', 'includes', 'comprise', 'encompasses', 'comprising', 'microphones', 'mic', 'mike', 'speakers', 'sounds', 'cards', 'was']\n",
      "------------------------\n",
      "resolution 203 dpi max print speed 102mm 4sec\n",
      "['printing', 'printed', 'speeds']\n",
      "------------------------\n",
      "total harmonic distortion curve\n",
      "['harmonics', 'tonal', 'distortions', 'curves']\n",
      "------------------------\n",
      "alkaline manganese batteries\n",
      "['battery']\n",
      "------------------------\n",
      "speaker with operating temperature 20 55 \n",
      "['speakers', 'temperatures']\n",
      "------------------------\n"
     ]
    }
   ],
   "execution_count": 4
  },
  {
   "metadata": {},
   "cell_type": "markdown",
   "source": [
    "------\n",
    "## BM25 evaluation\n"
   ],
   "id": "94bea0bd28f93859"
  },
  {
   "metadata": {
    "ExecuteTime": {
     "end_time": "2025-06-13T10:37:20.199962Z",
     "start_time": "2025-06-13T10:37:19.754640Z"
    }
   },
   "cell_type": "code",
   "source": [
    "importlib.reload(aux_bm25)\n",
    "importlib.reload(aux_retrieval)\n",
    "logger = logging.getLogger(__name__)\n",
    "\n",
    "bm25_records = []\n",
    "\n",
    "for section in query_list_documents:\n",
    "    bm25_result: aux_bm25.BM25QueryResult = aux_bm25.run_bm25_query(\n",
    "        paths,\n",
    "        section.query,\n",
    "        top_k=top_k,\n",
    "    )\n",
    "    \n",
    "    bm25_records.append({\n",
    "        \"doc\": section.doc,\n",
    "        \"label\": section.label,\n",
    "        \"query\": section.query,\n",
    "        \"result\": bm25_result\n",
    "    })"
   ],
   "id": "2aedbd3d093233f3",
   "outputs": [
    {
     "data": {
      "text/plain": [
       "Split strings:   0%|          | 0/1 [00:00<?, ?it/s]"
      ],
      "application/vnd.jupyter.widget-view+json": {
       "version_major": 2,
       "version_minor": 0,
       "model_id": "9abe45e7a9564462a2a7bb4a67eaa914"
      }
     },
     "metadata": {},
     "output_type": "display_data"
    },
    {
     "data": {
      "text/plain": [
       "BM25S Retrieve:   0%|          | 0/1 [00:00<?, ?it/s]"
      ],
      "application/vnd.jupyter.widget-view+json": {
       "version_major": 2,
       "version_minor": 0,
       "model_id": "5b328b93018f4c8c928d320028a7ec9e"
      }
     },
     "metadata": {},
     "output_type": "display_data"
    },
    {
     "data": {
      "text/plain": [
       "Split strings:   0%|          | 0/1 [00:00<?, ?it/s]"
      ],
      "application/vnd.jupyter.widget-view+json": {
       "version_major": 2,
       "version_minor": 0,
       "model_id": "b4535abffb8742c19e26d492a645a033"
      }
     },
     "metadata": {},
     "output_type": "display_data"
    },
    {
     "data": {
      "text/plain": [
       "BM25S Retrieve:   0%|          | 0/1 [00:00<?, ?it/s]"
      ],
      "application/vnd.jupyter.widget-view+json": {
       "version_major": 2,
       "version_minor": 0,
       "model_id": "69c5c07ea42c4644b3b672da4426177b"
      }
     },
     "metadata": {},
     "output_type": "display_data"
    },
    {
     "data": {
      "text/plain": [
       "Split strings:   0%|          | 0/1 [00:00<?, ?it/s]"
      ],
      "application/vnd.jupyter.widget-view+json": {
       "version_major": 2,
       "version_minor": 0,
       "model_id": "0b97bbaff7e54a19a8a152a1a1581b00"
      }
     },
     "metadata": {},
     "output_type": "display_data"
    },
    {
     "data": {
      "text/plain": [
       "BM25S Retrieve:   0%|          | 0/1 [00:00<?, ?it/s]"
      ],
      "application/vnd.jupyter.widget-view+json": {
       "version_major": 2,
       "version_minor": 0,
       "model_id": "d5910bb38c1146a6a88b451ac87a4d1a"
      }
     },
     "metadata": {},
     "output_type": "display_data"
    },
    {
     "data": {
      "text/plain": [
       "Split strings:   0%|          | 0/1 [00:00<?, ?it/s]"
      ],
      "application/vnd.jupyter.widget-view+json": {
       "version_major": 2,
       "version_minor": 0,
       "model_id": "6c40929577194ef496535e6158f4454c"
      }
     },
     "metadata": {},
     "output_type": "display_data"
    },
    {
     "data": {
      "text/plain": [
       "BM25S Retrieve:   0%|          | 0/1 [00:00<?, ?it/s]"
      ],
      "application/vnd.jupyter.widget-view+json": {
       "version_major": 2,
       "version_minor": 0,
       "model_id": "f97cd499cf8a4508a138fe2e7ec18769"
      }
     },
     "metadata": {},
     "output_type": "display_data"
    },
    {
     "data": {
      "text/plain": [
       "Split strings:   0%|          | 0/1 [00:00<?, ?it/s]"
      ],
      "application/vnd.jupyter.widget-view+json": {
       "version_major": 2,
       "version_minor": 0,
       "model_id": "f8f1597688034d78957b781a5cc33fcd"
      }
     },
     "metadata": {},
     "output_type": "display_data"
    },
    {
     "data": {
      "text/plain": [
       "BM25S Retrieve:   0%|          | 0/1 [00:00<?, ?it/s]"
      ],
      "application/vnd.jupyter.widget-view+json": {
       "version_major": 2,
       "version_minor": 0,
       "model_id": "0cd8d1be47de48fc974e7a1b8e41e316"
      }
     },
     "metadata": {},
     "output_type": "display_data"
    },
    {
     "data": {
      "text/plain": [
       "Split strings:   0%|          | 0/1 [00:00<?, ?it/s]"
      ],
      "application/vnd.jupyter.widget-view+json": {
       "version_major": 2,
       "version_minor": 0,
       "model_id": "76d9d6f1ecf84171a7f8ec58403139ee"
      }
     },
     "metadata": {},
     "output_type": "display_data"
    },
    {
     "data": {
      "text/plain": [
       "BM25S Retrieve:   0%|          | 0/1 [00:00<?, ?it/s]"
      ],
      "application/vnd.jupyter.widget-view+json": {
       "version_major": 2,
       "version_minor": 0,
       "model_id": "36111ecf8f8146e88930c2078e0f4392"
      }
     },
     "metadata": {},
     "output_type": "display_data"
    },
    {
     "data": {
      "text/plain": [
       "Split strings:   0%|          | 0/1 [00:00<?, ?it/s]"
      ],
      "application/vnd.jupyter.widget-view+json": {
       "version_major": 2,
       "version_minor": 0,
       "model_id": "e38d0e64c04147c6ac60c3704adb612e"
      }
     },
     "metadata": {},
     "output_type": "display_data"
    },
    {
     "data": {
      "text/plain": [
       "BM25S Retrieve:   0%|          | 0/1 [00:00<?, ?it/s]"
      ],
      "application/vnd.jupyter.widget-view+json": {
       "version_major": 2,
       "version_minor": 0,
       "model_id": "8067a6935e964cd2b34f4a24e4ec3214"
      }
     },
     "metadata": {},
     "output_type": "display_data"
    },
    {
     "data": {
      "text/plain": [
       "Split strings:   0%|          | 0/1 [00:00<?, ?it/s]"
      ],
      "application/vnd.jupyter.widget-view+json": {
       "version_major": 2,
       "version_minor": 0,
       "model_id": "c6cf8508ae7b4b6c9b2c9c4fedff4ef8"
      }
     },
     "metadata": {},
     "output_type": "display_data"
    },
    {
     "data": {
      "text/plain": [
       "BM25S Retrieve:   0%|          | 0/1 [00:00<?, ?it/s]"
      ],
      "application/vnd.jupyter.widget-view+json": {
       "version_major": 2,
       "version_minor": 0,
       "model_id": "90bf5389503c493798eb9dcab199b5d8"
      }
     },
     "metadata": {},
     "output_type": "display_data"
    },
    {
     "data": {
      "text/plain": [
       "Split strings:   0%|          | 0/1 [00:00<?, ?it/s]"
      ],
      "application/vnd.jupyter.widget-view+json": {
       "version_major": 2,
       "version_minor": 0,
       "model_id": "517682a8f0ca4edf9d23eb6e3dfe0a58"
      }
     },
     "metadata": {},
     "output_type": "display_data"
    },
    {
     "data": {
      "text/plain": [
       "BM25S Retrieve:   0%|          | 0/1 [00:00<?, ?it/s]"
      ],
      "application/vnd.jupyter.widget-view+json": {
       "version_major": 2,
       "version_minor": 0,
       "model_id": "ba3e7dbfcc26472990c64cd6028d9235"
      }
     },
     "metadata": {},
     "output_type": "display_data"
    },
    {
     "data": {
      "text/plain": [
       "Split strings:   0%|          | 0/1 [00:00<?, ?it/s]"
      ],
      "application/vnd.jupyter.widget-view+json": {
       "version_major": 2,
       "version_minor": 0,
       "model_id": "6d404f4892c2497eb315bb6bae28db8d"
      }
     },
     "metadata": {},
     "output_type": "display_data"
    },
    {
     "data": {
      "text/plain": [
       "BM25S Retrieve:   0%|          | 0/1 [00:00<?, ?it/s]"
      ],
      "application/vnd.jupyter.widget-view+json": {
       "version_major": 2,
       "version_minor": 0,
       "model_id": "55002f0c792f481cb7faa683c0f39746"
      }
     },
     "metadata": {},
     "output_type": "display_data"
    }
   ],
   "execution_count": 6
  },
  {
   "metadata": {
    "ExecuteTime": {
     "end_time": "2025-06-13T10:37:28.111474Z",
     "start_time": "2025-06-13T10:37:28.085126Z"
    }
   },
   "cell_type": "code",
   "source": [
    "#compute statistics for evaluation\n",
    "bm25_statistics = aux_retrieval.compute_query_run_stats(bm25_records)\n",
    "display(bm25_statistics['per_record'])\n",
    "display(bm25_statistics['score_stats'])\n",
    "\n",
    "#if you want to look at one specific record\n",
    "bm25_data = pd.DataFrame(data = bm25_records[0]['result'].results.documents)\n",
    "display(bm25_data)"
   ],
   "id": "6f52119552324cc7",
   "outputs": [
    {
     "data": {
      "text/plain": [
       "                                        doc  \\\n",
       "0                                      1cr2   \n",
       "1                             cpi-2212-85pm   \n",
       "2                                 106765806   \n",
       "3  a4cec9f14f3566555c97c0046b10048597120954   \n",
       "4  1b3c3c99b9be83ca11f01be323700b027a38ccdd   \n",
       "5      58f5bac3-3d38-43b1-b6d1-60bac2a5569a   \n",
       "6    96PR-102-UB3-M_datasheet20180225090037   \n",
       "7                           ces-20134-088pm   \n",
       "8                            LR43-DATASHEET   \n",
       "9                                 cds-25148   \n",
       "\n",
       "                               label  rank      score  label_count_top_5  \\\n",
       "0  batteries-non-rechargable-primary     2   5.740847                  4   \n",
       "1          alarms-buzzers-and-sirens     1   6.938643                  5   \n",
       "2                cable-ties-zip-ties     1  12.732177                  5   \n",
       "3                  coaxial-cables-rf     1   6.910951                  3   \n",
       "4              controller-accesories     1  13.478672                  5   \n",
       "5                        microphones     2  13.271488                  5   \n",
       "6              printers-label-makers     2  16.425482                  5   \n",
       "7                           speakers    83   2.805447                  5   \n",
       "8  batteries-non-rechargable-primary    10   4.373617                  5   \n",
       "9                           speakers    14   2.797290                  5   \n",
       "\n",
       "   label_count_top_10  label_count_top_20  \n",
       "0                   8                  14  \n",
       "1                  10                  20  \n",
       "2                   8                  15  \n",
       "3                   6                   8  \n",
       "4                   9                  17  \n",
       "5                   9                  19  \n",
       "6                  10                  20  \n",
       "7                  10                  20  \n",
       "8                  10                  20  \n",
       "9                  10                  19  "
      ],
      "text/html": [
       "<div>\n",
       "<style scoped>\n",
       "    .dataframe tbody tr th:only-of-type {\n",
       "        vertical-align: middle;\n",
       "    }\n",
       "\n",
       "    .dataframe tbody tr th {\n",
       "        vertical-align: top;\n",
       "    }\n",
       "\n",
       "    .dataframe thead th {\n",
       "        text-align: right;\n",
       "    }\n",
       "</style>\n",
       "<table border=\"1\" class=\"dataframe\">\n",
       "  <thead>\n",
       "    <tr style=\"text-align: right;\">\n",
       "      <th></th>\n",
       "      <th>doc</th>\n",
       "      <th>label</th>\n",
       "      <th>rank</th>\n",
       "      <th>score</th>\n",
       "      <th>label_count_top_5</th>\n",
       "      <th>label_count_top_10</th>\n",
       "      <th>label_count_top_20</th>\n",
       "    </tr>\n",
       "  </thead>\n",
       "  <tbody>\n",
       "    <tr>\n",
       "      <th>0</th>\n",
       "      <td>1cr2</td>\n",
       "      <td>batteries-non-rechargable-primary</td>\n",
       "      <td>2</td>\n",
       "      <td>5.740847</td>\n",
       "      <td>4</td>\n",
       "      <td>8</td>\n",
       "      <td>14</td>\n",
       "    </tr>\n",
       "    <tr>\n",
       "      <th>1</th>\n",
       "      <td>cpi-2212-85pm</td>\n",
       "      <td>alarms-buzzers-and-sirens</td>\n",
       "      <td>1</td>\n",
       "      <td>6.938643</td>\n",
       "      <td>5</td>\n",
       "      <td>10</td>\n",
       "      <td>20</td>\n",
       "    </tr>\n",
       "    <tr>\n",
       "      <th>2</th>\n",
       "      <td>106765806</td>\n",
       "      <td>cable-ties-zip-ties</td>\n",
       "      <td>1</td>\n",
       "      <td>12.732177</td>\n",
       "      <td>5</td>\n",
       "      <td>8</td>\n",
       "      <td>15</td>\n",
       "    </tr>\n",
       "    <tr>\n",
       "      <th>3</th>\n",
       "      <td>a4cec9f14f3566555c97c0046b10048597120954</td>\n",
       "      <td>coaxial-cables-rf</td>\n",
       "      <td>1</td>\n",
       "      <td>6.910951</td>\n",
       "      <td>3</td>\n",
       "      <td>6</td>\n",
       "      <td>8</td>\n",
       "    </tr>\n",
       "    <tr>\n",
       "      <th>4</th>\n",
       "      <td>1b3c3c99b9be83ca11f01be323700b027a38ccdd</td>\n",
       "      <td>controller-accesories</td>\n",
       "      <td>1</td>\n",
       "      <td>13.478672</td>\n",
       "      <td>5</td>\n",
       "      <td>9</td>\n",
       "      <td>17</td>\n",
       "    </tr>\n",
       "    <tr>\n",
       "      <th>5</th>\n",
       "      <td>58f5bac3-3d38-43b1-b6d1-60bac2a5569a</td>\n",
       "      <td>microphones</td>\n",
       "      <td>2</td>\n",
       "      <td>13.271488</td>\n",
       "      <td>5</td>\n",
       "      <td>9</td>\n",
       "      <td>19</td>\n",
       "    </tr>\n",
       "    <tr>\n",
       "      <th>6</th>\n",
       "      <td>96PR-102-UB3-M_datasheet20180225090037</td>\n",
       "      <td>printers-label-makers</td>\n",
       "      <td>2</td>\n",
       "      <td>16.425482</td>\n",
       "      <td>5</td>\n",
       "      <td>10</td>\n",
       "      <td>20</td>\n",
       "    </tr>\n",
       "    <tr>\n",
       "      <th>7</th>\n",
       "      <td>ces-20134-088pm</td>\n",
       "      <td>speakers</td>\n",
       "      <td>83</td>\n",
       "      <td>2.805447</td>\n",
       "      <td>5</td>\n",
       "      <td>10</td>\n",
       "      <td>20</td>\n",
       "    </tr>\n",
       "    <tr>\n",
       "      <th>8</th>\n",
       "      <td>LR43-DATASHEET</td>\n",
       "      <td>batteries-non-rechargable-primary</td>\n",
       "      <td>10</td>\n",
       "      <td>4.373617</td>\n",
       "      <td>5</td>\n",
       "      <td>10</td>\n",
       "      <td>20</td>\n",
       "    </tr>\n",
       "    <tr>\n",
       "      <th>9</th>\n",
       "      <td>cds-25148</td>\n",
       "      <td>speakers</td>\n",
       "      <td>14</td>\n",
       "      <td>2.797290</td>\n",
       "      <td>5</td>\n",
       "      <td>10</td>\n",
       "      <td>19</td>\n",
       "    </tr>\n",
       "  </tbody>\n",
       "</table>\n",
       "</div>"
      ]
     },
     "metadata": {},
     "output_type": "display_data"
    },
    {
     "data": {
      "text/plain": [
       "         max      min    median\n",
       "0  16.425482  2.79729  6.924797"
      ],
      "text/html": [
       "<div>\n",
       "<style scoped>\n",
       "    .dataframe tbody tr th:only-of-type {\n",
       "        vertical-align: middle;\n",
       "    }\n",
       "\n",
       "    .dataframe tbody tr th {\n",
       "        vertical-align: top;\n",
       "    }\n",
       "\n",
       "    .dataframe thead th {\n",
       "        text-align: right;\n",
       "    }\n",
       "</style>\n",
       "<table border=\"1\" class=\"dataframe\">\n",
       "  <thead>\n",
       "    <tr style=\"text-align: right;\">\n",
       "      <th></th>\n",
       "      <th>max</th>\n",
       "      <th>min</th>\n",
       "      <th>median</th>\n",
       "    </tr>\n",
       "  </thead>\n",
       "  <tbody>\n",
       "    <tr>\n",
       "      <th>0</th>\n",
       "      <td>16.425482</td>\n",
       "      <td>2.79729</td>\n",
       "      <td>6.924797</td>\n",
       "    </tr>\n",
       "  </tbody>\n",
       "</table>\n",
       "</div>"
      ]
     },
     "metadata": {},
     "output_type": "display_data"
    },
    {
     "data": {
      "text/plain": [
       "    rank                                doc_id  \\\n",
       "0      1                                   123   \n",
       "1      2                                  1cr2   \n",
       "2      3                       cms-402008-18sp   \n",
       "3      4      maxell-alkaline-battery-002-2014   \n",
       "4      5                       alkaline_appman   \n",
       "..   ...                                   ...   \n",
       "95    96  8024d901-2c69-4d26-b0cf-6e1bdb74ff9b   \n",
       "96    97                  LN92-Industrial-0920   \n",
       "97    98                       ces-803118-28pm   \n",
       "98    99                   EM-6050-14-Feb-2019   \n",
       "99   100  EM-6027LRNW-completed-on-12-Aug-2019   \n",
       "\n",
       "                                label     score  \n",
       "0   batteries-non-rechargable-primary  5.875960  \n",
       "1   batteries-non-rechargable-primary  5.740847  \n",
       "2                            speakers  4.363099  \n",
       "3   batteries-non-rechargable-primary  4.257775  \n",
       "4   batteries-non-rechargable-primary  4.058401  \n",
       "..                                ...       ...  \n",
       "95                        microphones  1.964044  \n",
       "96  batteries-non-rechargable-primary  1.949623  \n",
       "97                           speakers  1.941543  \n",
       "98                        microphones  1.902635  \n",
       "99                        microphones  1.899358  \n",
       "\n",
       "[100 rows x 4 columns]"
      ],
      "text/html": [
       "<div>\n",
       "<style scoped>\n",
       "    .dataframe tbody tr th:only-of-type {\n",
       "        vertical-align: middle;\n",
       "    }\n",
       "\n",
       "    .dataframe tbody tr th {\n",
       "        vertical-align: top;\n",
       "    }\n",
       "\n",
       "    .dataframe thead th {\n",
       "        text-align: right;\n",
       "    }\n",
       "</style>\n",
       "<table border=\"1\" class=\"dataframe\">\n",
       "  <thead>\n",
       "    <tr style=\"text-align: right;\">\n",
       "      <th></th>\n",
       "      <th>rank</th>\n",
       "      <th>doc_id</th>\n",
       "      <th>label</th>\n",
       "      <th>score</th>\n",
       "    </tr>\n",
       "  </thead>\n",
       "  <tbody>\n",
       "    <tr>\n",
       "      <th>0</th>\n",
       "      <td>1</td>\n",
       "      <td>123</td>\n",
       "      <td>batteries-non-rechargable-primary</td>\n",
       "      <td>5.875960</td>\n",
       "    </tr>\n",
       "    <tr>\n",
       "      <th>1</th>\n",
       "      <td>2</td>\n",
       "      <td>1cr2</td>\n",
       "      <td>batteries-non-rechargable-primary</td>\n",
       "      <td>5.740847</td>\n",
       "    </tr>\n",
       "    <tr>\n",
       "      <th>2</th>\n",
       "      <td>3</td>\n",
       "      <td>cms-402008-18sp</td>\n",
       "      <td>speakers</td>\n",
       "      <td>4.363099</td>\n",
       "    </tr>\n",
       "    <tr>\n",
       "      <th>3</th>\n",
       "      <td>4</td>\n",
       "      <td>maxell-alkaline-battery-002-2014</td>\n",
       "      <td>batteries-non-rechargable-primary</td>\n",
       "      <td>4.257775</td>\n",
       "    </tr>\n",
       "    <tr>\n",
       "      <th>4</th>\n",
       "      <td>5</td>\n",
       "      <td>alkaline_appman</td>\n",
       "      <td>batteries-non-rechargable-primary</td>\n",
       "      <td>4.058401</td>\n",
       "    </tr>\n",
       "    <tr>\n",
       "      <th>...</th>\n",
       "      <td>...</td>\n",
       "      <td>...</td>\n",
       "      <td>...</td>\n",
       "      <td>...</td>\n",
       "    </tr>\n",
       "    <tr>\n",
       "      <th>95</th>\n",
       "      <td>96</td>\n",
       "      <td>8024d901-2c69-4d26-b0cf-6e1bdb74ff9b</td>\n",
       "      <td>microphones</td>\n",
       "      <td>1.964044</td>\n",
       "    </tr>\n",
       "    <tr>\n",
       "      <th>96</th>\n",
       "      <td>97</td>\n",
       "      <td>LN92-Industrial-0920</td>\n",
       "      <td>batteries-non-rechargable-primary</td>\n",
       "      <td>1.949623</td>\n",
       "    </tr>\n",
       "    <tr>\n",
       "      <th>97</th>\n",
       "      <td>98</td>\n",
       "      <td>ces-803118-28pm</td>\n",
       "      <td>speakers</td>\n",
       "      <td>1.941543</td>\n",
       "    </tr>\n",
       "    <tr>\n",
       "      <th>98</th>\n",
       "      <td>99</td>\n",
       "      <td>EM-6050-14-Feb-2019</td>\n",
       "      <td>microphones</td>\n",
       "      <td>1.902635</td>\n",
       "    </tr>\n",
       "    <tr>\n",
       "      <th>99</th>\n",
       "      <td>100</td>\n",
       "      <td>EM-6027LRNW-completed-on-12-Aug-2019</td>\n",
       "      <td>microphones</td>\n",
       "      <td>1.899358</td>\n",
       "    </tr>\n",
       "  </tbody>\n",
       "</table>\n",
       "<p>100 rows × 4 columns</p>\n",
       "</div>"
      ]
     },
     "metadata": {},
     "output_type": "display_data"
    }
   ],
   "execution_count": 7
  },
  {
   "metadata": {},
   "cell_type": "markdown",
   "source": [
    "--------------------------\n",
    "## RRF Evaluation\n"
   ],
   "id": "f5ff924e46aaaeaa"
  },
  {
   "metadata": {
    "ExecuteTime": {
     "end_time": "2025-06-05T19:17:52.517051Z",
     "start_time": "2025-06-05T19:17:52.348421Z"
    }
   },
   "cell_type": "code",
   "source": [
    "logger = logging.getLogger(__name__)\n",
    "\n",
    "rrf_records = []\n",
    "\n",
    "for i, section in enumerate(query_list_documents):\n",
    "    \n",
    "    df_bm25 = pd.DataFrame([d.__dict__ for d in bm25_records[i][\"result\"].results.documents])\n",
    "    df_vsm  = pd.DataFrame([d.__dict__ for d in vsm_records[i][\"result\"].results.documents])\n",
    "\n",
    "    rrf_result = aux_retrieval.rrf_from_dfs([df_bm25, df_vsm], rrf_k=60, top_k=100)\n",
    "\n",
    "    rrf_records.append({\n",
    "        \"doc\": section.doc,\n",
    "        \"label\": section.label,\n",
    "        \"query\": section.query,\n",
    "        \"result\": rrf_result\n",
    "    })\n",
    "    \n",
    "rrf_statistics = aux_retrieval.compute_query_run_stats(rrf_records)\n",
    "display(rrf_statistics['per_record'])\n",
    "display(rrf_statistics['score_stats'])\n",
    "\n",
    "#if you want to look at one specific record\n",
    "rrf_data = pd.DataFrame(data = rrf_records[0]['result'].results.documents)\n",
    "display(rrf_data)\n",
    "    "
   ],
   "id": "a9afb44f41a2ebde",
   "outputs": [
    {
     "data": {
      "text/plain": [
       "                                        doc  \\\n",
       "0                                      1cr2   \n",
       "1                             cpi-2212-85pm   \n",
       "2                                 106765806   \n",
       "3  a4cec9f14f3566555c97c0046b10048597120954   \n",
       "4  1b3c3c99b9be83ca11f01be323700b027a38ccdd   \n",
       "5      58f5bac3-3d38-43b1-b6d1-60bac2a5569a   \n",
       "6    96PR-102-UB3-M_datasheet20180225090037   \n",
       "7                           ces-20134-088pm   \n",
       "8                            LR43-DATASHEET   \n",
       "9                                 cds-25148   \n",
       "\n",
       "                               label  rank     score  label_count_top_5  \\\n",
       "0  batteries-non-rechargable-primary   2.0  0.028787                  3   \n",
       "1          alarms-buzzers-and-sirens  26.0  0.016393                  5   \n",
       "2                cable-ties-zip-ties   3.0  0.030478                  5   \n",
       "3                  coaxial-cables-rf   7.0  0.023060                  2   \n",
       "4              controller-accesories  23.0  0.016393                  5   \n",
       "5                        microphones   7.0  0.028034                  5   \n",
       "6              printers-label-makers   1.0  0.031754                  5   \n",
       "7                           speakers   NaN       NaN                  5   \n",
       "8  batteries-non-rechargable-primary  64.0  0.014286                  5   \n",
       "9                           speakers   9.0  0.023615                  4   \n",
       "\n",
       "   label_count_top_10  label_count_top_20  \n",
       "0                   5                  13  \n",
       "1                  10                  17  \n",
       "2                   9                  15  \n",
       "3                   5                   8  \n",
       "4                  10                  17  \n",
       "5                  10                  18  \n",
       "6                  10                  20  \n",
       "7                  10                  19  \n",
       "8                  10                  19  \n",
       "9                   8                  18  "
      ],
      "text/html": [
       "<div>\n",
       "<style scoped>\n",
       "    .dataframe tbody tr th:only-of-type {\n",
       "        vertical-align: middle;\n",
       "    }\n",
       "\n",
       "    .dataframe tbody tr th {\n",
       "        vertical-align: top;\n",
       "    }\n",
       "\n",
       "    .dataframe thead th {\n",
       "        text-align: right;\n",
       "    }\n",
       "</style>\n",
       "<table border=\"1\" class=\"dataframe\">\n",
       "  <thead>\n",
       "    <tr style=\"text-align: right;\">\n",
       "      <th></th>\n",
       "      <th>doc</th>\n",
       "      <th>label</th>\n",
       "      <th>rank</th>\n",
       "      <th>score</th>\n",
       "      <th>label_count_top_5</th>\n",
       "      <th>label_count_top_10</th>\n",
       "      <th>label_count_top_20</th>\n",
       "    </tr>\n",
       "  </thead>\n",
       "  <tbody>\n",
       "    <tr>\n",
       "      <th>0</th>\n",
       "      <td>1cr2</td>\n",
       "      <td>batteries-non-rechargable-primary</td>\n",
       "      <td>2.0</td>\n",
       "      <td>0.028787</td>\n",
       "      <td>3</td>\n",
       "      <td>5</td>\n",
       "      <td>13</td>\n",
       "    </tr>\n",
       "    <tr>\n",
       "      <th>1</th>\n",
       "      <td>cpi-2212-85pm</td>\n",
       "      <td>alarms-buzzers-and-sirens</td>\n",
       "      <td>26.0</td>\n",
       "      <td>0.016393</td>\n",
       "      <td>5</td>\n",
       "      <td>10</td>\n",
       "      <td>17</td>\n",
       "    </tr>\n",
       "    <tr>\n",
       "      <th>2</th>\n",
       "      <td>106765806</td>\n",
       "      <td>cable-ties-zip-ties</td>\n",
       "      <td>3.0</td>\n",
       "      <td>0.030478</td>\n",
       "      <td>5</td>\n",
       "      <td>9</td>\n",
       "      <td>15</td>\n",
       "    </tr>\n",
       "    <tr>\n",
       "      <th>3</th>\n",
       "      <td>a4cec9f14f3566555c97c0046b10048597120954</td>\n",
       "      <td>coaxial-cables-rf</td>\n",
       "      <td>7.0</td>\n",
       "      <td>0.023060</td>\n",
       "      <td>2</td>\n",
       "      <td>5</td>\n",
       "      <td>8</td>\n",
       "    </tr>\n",
       "    <tr>\n",
       "      <th>4</th>\n",
       "      <td>1b3c3c99b9be83ca11f01be323700b027a38ccdd</td>\n",
       "      <td>controller-accesories</td>\n",
       "      <td>23.0</td>\n",
       "      <td>0.016393</td>\n",
       "      <td>5</td>\n",
       "      <td>10</td>\n",
       "      <td>17</td>\n",
       "    </tr>\n",
       "    <tr>\n",
       "      <th>5</th>\n",
       "      <td>58f5bac3-3d38-43b1-b6d1-60bac2a5569a</td>\n",
       "      <td>microphones</td>\n",
       "      <td>7.0</td>\n",
       "      <td>0.028034</td>\n",
       "      <td>5</td>\n",
       "      <td>10</td>\n",
       "      <td>18</td>\n",
       "    </tr>\n",
       "    <tr>\n",
       "      <th>6</th>\n",
       "      <td>96PR-102-UB3-M_datasheet20180225090037</td>\n",
       "      <td>printers-label-makers</td>\n",
       "      <td>1.0</td>\n",
       "      <td>0.031754</td>\n",
       "      <td>5</td>\n",
       "      <td>10</td>\n",
       "      <td>20</td>\n",
       "    </tr>\n",
       "    <tr>\n",
       "      <th>7</th>\n",
       "      <td>ces-20134-088pm</td>\n",
       "      <td>speakers</td>\n",
       "      <td>NaN</td>\n",
       "      <td>NaN</td>\n",
       "      <td>5</td>\n",
       "      <td>10</td>\n",
       "      <td>19</td>\n",
       "    </tr>\n",
       "    <tr>\n",
       "      <th>8</th>\n",
       "      <td>LR43-DATASHEET</td>\n",
       "      <td>batteries-non-rechargable-primary</td>\n",
       "      <td>64.0</td>\n",
       "      <td>0.014286</td>\n",
       "      <td>5</td>\n",
       "      <td>10</td>\n",
       "      <td>19</td>\n",
       "    </tr>\n",
       "    <tr>\n",
       "      <th>9</th>\n",
       "      <td>cds-25148</td>\n",
       "      <td>speakers</td>\n",
       "      <td>9.0</td>\n",
       "      <td>0.023615</td>\n",
       "      <td>4</td>\n",
       "      <td>8</td>\n",
       "      <td>18</td>\n",
       "    </tr>\n",
       "  </tbody>\n",
       "</table>\n",
       "</div>"
      ]
     },
     "metadata": {},
     "output_type": "display_data"
    },
    {
     "data": {
      "text/plain": [
       "        max       min    median\n",
       "0  0.031754  0.014286  0.023615"
      ],
      "text/html": [
       "<div>\n",
       "<style scoped>\n",
       "    .dataframe tbody tr th:only-of-type {\n",
       "        vertical-align: middle;\n",
       "    }\n",
       "\n",
       "    .dataframe tbody tr th {\n",
       "        vertical-align: top;\n",
       "    }\n",
       "\n",
       "    .dataframe thead th {\n",
       "        text-align: right;\n",
       "    }\n",
       "</style>\n",
       "<table border=\"1\" class=\"dataframe\">\n",
       "  <thead>\n",
       "    <tr style=\"text-align: right;\">\n",
       "      <th></th>\n",
       "      <th>max</th>\n",
       "      <th>min</th>\n",
       "      <th>median</th>\n",
       "    </tr>\n",
       "  </thead>\n",
       "  <tbody>\n",
       "    <tr>\n",
       "      <th>0</th>\n",
       "      <td>0.031754</td>\n",
       "      <td>0.014286</td>\n",
       "      <td>0.023615</td>\n",
       "    </tr>\n",
       "  </tbody>\n",
       "</table>\n",
       "</div>"
      ]
     },
     "metadata": {},
     "output_type": "display_data"
    },
    {
     "data": {
      "text/plain": [
       "    rank                                doc_id  \\\n",
       "0      1      maxell-alkaline-battery-002-2014   \n",
       "1      2                                  1cr2   \n",
       "2      3  8373d9aa-424a-4cf8-add9-8655f7a6700f   \n",
       "3      4                       cms-402008-18sp   \n",
       "4      5                             LR927SPEC   \n",
       "..   ...                                   ...   \n",
       "95    96  7c888c83-eb72-42df-a195-20bf39d6ad9b   \n",
       "96    97                           AAA4000C182   \n",
       "97    98        DELTA_IA-TC_DTB_OM_EN_20201202   \n",
       "98    99                      ces-26138-16l030   \n",
       "99   100  8460b150-25ad-428a-ac26-0d84eff34af3   \n",
       "\n",
       "                                label     score  \n",
       "0   batteries-non-rechargable-primary  0.030550  \n",
       "1   batteries-non-rechargable-primary  0.028787  \n",
       "2                         microphones  0.027240  \n",
       "3                            speakers  0.026626  \n",
       "4   batteries-non-rechargable-primary  0.025575  \n",
       "..                                ...       ...  \n",
       "95                           speakers  0.009091  \n",
       "96  batteries-non-rechargable-primary  0.008929  \n",
       "97              controller-accesories  0.008850  \n",
       "98                           speakers  0.008850  \n",
       "99                        microphones  0.008772  \n",
       "\n",
       "[100 rows x 4 columns]"
      ],
      "text/html": [
       "<div>\n",
       "<style scoped>\n",
       "    .dataframe tbody tr th:only-of-type {\n",
       "        vertical-align: middle;\n",
       "    }\n",
       "\n",
       "    .dataframe tbody tr th {\n",
       "        vertical-align: top;\n",
       "    }\n",
       "\n",
       "    .dataframe thead th {\n",
       "        text-align: right;\n",
       "    }\n",
       "</style>\n",
       "<table border=\"1\" class=\"dataframe\">\n",
       "  <thead>\n",
       "    <tr style=\"text-align: right;\">\n",
       "      <th></th>\n",
       "      <th>rank</th>\n",
       "      <th>doc_id</th>\n",
       "      <th>label</th>\n",
       "      <th>score</th>\n",
       "    </tr>\n",
       "  </thead>\n",
       "  <tbody>\n",
       "    <tr>\n",
       "      <th>0</th>\n",
       "      <td>1</td>\n",
       "      <td>maxell-alkaline-battery-002-2014</td>\n",
       "      <td>batteries-non-rechargable-primary</td>\n",
       "      <td>0.030550</td>\n",
       "    </tr>\n",
       "    <tr>\n",
       "      <th>1</th>\n",
       "      <td>2</td>\n",
       "      <td>1cr2</td>\n",
       "      <td>batteries-non-rechargable-primary</td>\n",
       "      <td>0.028787</td>\n",
       "    </tr>\n",
       "    <tr>\n",
       "      <th>2</th>\n",
       "      <td>3</td>\n",
       "      <td>8373d9aa-424a-4cf8-add9-8655f7a6700f</td>\n",
       "      <td>microphones</td>\n",
       "      <td>0.027240</td>\n",
       "    </tr>\n",
       "    <tr>\n",
       "      <th>3</th>\n",
       "      <td>4</td>\n",
       "      <td>cms-402008-18sp</td>\n",
       "      <td>speakers</td>\n",
       "      <td>0.026626</td>\n",
       "    </tr>\n",
       "    <tr>\n",
       "      <th>4</th>\n",
       "      <td>5</td>\n",
       "      <td>LR927SPEC</td>\n",
       "      <td>batteries-non-rechargable-primary</td>\n",
       "      <td>0.025575</td>\n",
       "    </tr>\n",
       "    <tr>\n",
       "      <th>...</th>\n",
       "      <td>...</td>\n",
       "      <td>...</td>\n",
       "      <td>...</td>\n",
       "      <td>...</td>\n",
       "    </tr>\n",
       "    <tr>\n",
       "      <th>95</th>\n",
       "      <td>96</td>\n",
       "      <td>7c888c83-eb72-42df-a195-20bf39d6ad9b</td>\n",
       "      <td>speakers</td>\n",
       "      <td>0.009091</td>\n",
       "    </tr>\n",
       "    <tr>\n",
       "      <th>96</th>\n",
       "      <td>97</td>\n",
       "      <td>AAA4000C182</td>\n",
       "      <td>batteries-non-rechargable-primary</td>\n",
       "      <td>0.008929</td>\n",
       "    </tr>\n",
       "    <tr>\n",
       "      <th>97</th>\n",
       "      <td>98</td>\n",
       "      <td>DELTA_IA-TC_DTB_OM_EN_20201202</td>\n",
       "      <td>controller-accesories</td>\n",
       "      <td>0.008850</td>\n",
       "    </tr>\n",
       "    <tr>\n",
       "      <th>98</th>\n",
       "      <td>99</td>\n",
       "      <td>ces-26138-16l030</td>\n",
       "      <td>speakers</td>\n",
       "      <td>0.008850</td>\n",
       "    </tr>\n",
       "    <tr>\n",
       "      <th>99</th>\n",
       "      <td>100</td>\n",
       "      <td>8460b150-25ad-428a-ac26-0d84eff34af3</td>\n",
       "      <td>microphones</td>\n",
       "      <td>0.008772</td>\n",
       "    </tr>\n",
       "  </tbody>\n",
       "</table>\n",
       "<p>100 rows × 4 columns</p>\n",
       "</div>"
      ]
     },
     "metadata": {},
     "output_type": "display_data"
    }
   ],
   "execution_count": 98
  },
  {
   "metadata": {},
   "cell_type": "markdown",
   "source": [
    "----------------------\n",
    "## Hybrid Search Evaluation\n"
   ],
   "id": "666b8b080c9c2147"
  },
  {
   "metadata": {
    "ExecuteTime": {
     "end_time": "2025-06-13T10:40:12.855523Z",
     "start_time": "2025-06-13T10:40:12.812131Z"
    }
   },
   "cell_type": "code",
   "source": [
    "importlib.reload(aux_retrieval)\n",
    "importlib.reload(data)\n",
    "logger = logging.getLogger(__name__)\n",
    "\n",
    "hybrid_records = []\n",
    "norm_vsm = 'zscore'\n",
    "norm_bm25 = 'minmax'\n",
    "\n",
    "for i, section in enumerate(query_list_documents):\n",
    "    bm25_list = [d.__dict__ for d in bm25_records[i]['result'].results.documents]\n",
    "    vsm_list  = [d.__dict__ for d in vsm_records[i]['result'].results.documents]\n",
    "    \n",
    "    hybrid_result:QueryResult = aux_retrieval.hybrid_search(\n",
    "        bm25_results= bm25_list,\n",
    "        vsm_results=  vsm_list,\n",
    "        weight_bm25=  0.7,\n",
    "        weight_vsm=   0.3,\n",
    "        top_k=        100,\n",
    "        norm_bm25=    norm_bm25,\n",
    "        norm_vsm=     norm_vsm\n",
    "    )\n",
    "\n",
    "    hybrid_records.append({\n",
    "        \"doc\":    section.doc,\n",
    "        \"label\":  section.label,\n",
    "        \"query\":  section.query,\n",
    "        \"result\": hybrid_result\n",
    "    })"
   ],
   "id": "c3f57830c86f9202",
   "outputs": [],
   "execution_count": 13
  },
  {
   "metadata": {
    "ExecuteTime": {
     "end_time": "2025-06-13T10:40:19.929611Z",
     "start_time": "2025-06-13T10:40:19.892049Z"
    }
   },
   "cell_type": "code",
   "source": [
    "hybrid_statistics3 = aux_retrieval.compute_query_run_stats(hybrid_records)\n",
    "display(hybrid_statistics3['per_record'])\n",
    "display(hybrid_statistics3['score_stats'])\n",
    "\n",
    "#if you want to look at one specific record\n",
    "hybrid_data = pd.DataFrame(data = hybrid_records[0]['result'].results.documents)\n",
    "display(hybrid_data)\n",
    "    "
   ],
   "id": "6b36011469a292e3",
   "outputs": [
    {
     "data": {
      "text/plain": [
       "                                        doc  \\\n",
       "0                                      1cr2   \n",
       "1                             cpi-2212-85pm   \n",
       "2                                 106765806   \n",
       "3  a4cec9f14f3566555c97c0046b10048597120954   \n",
       "4  1b3c3c99b9be83ca11f01be323700b027a38ccdd   \n",
       "5      58f5bac3-3d38-43b1-b6d1-60bac2a5569a   \n",
       "6    96PR-102-UB3-M_datasheet20180225090037   \n",
       "7                           ces-20134-088pm   \n",
       "8                            LR43-DATASHEET   \n",
       "9                                 cds-25148   \n",
       "\n",
       "                               label  rank     score  label_count_top_5  \\\n",
       "0  batteries-non-rechargable-primary     4  0.958672                  3   \n",
       "1          alarms-buzzers-and-sirens     9  0.700000                  2   \n",
       "2                cable-ties-zip-ties     1  1.192675                  4   \n",
       "3                  coaxial-cables-rf    14  0.403128                  2   \n",
       "4              controller-accesories     6  0.700000                  5   \n",
       "5                        microphones     9  0.852338                  5   \n",
       "6              printers-label-makers     1  1.429920                  5   \n",
       "7                           speakers    77  0.257165                  4   \n",
       "8  batteries-non-rechargable-primary    17  0.426781                  5   \n",
       "9                           speakers    25  0.354054                  4   \n",
       "\n",
       "   label_count_top_10  label_count_top_20  \n",
       "0                   6                  14  \n",
       "1                   6                  15  \n",
       "2                   8                  14  \n",
       "3                   4                  10  \n",
       "4                  10                  15  \n",
       "5                  10                  17  \n",
       "6                  10                  20  \n",
       "7                   9                  17  \n",
       "8                   9                  19  \n",
       "9                   6                  12  "
      ],
      "text/html": [
       "<div>\n",
       "<style scoped>\n",
       "    .dataframe tbody tr th:only-of-type {\n",
       "        vertical-align: middle;\n",
       "    }\n",
       "\n",
       "    .dataframe tbody tr th {\n",
       "        vertical-align: top;\n",
       "    }\n",
       "\n",
       "    .dataframe thead th {\n",
       "        text-align: right;\n",
       "    }\n",
       "</style>\n",
       "<table border=\"1\" class=\"dataframe\">\n",
       "  <thead>\n",
       "    <tr style=\"text-align: right;\">\n",
       "      <th></th>\n",
       "      <th>doc</th>\n",
       "      <th>label</th>\n",
       "      <th>rank</th>\n",
       "      <th>score</th>\n",
       "      <th>label_count_top_5</th>\n",
       "      <th>label_count_top_10</th>\n",
       "      <th>label_count_top_20</th>\n",
       "    </tr>\n",
       "  </thead>\n",
       "  <tbody>\n",
       "    <tr>\n",
       "      <th>0</th>\n",
       "      <td>1cr2</td>\n",
       "      <td>batteries-non-rechargable-primary</td>\n",
       "      <td>4</td>\n",
       "      <td>0.958672</td>\n",
       "      <td>3</td>\n",
       "      <td>6</td>\n",
       "      <td>14</td>\n",
       "    </tr>\n",
       "    <tr>\n",
       "      <th>1</th>\n",
       "      <td>cpi-2212-85pm</td>\n",
       "      <td>alarms-buzzers-and-sirens</td>\n",
       "      <td>9</td>\n",
       "      <td>0.700000</td>\n",
       "      <td>2</td>\n",
       "      <td>6</td>\n",
       "      <td>15</td>\n",
       "    </tr>\n",
       "    <tr>\n",
       "      <th>2</th>\n",
       "      <td>106765806</td>\n",
       "      <td>cable-ties-zip-ties</td>\n",
       "      <td>1</td>\n",
       "      <td>1.192675</td>\n",
       "      <td>4</td>\n",
       "      <td>8</td>\n",
       "      <td>14</td>\n",
       "    </tr>\n",
       "    <tr>\n",
       "      <th>3</th>\n",
       "      <td>a4cec9f14f3566555c97c0046b10048597120954</td>\n",
       "      <td>coaxial-cables-rf</td>\n",
       "      <td>14</td>\n",
       "      <td>0.403128</td>\n",
       "      <td>2</td>\n",
       "      <td>4</td>\n",
       "      <td>10</td>\n",
       "    </tr>\n",
       "    <tr>\n",
       "      <th>4</th>\n",
       "      <td>1b3c3c99b9be83ca11f01be323700b027a38ccdd</td>\n",
       "      <td>controller-accesories</td>\n",
       "      <td>6</td>\n",
       "      <td>0.700000</td>\n",
       "      <td>5</td>\n",
       "      <td>10</td>\n",
       "      <td>15</td>\n",
       "    </tr>\n",
       "    <tr>\n",
       "      <th>5</th>\n",
       "      <td>58f5bac3-3d38-43b1-b6d1-60bac2a5569a</td>\n",
       "      <td>microphones</td>\n",
       "      <td>9</td>\n",
       "      <td>0.852338</td>\n",
       "      <td>5</td>\n",
       "      <td>10</td>\n",
       "      <td>17</td>\n",
       "    </tr>\n",
       "    <tr>\n",
       "      <th>6</th>\n",
       "      <td>96PR-102-UB3-M_datasheet20180225090037</td>\n",
       "      <td>printers-label-makers</td>\n",
       "      <td>1</td>\n",
       "      <td>1.429920</td>\n",
       "      <td>5</td>\n",
       "      <td>10</td>\n",
       "      <td>20</td>\n",
       "    </tr>\n",
       "    <tr>\n",
       "      <th>7</th>\n",
       "      <td>ces-20134-088pm</td>\n",
       "      <td>speakers</td>\n",
       "      <td>77</td>\n",
       "      <td>0.257165</td>\n",
       "      <td>4</td>\n",
       "      <td>9</td>\n",
       "      <td>17</td>\n",
       "    </tr>\n",
       "    <tr>\n",
       "      <th>8</th>\n",
       "      <td>LR43-DATASHEET</td>\n",
       "      <td>batteries-non-rechargable-primary</td>\n",
       "      <td>17</td>\n",
       "      <td>0.426781</td>\n",
       "      <td>5</td>\n",
       "      <td>9</td>\n",
       "      <td>19</td>\n",
       "    </tr>\n",
       "    <tr>\n",
       "      <th>9</th>\n",
       "      <td>cds-25148</td>\n",
       "      <td>speakers</td>\n",
       "      <td>25</td>\n",
       "      <td>0.354054</td>\n",
       "      <td>4</td>\n",
       "      <td>6</td>\n",
       "      <td>12</td>\n",
       "    </tr>\n",
       "  </tbody>\n",
       "</table>\n",
       "</div>"
      ]
     },
     "metadata": {},
     "output_type": "display_data"
    },
    {
     "data": {
      "text/plain": [
       "       max       min  median\n",
       "0  1.42992  0.257165     0.7"
      ],
      "text/html": [
       "<div>\n",
       "<style scoped>\n",
       "    .dataframe tbody tr th:only-of-type {\n",
       "        vertical-align: middle;\n",
       "    }\n",
       "\n",
       "    .dataframe tbody tr th {\n",
       "        vertical-align: top;\n",
       "    }\n",
       "\n",
       "    .dataframe thead th {\n",
       "        text-align: right;\n",
       "    }\n",
       "</style>\n",
       "<table border=\"1\" class=\"dataframe\">\n",
       "  <thead>\n",
       "    <tr style=\"text-align: right;\">\n",
       "      <th></th>\n",
       "      <th>max</th>\n",
       "      <th>min</th>\n",
       "      <th>median</th>\n",
       "    </tr>\n",
       "  </thead>\n",
       "  <tbody>\n",
       "    <tr>\n",
       "      <th>0</th>\n",
       "      <td>1.42992</td>\n",
       "      <td>0.257165</td>\n",
       "      <td>0.7</td>\n",
       "    </tr>\n",
       "  </tbody>\n",
       "</table>\n",
       "</div>"
      ]
     },
     "metadata": {},
     "output_type": "display_data"
    },
    {
     "data": {
      "text/plain": [
       "    rank                                   doc_id  \\\n",
       "0      1     d9e2b7a7-5099-4612-b90a-796f8295ffd5   \n",
       "1      2     8373d9aa-424a-4cf8-add9-8655f7a6700f   \n",
       "2      3         maxell-alkaline-battery-002-2014   \n",
       "3      4                                     1cr2   \n",
       "4      5                   SR41-392-384-DATASHEET   \n",
       "..   ...                                      ...   \n",
       "95    96                            MN1300_US_CT1   \n",
       "96    97  96PR-102-UBM3-M_datasheet20190707090023   \n",
       "97    98      Toshiba%20Tech%20Data%20LR44%202022   \n",
       "98    99         Zeus_Alkaline_C_RevV2_spec_sheet   \n",
       "99   100                     EM-4015N-14-Feb-2019   \n",
       "\n",
       "                                label     score  \n",
       "0                         microphones  1.040747  \n",
       "1                         microphones  0.978891  \n",
       "2   batteries-non-rechargable-primary  0.965849  \n",
       "3   batteries-non-rechargable-primary  0.958672  \n",
       "4   batteries-non-rechargable-primary  0.745547  \n",
       "..                                ...       ...  \n",
       "95  batteries-non-rechargable-primary  0.031880  \n",
       "96              printers-label-makers  0.029852  \n",
       "97  batteries-non-rechargable-primary  0.028722  \n",
       "98  batteries-non-rechargable-primary  0.024920  \n",
       "99                        microphones  0.024779  \n",
       "\n",
       "[100 rows x 4 columns]"
      ],
      "text/html": [
       "<div>\n",
       "<style scoped>\n",
       "    .dataframe tbody tr th:only-of-type {\n",
       "        vertical-align: middle;\n",
       "    }\n",
       "\n",
       "    .dataframe tbody tr th {\n",
       "        vertical-align: top;\n",
       "    }\n",
       "\n",
       "    .dataframe thead th {\n",
       "        text-align: right;\n",
       "    }\n",
       "</style>\n",
       "<table border=\"1\" class=\"dataframe\">\n",
       "  <thead>\n",
       "    <tr style=\"text-align: right;\">\n",
       "      <th></th>\n",
       "      <th>rank</th>\n",
       "      <th>doc_id</th>\n",
       "      <th>label</th>\n",
       "      <th>score</th>\n",
       "    </tr>\n",
       "  </thead>\n",
       "  <tbody>\n",
       "    <tr>\n",
       "      <th>0</th>\n",
       "      <td>1</td>\n",
       "      <td>d9e2b7a7-5099-4612-b90a-796f8295ffd5</td>\n",
       "      <td>microphones</td>\n",
       "      <td>1.040747</td>\n",
       "    </tr>\n",
       "    <tr>\n",
       "      <th>1</th>\n",
       "      <td>2</td>\n",
       "      <td>8373d9aa-424a-4cf8-add9-8655f7a6700f</td>\n",
       "      <td>microphones</td>\n",
       "      <td>0.978891</td>\n",
       "    </tr>\n",
       "    <tr>\n",
       "      <th>2</th>\n",
       "      <td>3</td>\n",
       "      <td>maxell-alkaline-battery-002-2014</td>\n",
       "      <td>batteries-non-rechargable-primary</td>\n",
       "      <td>0.965849</td>\n",
       "    </tr>\n",
       "    <tr>\n",
       "      <th>3</th>\n",
       "      <td>4</td>\n",
       "      <td>1cr2</td>\n",
       "      <td>batteries-non-rechargable-primary</td>\n",
       "      <td>0.958672</td>\n",
       "    </tr>\n",
       "    <tr>\n",
       "      <th>4</th>\n",
       "      <td>5</td>\n",
       "      <td>SR41-392-384-DATASHEET</td>\n",
       "      <td>batteries-non-rechargable-primary</td>\n",
       "      <td>0.745547</td>\n",
       "    </tr>\n",
       "    <tr>\n",
       "      <th>...</th>\n",
       "      <td>...</td>\n",
       "      <td>...</td>\n",
       "      <td>...</td>\n",
       "      <td>...</td>\n",
       "    </tr>\n",
       "    <tr>\n",
       "      <th>95</th>\n",
       "      <td>96</td>\n",
       "      <td>MN1300_US_CT1</td>\n",
       "      <td>batteries-non-rechargable-primary</td>\n",
       "      <td>0.031880</td>\n",
       "    </tr>\n",
       "    <tr>\n",
       "      <th>96</th>\n",
       "      <td>97</td>\n",
       "      <td>96PR-102-UBM3-M_datasheet20190707090023</td>\n",
       "      <td>printers-label-makers</td>\n",
       "      <td>0.029852</td>\n",
       "    </tr>\n",
       "    <tr>\n",
       "      <th>97</th>\n",
       "      <td>98</td>\n",
       "      <td>Toshiba%20Tech%20Data%20LR44%202022</td>\n",
       "      <td>batteries-non-rechargable-primary</td>\n",
       "      <td>0.028722</td>\n",
       "    </tr>\n",
       "    <tr>\n",
       "      <th>98</th>\n",
       "      <td>99</td>\n",
       "      <td>Zeus_Alkaline_C_RevV2_spec_sheet</td>\n",
       "      <td>batteries-non-rechargable-primary</td>\n",
       "      <td>0.024920</td>\n",
       "    </tr>\n",
       "    <tr>\n",
       "      <th>99</th>\n",
       "      <td>100</td>\n",
       "      <td>EM-4015N-14-Feb-2019</td>\n",
       "      <td>microphones</td>\n",
       "      <td>0.024779</td>\n",
       "    </tr>\n",
       "  </tbody>\n",
       "</table>\n",
       "<p>100 rows × 4 columns</p>\n",
       "</div>"
      ]
     },
     "metadata": {},
     "output_type": "display_data"
    }
   ],
   "execution_count": 14
  },
  {
   "metadata": {
    "ExecuteTime": {
     "end_time": "2025-06-13T10:41:10.424514Z",
     "start_time": "2025-06-13T10:41:10.418397Z"
    }
   },
   "cell_type": "code",
   "source": [
    "import pickle\n",
    "save_file = '../02-data/06-Evaluation/norm_eval.pkl'\n",
    "dfs = {\n",
    "    'minmax/zs': hybrid_statistics['per_record'],\n",
    "    'minmax/minmax' : hybrid_statistics1['per_record'],\n",
    "    'zs/zs' : hybrid_statistics2['per_record'],\n",
    "    'zs/minmax' : hybrid_statistics3['per_record']\n",
    "}\n",
    "with open(save_file, 'wb') as f:\n",
    "    pickle.dump(dfs, f)"
   ],
   "id": "9f2ac3b448aaf327",
   "outputs": [],
   "execution_count": 16
  },
  {
   "metadata": {},
   "cell_type": "markdown",
   "source": [
    "--------------------------\n",
    "## Rerank evaluation ( BM25 - VSM )\n"
   ],
   "id": "87bc3301102144d4"
  },
  {
   "metadata": {
    "ExecuteTime": {
     "end_time": "2025-06-05T19:21:06.769733Z",
     "start_time": "2025-06-05T19:17:54.947548Z"
    }
   },
   "cell_type": "code",
   "source": [
    "importlib.reload(aux_retrieval)\n",
    "importlib.reload(data)\n",
    "logger = logging.getLogger(__name__)\n",
    "\n",
    "rerank_records = []\n",
    "top_k = 50\n",
    "use_multivector = True\n",
    "\n",
    "for section in query_list_documents:\n",
    "\n",
    "    rerank_results:QueryResult = aux_retrieval.run_hybrid_query(\n",
    "        paths = paths,\n",
    "        query = section.query,\n",
    "        top_k = top_k,\n",
    "        use_multivector = use_multivector\n",
    "    )\n",
    "\n",
    "    rerank_records.append({\n",
    "        \"doc\":    section.doc,\n",
    "        \"label\":  section.label,\n",
    "        \"query\":  section.query,\n",
    "        \"result\": rerank_results\n",
    "    })"
   ],
   "id": "91d64f41d728f548",
   "outputs": [
    {
     "data": {
      "text/plain": [
       "Split strings:   0%|          | 0/1 [00:00<?, ?it/s]"
      ],
      "application/vnd.jupyter.widget-view+json": {
       "version_major": 2,
       "version_minor": 0,
       "model_id": "5a6a61f812724339b1d2a001a9300532"
      }
     },
     "metadata": {},
     "output_type": "display_data"
    },
    {
     "data": {
      "text/plain": [
       "BM25S Retrieve:   0%|          | 0/1 [00:00<?, ?it/s]"
      ],
      "application/vnd.jupyter.widget-view+json": {
       "version_major": 2,
       "version_minor": 0,
       "model_id": "b9480f4fa438467bb1a517d710b0bb60"
      }
     },
     "metadata": {},
     "output_type": "display_data"
    },
    {
     "data": {
      "text/plain": [
       "Split strings:   0%|          | 0/1 [00:00<?, ?it/s]"
      ],
      "application/vnd.jupyter.widget-view+json": {
       "version_major": 2,
       "version_minor": 0,
       "model_id": "1e5a48a617854e649ed5bcd795d90ef0"
      }
     },
     "metadata": {},
     "output_type": "display_data"
    },
    {
     "data": {
      "text/plain": [
       "BM25S Retrieve:   0%|          | 0/1 [00:00<?, ?it/s]"
      ],
      "application/vnd.jupyter.widget-view+json": {
       "version_major": 2,
       "version_minor": 0,
       "model_id": "cdb4cf75408241e3a2ad6bc54fdd38d5"
      }
     },
     "metadata": {},
     "output_type": "display_data"
    },
    {
     "data": {
      "text/plain": [
       "Split strings:   0%|          | 0/1 [00:00<?, ?it/s]"
      ],
      "application/vnd.jupyter.widget-view+json": {
       "version_major": 2,
       "version_minor": 0,
       "model_id": "91a4e06bfcf440cdbf4d547330ca2b58"
      }
     },
     "metadata": {},
     "output_type": "display_data"
    },
    {
     "data": {
      "text/plain": [
       "BM25S Retrieve:   0%|          | 0/1 [00:00<?, ?it/s]"
      ],
      "application/vnd.jupyter.widget-view+json": {
       "version_major": 2,
       "version_minor": 0,
       "model_id": "780deb596a7d4736880813ba1439e721"
      }
     },
     "metadata": {},
     "output_type": "display_data"
    },
    {
     "data": {
      "text/plain": [
       "Split strings:   0%|          | 0/1 [00:00<?, ?it/s]"
      ],
      "application/vnd.jupyter.widget-view+json": {
       "version_major": 2,
       "version_minor": 0,
       "model_id": "e98938202b284f7f8361ca610186eb37"
      }
     },
     "metadata": {},
     "output_type": "display_data"
    },
    {
     "data": {
      "text/plain": [
       "BM25S Retrieve:   0%|          | 0/1 [00:00<?, ?it/s]"
      ],
      "application/vnd.jupyter.widget-view+json": {
       "version_major": 2,
       "version_minor": 0,
       "model_id": "3856a5ff84a84f68bb886cffbf207968"
      }
     },
     "metadata": {},
     "output_type": "display_data"
    },
    {
     "data": {
      "text/plain": [
       "Split strings:   0%|          | 0/1 [00:00<?, ?it/s]"
      ],
      "application/vnd.jupyter.widget-view+json": {
       "version_major": 2,
       "version_minor": 0,
       "model_id": "2d112b1397f84eb4942167882bed2b16"
      }
     },
     "metadata": {},
     "output_type": "display_data"
    },
    {
     "data": {
      "text/plain": [
       "BM25S Retrieve:   0%|          | 0/1 [00:00<?, ?it/s]"
      ],
      "application/vnd.jupyter.widget-view+json": {
       "version_major": 2,
       "version_minor": 0,
       "model_id": "1bc04ab8e1274368b3ff4f0ddb252ec9"
      }
     },
     "metadata": {},
     "output_type": "display_data"
    },
    {
     "data": {
      "text/plain": [
       "Split strings:   0%|          | 0/1 [00:00<?, ?it/s]"
      ],
      "application/vnd.jupyter.widget-view+json": {
       "version_major": 2,
       "version_minor": 0,
       "model_id": "34bf2e307f564795aa3995c7fe916112"
      }
     },
     "metadata": {},
     "output_type": "display_data"
    },
    {
     "data": {
      "text/plain": [
       "BM25S Retrieve:   0%|          | 0/1 [00:00<?, ?it/s]"
      ],
      "application/vnd.jupyter.widget-view+json": {
       "version_major": 2,
       "version_minor": 0,
       "model_id": "16b50f9185b3449bb376d6cb359e17bf"
      }
     },
     "metadata": {},
     "output_type": "display_data"
    },
    {
     "data": {
      "text/plain": [
       "Split strings:   0%|          | 0/1 [00:00<?, ?it/s]"
      ],
      "application/vnd.jupyter.widget-view+json": {
       "version_major": 2,
       "version_minor": 0,
       "model_id": "b79a97140c9e4216be61eabf8d056a71"
      }
     },
     "metadata": {},
     "output_type": "display_data"
    },
    {
     "data": {
      "text/plain": [
       "BM25S Retrieve:   0%|          | 0/1 [00:00<?, ?it/s]"
      ],
      "application/vnd.jupyter.widget-view+json": {
       "version_major": 2,
       "version_minor": 0,
       "model_id": "1eaa7f41a9cc44adbcf91fde2722b486"
      }
     },
     "metadata": {},
     "output_type": "display_data"
    },
    {
     "data": {
      "text/plain": [
       "Split strings:   0%|          | 0/1 [00:00<?, ?it/s]"
      ],
      "application/vnd.jupyter.widget-view+json": {
       "version_major": 2,
       "version_minor": 0,
       "model_id": "6c714e6f78594b2c91a6e23f6e11cc52"
      }
     },
     "metadata": {},
     "output_type": "display_data"
    },
    {
     "data": {
      "text/plain": [
       "BM25S Retrieve:   0%|          | 0/1 [00:00<?, ?it/s]"
      ],
      "application/vnd.jupyter.widget-view+json": {
       "version_major": 2,
       "version_minor": 0,
       "model_id": "850fac3075f44d2fa840126b39b7ae51"
      }
     },
     "metadata": {},
     "output_type": "display_data"
    },
    {
     "data": {
      "text/plain": [
       "Split strings:   0%|          | 0/1 [00:00<?, ?it/s]"
      ],
      "application/vnd.jupyter.widget-view+json": {
       "version_major": 2,
       "version_minor": 0,
       "model_id": "cf17440d2b3b4598b2279c43d00b0cb8"
      }
     },
     "metadata": {},
     "output_type": "display_data"
    },
    {
     "data": {
      "text/plain": [
       "BM25S Retrieve:   0%|          | 0/1 [00:00<?, ?it/s]"
      ],
      "application/vnd.jupyter.widget-view+json": {
       "version_major": 2,
       "version_minor": 0,
       "model_id": "be25aa26cdd54ff69a325217bbc1cb1d"
      }
     },
     "metadata": {},
     "output_type": "display_data"
    },
    {
     "data": {
      "text/plain": [
       "Split strings:   0%|          | 0/1 [00:00<?, ?it/s]"
      ],
      "application/vnd.jupyter.widget-view+json": {
       "version_major": 2,
       "version_minor": 0,
       "model_id": "0db1a644b8744aa7848c693e54fad99b"
      }
     },
     "metadata": {},
     "output_type": "display_data"
    },
    {
     "data": {
      "text/plain": [
       "BM25S Retrieve:   0%|          | 0/1 [00:00<?, ?it/s]"
      ],
      "application/vnd.jupyter.widget-view+json": {
       "version_major": 2,
       "version_minor": 0,
       "model_id": "7b43aaeddbc9405894e00d64e7febde7"
      }
     },
     "metadata": {},
     "output_type": "display_data"
    }
   ],
   "execution_count": 101
  },
  {
   "metadata": {
    "ExecuteTime": {
     "end_time": "2025-06-05T19:21:06.846396Z",
     "start_time": "2025-06-05T19:21:06.822252Z"
    }
   },
   "cell_type": "code",
   "source": [
    "rerank_statistics = aux_retrieval.compute_query_run_stats(rerank_records)\n",
    "display(rerank_statistics['per_record'])\n",
    "display(rerank_statistics['score_stats'])\n",
    "\n",
    "#if you want to look at one specific record\n",
    "rerank_data = pd.DataFrame(data = rerank_records[0]['result'].results.documents)\n",
    "display(rerank_data[:5])\n",
    "    "
   ],
   "id": "98f69e25d13e79b3",
   "outputs": [
    {
     "data": {
      "text/plain": [
       "                                        doc  \\\n",
       "0                                      1cr2   \n",
       "1                             cpi-2212-85pm   \n",
       "2                                 106765806   \n",
       "3  a4cec9f14f3566555c97c0046b10048597120954   \n",
       "4  1b3c3c99b9be83ca11f01be323700b027a38ccdd   \n",
       "5      58f5bac3-3d38-43b1-b6d1-60bac2a5569a   \n",
       "6    96PR-102-UB3-M_datasheet20180225090037   \n",
       "7                           ces-20134-088pm   \n",
       "8                            LR43-DATASHEET   \n",
       "9                                 cds-25148   \n",
       "\n",
       "                               label  rank     score  label_count_top_5  \\\n",
       "0  batteries-non-rechargable-primary   1.0  0.690095                  4   \n",
       "1          alarms-buzzers-and-sirens   1.0  0.449107                  5   \n",
       "2                cable-ties-zip-ties   2.0  0.576980                  5   \n",
       "3                  coaxial-cables-rf   7.0  0.698036                  1   \n",
       "4              controller-accesories  22.0  0.000000                  4   \n",
       "5                        microphones  11.0  0.632503                  4   \n",
       "6              printers-label-makers   3.0  0.663774                  5   \n",
       "7                           speakers   NaN       NaN                  5   \n",
       "8  batteries-non-rechargable-primary  38.0  0.000000                  5   \n",
       "9                           speakers   5.0  0.526992                  5   \n",
       "\n",
       "   label_count_top_10  label_count_top_20  \n",
       "0                   9                  14  \n",
       "1                  10                  20  \n",
       "2                   8                  14  \n",
       "3                   4                   9  \n",
       "4                   9                  17  \n",
       "5                   9                  17  \n",
       "6                  10                  19  \n",
       "7                  10                  20  \n",
       "8                  10                  20  \n",
       "9                   9                  16  "
      ],
      "text/html": [
       "<div>\n",
       "<style scoped>\n",
       "    .dataframe tbody tr th:only-of-type {\n",
       "        vertical-align: middle;\n",
       "    }\n",
       "\n",
       "    .dataframe tbody tr th {\n",
       "        vertical-align: top;\n",
       "    }\n",
       "\n",
       "    .dataframe thead th {\n",
       "        text-align: right;\n",
       "    }\n",
       "</style>\n",
       "<table border=\"1\" class=\"dataframe\">\n",
       "  <thead>\n",
       "    <tr style=\"text-align: right;\">\n",
       "      <th></th>\n",
       "      <th>doc</th>\n",
       "      <th>label</th>\n",
       "      <th>rank</th>\n",
       "      <th>score</th>\n",
       "      <th>label_count_top_5</th>\n",
       "      <th>label_count_top_10</th>\n",
       "      <th>label_count_top_20</th>\n",
       "    </tr>\n",
       "  </thead>\n",
       "  <tbody>\n",
       "    <tr>\n",
       "      <th>0</th>\n",
       "      <td>1cr2</td>\n",
       "      <td>batteries-non-rechargable-primary</td>\n",
       "      <td>1.0</td>\n",
       "      <td>0.690095</td>\n",
       "      <td>4</td>\n",
       "      <td>9</td>\n",
       "      <td>14</td>\n",
       "    </tr>\n",
       "    <tr>\n",
       "      <th>1</th>\n",
       "      <td>cpi-2212-85pm</td>\n",
       "      <td>alarms-buzzers-and-sirens</td>\n",
       "      <td>1.0</td>\n",
       "      <td>0.449107</td>\n",
       "      <td>5</td>\n",
       "      <td>10</td>\n",
       "      <td>20</td>\n",
       "    </tr>\n",
       "    <tr>\n",
       "      <th>2</th>\n",
       "      <td>106765806</td>\n",
       "      <td>cable-ties-zip-ties</td>\n",
       "      <td>2.0</td>\n",
       "      <td>0.576980</td>\n",
       "      <td>5</td>\n",
       "      <td>8</td>\n",
       "      <td>14</td>\n",
       "    </tr>\n",
       "    <tr>\n",
       "      <th>3</th>\n",
       "      <td>a4cec9f14f3566555c97c0046b10048597120954</td>\n",
       "      <td>coaxial-cables-rf</td>\n",
       "      <td>7.0</td>\n",
       "      <td>0.698036</td>\n",
       "      <td>1</td>\n",
       "      <td>4</td>\n",
       "      <td>9</td>\n",
       "    </tr>\n",
       "    <tr>\n",
       "      <th>4</th>\n",
       "      <td>1b3c3c99b9be83ca11f01be323700b027a38ccdd</td>\n",
       "      <td>controller-accesories</td>\n",
       "      <td>22.0</td>\n",
       "      <td>0.000000</td>\n",
       "      <td>4</td>\n",
       "      <td>9</td>\n",
       "      <td>17</td>\n",
       "    </tr>\n",
       "    <tr>\n",
       "      <th>5</th>\n",
       "      <td>58f5bac3-3d38-43b1-b6d1-60bac2a5569a</td>\n",
       "      <td>microphones</td>\n",
       "      <td>11.0</td>\n",
       "      <td>0.632503</td>\n",
       "      <td>4</td>\n",
       "      <td>9</td>\n",
       "      <td>17</td>\n",
       "    </tr>\n",
       "    <tr>\n",
       "      <th>6</th>\n",
       "      <td>96PR-102-UB3-M_datasheet20180225090037</td>\n",
       "      <td>printers-label-makers</td>\n",
       "      <td>3.0</td>\n",
       "      <td>0.663774</td>\n",
       "      <td>5</td>\n",
       "      <td>10</td>\n",
       "      <td>19</td>\n",
       "    </tr>\n",
       "    <tr>\n",
       "      <th>7</th>\n",
       "      <td>ces-20134-088pm</td>\n",
       "      <td>speakers</td>\n",
       "      <td>NaN</td>\n",
       "      <td>NaN</td>\n",
       "      <td>5</td>\n",
       "      <td>10</td>\n",
       "      <td>20</td>\n",
       "    </tr>\n",
       "    <tr>\n",
       "      <th>8</th>\n",
       "      <td>LR43-DATASHEET</td>\n",
       "      <td>batteries-non-rechargable-primary</td>\n",
       "      <td>38.0</td>\n",
       "      <td>0.000000</td>\n",
       "      <td>5</td>\n",
       "      <td>10</td>\n",
       "      <td>20</td>\n",
       "    </tr>\n",
       "    <tr>\n",
       "      <th>9</th>\n",
       "      <td>cds-25148</td>\n",
       "      <td>speakers</td>\n",
       "      <td>5.0</td>\n",
       "      <td>0.526992</td>\n",
       "      <td>5</td>\n",
       "      <td>9</td>\n",
       "      <td>16</td>\n",
       "    </tr>\n",
       "  </tbody>\n",
       "</table>\n",
       "</div>"
      ]
     },
     "metadata": {},
     "output_type": "display_data"
    },
    {
     "data": {
      "text/plain": [
       "        max  min   median\n",
       "0  0.698036  0.0  0.57698"
      ],
      "text/html": [
       "<div>\n",
       "<style scoped>\n",
       "    .dataframe tbody tr th:only-of-type {\n",
       "        vertical-align: middle;\n",
       "    }\n",
       "\n",
       "    .dataframe tbody tr th {\n",
       "        vertical-align: top;\n",
       "    }\n",
       "\n",
       "    .dataframe thead th {\n",
       "        text-align: right;\n",
       "    }\n",
       "</style>\n",
       "<table border=\"1\" class=\"dataframe\">\n",
       "  <thead>\n",
       "    <tr style=\"text-align: right;\">\n",
       "      <th></th>\n",
       "      <th>max</th>\n",
       "      <th>min</th>\n",
       "      <th>median</th>\n",
       "    </tr>\n",
       "  </thead>\n",
       "  <tbody>\n",
       "    <tr>\n",
       "      <th>0</th>\n",
       "      <td>0.698036</td>\n",
       "      <td>0.0</td>\n",
       "      <td>0.57698</td>\n",
       "    </tr>\n",
       "  </tbody>\n",
       "</table>\n",
       "</div>"
      ]
     },
     "metadata": {},
     "output_type": "display_data"
    },
    {
     "data": {
      "text/plain": [
       "   rank                                doc_id  \\\n",
       "0     1                                  1cr2   \n",
       "1     2                                   123   \n",
       "2     3  8373d9aa-424a-4cf8-add9-8655f7a6700f   \n",
       "3     4                                   l91   \n",
       "4     5      maxell-alkaline-battery-002-2014   \n",
       "\n",
       "                               label     score  \n",
       "0  batteries-non-rechargable-primary  0.690095  \n",
       "1  batteries-non-rechargable-primary  0.678843  \n",
       "2                        microphones  0.673900  \n",
       "3  batteries-non-rechargable-primary  0.669383  \n",
       "4  batteries-non-rechargable-primary  0.669118  "
      ],
      "text/html": [
       "<div>\n",
       "<style scoped>\n",
       "    .dataframe tbody tr th:only-of-type {\n",
       "        vertical-align: middle;\n",
       "    }\n",
       "\n",
       "    .dataframe tbody tr th {\n",
       "        vertical-align: top;\n",
       "    }\n",
       "\n",
       "    .dataframe thead th {\n",
       "        text-align: right;\n",
       "    }\n",
       "</style>\n",
       "<table border=\"1\" class=\"dataframe\">\n",
       "  <thead>\n",
       "    <tr style=\"text-align: right;\">\n",
       "      <th></th>\n",
       "      <th>rank</th>\n",
       "      <th>doc_id</th>\n",
       "      <th>label</th>\n",
       "      <th>score</th>\n",
       "    </tr>\n",
       "  </thead>\n",
       "  <tbody>\n",
       "    <tr>\n",
       "      <th>0</th>\n",
       "      <td>1</td>\n",
       "      <td>1cr2</td>\n",
       "      <td>batteries-non-rechargable-primary</td>\n",
       "      <td>0.690095</td>\n",
       "    </tr>\n",
       "    <tr>\n",
       "      <th>1</th>\n",
       "      <td>2</td>\n",
       "      <td>123</td>\n",
       "      <td>batteries-non-rechargable-primary</td>\n",
       "      <td>0.678843</td>\n",
       "    </tr>\n",
       "    <tr>\n",
       "      <th>2</th>\n",
       "      <td>3</td>\n",
       "      <td>8373d9aa-424a-4cf8-add9-8655f7a6700f</td>\n",
       "      <td>microphones</td>\n",
       "      <td>0.673900</td>\n",
       "    </tr>\n",
       "    <tr>\n",
       "      <th>3</th>\n",
       "      <td>4</td>\n",
       "      <td>l91</td>\n",
       "      <td>batteries-non-rechargable-primary</td>\n",
       "      <td>0.669383</td>\n",
       "    </tr>\n",
       "    <tr>\n",
       "      <th>4</th>\n",
       "      <td>5</td>\n",
       "      <td>maxell-alkaline-battery-002-2014</td>\n",
       "      <td>batteries-non-rechargable-primary</td>\n",
       "      <td>0.669118</td>\n",
       "    </tr>\n",
       "  </tbody>\n",
       "</table>\n",
       "</div>"
      ]
     },
     "metadata": {},
     "output_type": "display_data"
    }
   ],
   "execution_count": 102
  },
  {
   "metadata": {
    "ExecuteTime": {
     "end_time": "2025-06-05T19:21:06.926685Z",
     "start_time": "2025-06-05T19:21:06.921446Z"
    }
   },
   "cell_type": "code",
   "source": [
    "import pickle\n",
    "\n",
    "# Save DataFrames\n",
    "dfs = {\n",
    "    'hybrid_statistics': hybrid_statistics['per_record'],\n",
    "    'rrf_statistics': rrf_statistics['per_record'],\n",
    "    'bm25_statistics': bm25_statistics['per_record'],\n",
    "    'vsm_statistics': vsm_statistics['per_record'],\n",
    "    'rerank_statistics': rerank_statistics['per_record']\n",
    "}\n",
    "with open(save_file, 'wb') as f:\n",
    "    pickle.dump(dfs, f)"
   ],
   "id": "bce8ded4c03b6997",
   "outputs": [],
   "execution_count": 103
  },
  {
   "metadata": {},
   "cell_type": "markdown",
   "source": [
    "--------------\n",
    "### Run all models and get the results back"
   ],
   "id": "775ae9f52d1b7060"
  },
  {
   "metadata": {
    "ExecuteTime": {
     "end_time": "2025-06-05T19:21:07.146209Z",
     "start_time": "2025-06-05T19:21:07.142254Z"
    }
   },
   "cell_type": "code",
   "source": [
    "import pickle\n",
    "\n",
    "run = False\n",
    "\n",
    "if run:\n",
    "    \n",
    "    statistics_results = aux_retrieval.run_all_models(query_list_documents, paths, use_expansion=use_expansion, use_multivector=use_multivector,)\n",
    "    display(statistics_results['bm25_statistics'])\n",
    "    \n",
    "    with open(save_path, 'wb') as f:\n",
    "        pickle.dump(statistics_results, f)"
   ],
   "id": "96729b1c9190afa9",
   "outputs": [],
   "execution_count": 104
  }
 ],
 "metadata": {
  "kernelspec": {
   "display_name": "Python 3",
   "language": "python",
   "name": "python3"
  },
  "language_info": {
   "codemirror_mode": {
    "name": "ipython",
    "version": 2
   },
   "file_extension": ".py",
   "mimetype": "text/x-python",
   "name": "python",
   "nbconvert_exporter": "python",
   "pygments_lexer": "ipython2",
   "version": "2.7.6"
  }
 },
 "nbformat": 4,
 "nbformat_minor": 5
}
