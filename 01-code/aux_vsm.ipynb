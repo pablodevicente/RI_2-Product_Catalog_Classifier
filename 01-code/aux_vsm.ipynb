{
 "cells": [
  {
   "metadata": {},
   "cell_type": "markdown",
   "source": [
    "# **Vector Space Model (VSM) Evaluation Notebook**\n",
    "\n",
    "## **Objective**\n",
    "This notebook will serve as the testing site for comparing different **Vector Space Model (VSM) approaches** using various word embeddings.\n",
    "\n",
    "## **Approaches Compared**\n",
    "1. **Word2Vec Pretrained**  \n",
    "2. **Word2Vec Fine-tuned (Pretrained + Own Data)**  \n",
    "3. **Word2Vec Trained from Scratch on Own Data**  \n",
    "4. **GloVe**  \n",
    "5. **FastText**  \n",
    "\n",
    "## **Evaluation Methods**\n",
    "Each method will be evaluated using the following criteria:\n",
    "\n",
    "### **A. Word Similarity Evaluation**\n",
    "Measure the similarity between words using cosine similarity.\n",
    "\n",
    "```python\n",
    "print(word2vec_model.similarity(\"car\", \"vehicle\"))\n",
    "print(glove_model.similarity(\"car\", \"vehicle\"))\n",
    "print(custom_word2vec.wv.similarity(\"car\", \"vehicle\"))\n",
    "```\n",
    "\n",
    "### **B. Document Vector Representation**\n",
    "Compute document vectors by averaging the word embeddings of the words they contain.\n",
    "\n",
    "```python\n",
    "import numpy as np\n",
    "from nltk.tokenize import word_tokenize\n",
    "\n",
    "def get_document_vector(model, text):\n",
    "    words = word_tokenize(text.lower())\n",
    "    vectors = [model.wv[word] for word in words if word in model.wv]\n",
    "    return np.mean(vectors, axis=0) if vectors else np.zeros(model.vector_size)\n",
    "\n",
    "doc_vector = get_document_vector(word2vec_model, \"This is a test document.\")\n",
    "```\n",
    "\n",
    "### **C. Clustering (K-Means)**\n",
    "Cluster documents using K-Means clustering based on their computed document vectors.\n",
    "```python\n",
    "from sklearn.cluster import KMeans\n",
    "\n",
    "# Example document vectors\n",
    "doc_vectors = [get_document_vector(word2vec_model, doc) for doc in documents]\n",
    "\n",
    "# Apply K-Means clustering\n",
    "kmeans = KMeans(n_clusters=2, random_state=42)\n",
    "clusters = kmeans.fit_predict(doc_vectors)\n",
    "\n",
    "print(\"Cluster assignments:\", clusters)\n",
    "```\n",
    "\n",
    "### **D. Text Classification**\n",
    "Use document embeddings as input for a classification model and evaluate its accuracy. (finally)\n",
    "\n",
    "\n",
    "```python\n",
    "\n",
    "```\n",
    "\n"
   ],
   "id": "48b8d5d034b0af9d"
  },
  {
   "cell_type": "code",
   "execution_count": null,
   "id": "initial_id",
   "metadata": {
    "collapsed": true
   },
   "outputs": [],
   "source": [
    ""
   ]
  }
 ],
 "metadata": {
  "kernelspec": {
   "display_name": "Python 3",
   "language": "python",
   "name": "python3"
  },
  "language_info": {
   "codemirror_mode": {
    "name": "ipython",
    "version": 2
   },
   "file_extension": ".py",
   "mimetype": "text/x-python",
   "name": "python",
   "nbconvert_exporter": "python",
   "pygments_lexer": "ipython2",
   "version": "2.7.6"
  }
 },
 "nbformat": 4,
 "nbformat_minor": 5
}
